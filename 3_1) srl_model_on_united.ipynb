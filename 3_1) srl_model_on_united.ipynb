{
 "cells": [
  {
   "attachments": {},
   "cell_type": "markdown",
   "metadata": {},
   "source": [
    "In this notebook, I will train and test my custom SRL model on the UniteD-SRL dataset in order to have a baseline for the noUniteD-SRL dataset creation."
   ]
  },
  {
   "cell_type": "markdown",
   "id": "3fe2040e",
   "metadata": {
    "papermill": {
     "duration": 0.078963,
     "end_time": "2022-03-31T22:14:09.386664",
     "exception": false,
     "start_time": "2022-03-31T22:14:09.307701",
     "status": "completed"
    },
    "tags": []
   },
   "source": [
    "# Prerequisites"
   ]
  },
  {
   "cell_type": "code",
   "execution_count": 1,
   "metadata": {},
   "outputs": [
    {
     "name": "stderr",
     "output_type": "stream",
     "text": [
      "/home/marco/miniconda3/envs/nuans_minihw2/lib/python3.9/site-packages/tqdm/auto.py:22: TqdmWarning: IProgress not found. Please update jupyter and ipywidgets. See https://ipywidgets.readthedocs.io/en/stable/user_install.html\n",
      "  from .autonotebook import tqdm as notebook_tqdm\n"
     ]
    }
   ],
   "source": [
    "import os, sys\n",
    "\n",
    "import numpy as np\n",
    "import tqdm\n",
    "import torch"
   ]
  },
  {
   "cell_type": "markdown",
   "id": "5424a631",
   "metadata": {
    "papermill": {
     "duration": 0.049244,
     "end_time": "2022-03-31T22:14:12.552634",
     "exception": false,
     "start_time": "2022-03-31T22:14:12.503390",
     "status": "completed"
    },
    "tags": []
   },
   "source": [
    "Important paths for the notebook:"
   ]
  },
  {
   "cell_type": "code",
   "execution_count": 2,
   "metadata": {},
   "outputs": [],
   "source": [
    "datasets_root_path = './datasets/'\n",
    "srl_dataset_path = os.path.join(datasets_root_path, 'united-srl')\n",
    "checkpoints_dir_path = './checkpoints/'\n",
    "model_dir_path = os.path.join(checkpoints_dir_path, 'models_united')\n",
    "\n",
    "srl_dataset_dict_paths = {}\n",
    "for lang in os.listdir(srl_dataset_path):\n",
    "    dataset_lang_path = os.path.join(srl_dataset_path, lang)\n",
    "    if os.path.isdir(dataset_lang_path):\n",
    "        srl_dataset_dict_paths[lang] = {}\n",
    "        for d_type in os.listdir(dataset_lang_path):\n",
    "            d_name = d_type.split('.')[0]\n",
    "            srl_dataset_dict_paths[lang][d_name] = os.path.join(dataset_lang_path, d_type)"
   ]
  },
  {
   "cell_type": "code",
   "execution_count": 3,
   "metadata": {},
   "outputs": [
    {
     "data": {
      "text/plain": [
       "'cuda'"
      ]
     },
     "execution_count": 3,
     "metadata": {},
     "output_type": "execute_result"
    }
   ],
   "source": [
    "%load_ext autoreload\n",
    "%autoreload 2\n",
    "\n",
    "device = 'cuda' if torch.cuda.is_available() else 'cpu'\n",
    "device"
   ]
  },
  {
   "cell_type": "markdown",
   "id": "c7bc95ee",
   "metadata": {
    "papermill": {
     "duration": 0.048851,
     "end_time": "2022-03-31T22:14:13.015246",
     "exception": false,
     "start_time": "2022-03-31T22:14:12.966395",
     "status": "completed"
    },
    "tags": []
   },
   "source": [
    "Setting the seed for reproducibility:"
   ]
  },
  {
   "cell_type": "code",
   "execution_count": 4,
   "metadata": {},
   "outputs": [],
   "source": [
    "SEED = 28\n",
    "\n",
    "# random.seed(SEED) # not used\n",
    "np.random.seed(SEED)\n",
    "torch.manual_seed(SEED)\n",
    "torch.backends.cudnn.deterministic = True"
   ]
  },
  {
   "cell_type": "code",
   "execution_count": 5,
   "metadata": {},
   "outputs": [],
   "source": [
    "global_params = {\n",
    "    'batch_size': 32,\n",
    "    'transformer_name': \"xlm-roberta-base\",\n",
    "}"
   ]
  },
  {
   "attachments": {},
   "cell_type": "markdown",
   "metadata": {},
   "source": [
    "# Predicate Identification and Disambiguation"
   ]
  },
  {
   "attachments": {},
   "cell_type": "markdown",
   "metadata": {},
   "source": [
    "## Dataset"
   ]
  },
  {
   "cell_type": "code",
   "execution_count": 6,
   "metadata": {},
   "outputs": [],
   "source": [
    "from code_files.datasets.dataset_united import DatasetUniteD"
   ]
  },
  {
   "cell_type": "code",
   "execution_count": 7,
   "metadata": {},
   "outputs": [],
   "source": [
    "dataset_train_en_pid = DatasetUniteD(  srl_dataset_dict_paths['EN']['train'], split_predicates=False )\n",
    "dataset_dev_en_pid = DatasetUniteD(  srl_dataset_dict_paths['EN']['dev'], split_predicates=False )"
   ]
  },
  {
   "cell_type": "code",
   "execution_count": 8,
   "metadata": {},
   "outputs": [],
   "source": [
    "global_params.update({\n",
    "    'n_roles_labels': len(dataset_train_en_pid.id_to_roles),\n",
    "    'n_predicates_labels': len(dataset_train_en_pid.id_to_predicates),\n",
    "\n",
    "    'id_to_roles': dataset_train_en_pid.id_to_roles,\n",
    "    'roles_to_id': dataset_train_en_pid.roles_to_id,\n",
    "    'roles_pad_id': dataset_train_en_pid.roles_pad_id,\n",
    "    'roles_pad': dataset_train_en_pid.roles_pad,\n",
    "\n",
    "    'id_to_predicates': dataset_train_en_pid.id_to_predicates,\n",
    "    'predicates_to_id': dataset_train_en_pid.predicates_to_id,\n",
    "    'predicates_pad_id': dataset_train_en_pid.predicates_pad_id,\n",
    "    'predicates_pad': dataset_train_en_pid.predicates_pad,\n",
    "})"
   ]
  },
  {
   "cell_type": "code",
   "execution_count": 9,
   "metadata": {},
   "outputs": [],
   "source": [
    "np.save(os.path.join(model_dir_path, 'global_params.npy'), global_params)"
   ]
  },
  {
   "cell_type": "code",
   "execution_count": 10,
   "metadata": {},
   "outputs": [
    {
     "data": {
      "text/plain": [
       "(5501, 1026)"
      ]
     },
     "execution_count": 10,
     "metadata": {},
     "output_type": "execute_result"
    }
   ],
   "source": [
    "len(dataset_train_en_pid.data), len(dataset_dev_en_pid.data)"
   ]
  },
  {
   "cell_type": "code",
   "execution_count": 11,
   "metadata": {},
   "outputs": [
    {
     "name": "stdout",
     "output_type": "stream",
     "text": [
      "{'dependency_heads': [3, 3, 0, 8, 7, 7, 8, 3, 10, 8, 13, 13, 10, 3], 'dependency_relations': ['nsubj', 'advmod', 'root', 'mark', 'det', 'amod', 'nsubj', 'ccomp', 'amod', 'obj', 'case', 'amod', 'nmod', 'punct'], 'lemmas': ['member', 'also', 'ask', 'whether', 'all', 'social', 'group', 'enjoy', 'equal', 'access', 'to', 'higher', 'education', '.'], 'pos_tags': ['NOUN', 'ADV', 'VERB', 'SCONJ', 'DET', 'ADJ', 'NOUN', 'VERB', 'ADJ', 'NOUN', 'ADP', 'ADJ', 'NOUN', 'PUNCT'], 'predicates': ['_', '_', 'ASK_REQUEST', '_', '_', '_', '_', 'BENEFIT_EXPLOIT', '_', '_', '_', '_', '_', '_'], 'roles': {'2': ['agent', '_', '_', 'theme', '_', '_', '_', '_', '_', '_', '_', '_', '_', '_'], '7': ['_', '_', '_', '_', '_', '_', 'beneficiary', '_', '_', 'theme', '_', '_', '_', '_']}, 'words': ['Members', 'also', 'asked', 'whether', 'all', 'social', 'groups', 'enjoyed', 'equal', 'access', 'to', 'higher', 'education', '.']} \n",
      "\n",
      " {'dependency_heads': [2, 3, 0, 8, 7, 7, 8, 3, 10, 8, 12, 8, 14, 12, 19, 19, 18, 19, 14, 21, 19, 24, 24, 19, 27, 27, 19, 3], 'dependency_relations': ['det', 'nsubj', 'root', 'mark', 'det', 'compound', 'nsubj', 'ccomp', 'amod', 'obj', 'mark', 'advcl', 'det', 'obj', 'case', 'det', 'compound', 'compound', 'nmod', 'punct', 'conj', 'cc', 'amod', 'conj', 'case', 'amod', 'nmod', 'punct'], 'lemmas': ['the', 'committee', 'recommend', 'that', 'the', 'State', 'party', 'pay', 'more', 'attention', 'to', 'sensitize', 'the', 'member', 'of', 'the', 'law', 'enforcement', 'agency', ',', 'security', 'and', 'armed', 'force', 'about', 'human', 'rights', '.'], 'pos_tags': ['DET', 'PROPN', 'VERB', 'SCONJ', 'DET', 'PROPN', 'NOUN', 'VERB', 'ADJ', 'NOUN', 'SCONJ', 'VERB', 'DET', 'NOUN', 'ADP', 'DET', 'NOUN', 'NOUN', 'NOUN', 'PUNCT', 'NOUN', 'CCONJ', 'ADJ', 'NOUN', 'ADP', 'ADJ', 'NOUN', 'PUNCT'], 'predicates': ['_', '_', 'PROPOSE', '_', '_', '_', '_', 'GIVE_GIFT', '_', '_', '_', 'TEACH', '_', '_', '_', '_', '_', '_', '_', '_', '_', '_', '_', '_', '_', '_', '_', '_'], 'roles': {'2': ['_', 'agent', '_', 'topic', '_', '_', '_', '_', '_', '_', '_', '_', '_', '_', '_', '_', '_', '_', '_', '_', '_', '_', '_', '_', '_', '_', '_', '_'], '7': ['_', '_', '_', '_', '_', '_', 'agent', '_', '_', 'theme', 'recipient', '_', '_', '_', '_', '_', '_', '_', '_', '_', '_', '_', '_', '_', '_', '_', '_', '_'], '11': ['_', '_', '_', '_', '_', '_', 'agent', '_', '_', '_', '_', '_', '_', 'recipient', '_', '_', '_', '_', '_', '_', '_', '_', '_', '_', 'topic', '_', '_', '_']}, 'words': ['The', 'Committee', 'recommends', 'that', 'the', 'State', 'party', 'pay', 'more', 'attention', 'to', 'sensitizing', 'the', 'members', 'of', 'the', 'law', 'enforcement', 'agencies', ',', 'security', 'and', 'armed', 'forces', 'about', 'human', 'rights', '.']}\n"
     ]
    }
   ],
   "source": [
    "print(dataset_train_en_pid[0],'\\n\\n',dataset_dev_en_pid[0])"
   ]
  },
  {
   "attachments": {},
   "cell_type": "markdown",
   "metadata": {},
   "source": [
    "## Dataloader"
   ]
  },
  {
   "cell_type": "code",
   "execution_count": 12,
   "metadata": {},
   "outputs": [],
   "source": [
    "from torch.utils.data import DataLoader\n",
    "\n",
    "dataloader_train_en_pid = DataLoader(\n",
    "    dataset_train_en_pid,\n",
    "    batch_size=global_params['batch_size'],\n",
    "    collate_fn=dataset_train_en_pid.create_collate_fn(),\n",
    "    shuffle=True,\n",
    ")\n",
    "\n",
    "dataloader_dev_en_pid = DataLoader(\n",
    "    dataset_dev_en_pid,\n",
    "    batch_size=global_params['batch_size'],\n",
    "    collate_fn=dataset_dev_en_pid.create_collate_fn(),\n",
    "    shuffle=False,\n",
    ")"
   ]
  },
  {
   "cell_type": "code",
   "execution_count": 13,
   "metadata": {},
   "outputs": [],
   "source": [
    "for e in dataloader_dev_en_pid:\n",
    "    ex_in = e\n",
    "    break"
   ]
  },
  {
   "cell_type": "code",
   "execution_count": 14,
   "metadata": {},
   "outputs": [
    {
     "name": "stdout",
     "output_type": "stream",
     "text": [
      "['The', 'Committee', 'insists', 'that', 'all', 'perpetrators', 'of', 'violations', 'of', 'the', 'Convention', 'be', 'brought', 'to', 'justice', '.'] \n",
      " ['_', '_', 'CAUSE-MENTAL-STATE', '_', '_', '_', '_', '_', '_', '_', '_', '_', 'BRING', '_', '_', '_'] \n",
      " [0, 0, 1, 0, 0, 0, 0, 0, 0, 0, 0, 0, 1, 0, 0, 0]\n"
     ]
    }
   ],
   "source": [
    "print(ex_in['words'][1], '\\n', ex_in['predicates'][1], '\\n', ex_in['predicates_positions'][1])"
   ]
  },
  {
   "attachments": {},
   "cell_type": "markdown",
   "metadata": {},
   "source": [
    "## Training the Predicate Identification and Disambiguation model"
   ]
  },
  {
   "cell_type": "code",
   "execution_count": 15,
   "metadata": {},
   "outputs": [],
   "source": [
    "loss_function_pid = torch.nn.CrossEntropyLoss(ignore_index = dataset_train_en_pid.predicates_pad_id) # !"
   ]
  },
  {
   "cell_type": "code",
   "execution_count": 16,
   "metadata": {},
   "outputs": [
    {
     "name": "stderr",
     "output_type": "stream",
     "text": [
      "Some weights of the model checkpoint at xlm-roberta-base were not used when initializing XLMRobertaModel: ['lm_head.layer_norm.weight', 'lm_head.dense.bias', 'lm_head.layer_norm.bias', 'lm_head.bias', 'lm_head.dense.weight', 'lm_head.decoder.weight']\n",
      "- This IS expected if you are initializing XLMRobertaModel from the checkpoint of a model trained on another task or with another architecture (e.g. initializing a BertForSequenceClassification model from a BertForPreTraining model).\n",
      "- This IS NOT expected if you are initializing XLMRobertaModel from the checkpoint of a model that you expect to be exactly identical (initializing a BertForSequenceClassification model from a BertForSequenceClassification model).\n"
     ]
    }
   ],
   "source": [
    "from code_files.models.model_pid import ModelPID\n",
    "from code_files.utils.utils_functions import print_summary\n",
    "import torch.optim as optim\n",
    "\n",
    "model_pid = ModelPID(\n",
    "    loss_fn = loss_function_pid,\n",
    "    hparams = global_params,\n",
    "    fine_tune_transformer = True,\n",
    "    has_predicates_positions = False # it does both pred iden and disamb\n",
    ")"
   ]
  },
  {
   "cell_type": "code",
   "execution_count": 17,
   "metadata": {},
   "outputs": [],
   "source": [
    "optimizer_pid = optim.SGD(model_pid.parameters(), lr=0.0016, momentum=0.9) "
   ]
  },
  {
   "cell_type": "code",
   "execution_count": 18,
   "metadata": {},
   "outputs": [
    {
     "name": "stdout",
     "output_type": "stream",
     "text": [
      "parameters: 278,376,625\n",
      "trainable parameters: 278,376,625\n",
      "non-trainable parameters: 0\n"
     ]
    }
   ],
   "source": [
    "print_summary(model_pid, short=True)"
   ]
  },
  {
   "cell_type": "code",
   "execution_count": 20,
   "metadata": {},
   "outputs": [],
   "source": [
    "history = {}"
   ]
  },
  {
   "cell_type": "code",
   "execution_count": 24,
   "metadata": {},
   "outputs": [
    {
     "name": "stdout",
     "output_type": "stream",
     "text": [
      "Epoch   0 => avg_loss: 0.040000\n",
      "# Validation loss => 0.078706 | f1-score: pred_iden = 0.942830 pred_dis = 0.821559 #\n",
      "Epoch   1 => avg_loss: 0.039237\n",
      "# Validation loss => 0.079156 | f1-score: pred_iden = 0.943462 pred_dis = 0.822308 #\n",
      "Epoch   2 => avg_loss: 0.039353\n",
      "# Validation loss => 0.078551 | f1-score: pred_iden = 0.940994 pred_dis = 0.820264 #\n",
      "Epoch   3 => avg_loss: 0.038785\n",
      "# Validation loss => 0.077965 | f1-score: pred_iden = 0.943657 pred_dis = 0.823687 #\n",
      "Epoch   4 => avg_loss: 0.038512\n",
      "# Validation loss => 0.080900 | f1-score: pred_iden = 0.940725 pred_dis = 0.822175 #\n",
      "Epoch   5 => avg_loss: 0.037705\n",
      "# Validation loss => 0.079601 | f1-score: pred_iden = 0.942311 pred_dis = 0.825005 #\n",
      "----- Best value obtained, saving model -----\n",
      "Epoch   6 => avg_loss: 0.037416\n",
      "# Validation loss => 0.079039 | f1-score: pred_iden = 0.942178 pred_dis = 0.824212 #\n",
      "Epoch   7 => avg_loss: 0.037160\n",
      "# Validation loss => 0.080219 | f1-score: pred_iden = 0.942219 pred_dis = 0.823190 #\n",
      "Epoch   8 => avg_loss: 0.036607\n",
      "# Validation loss => 0.079683 | f1-score: pred_iden = 0.942082 pred_dis = 0.825091 #\n",
      "----- Best value obtained, saving model -----\n",
      "Epoch   9 => avg_loss: 0.036024\n",
      "# Validation loss => 0.079451 | f1-score: pred_iden = 0.942360 pred_dis = 0.825145 #\n",
      "----- Best value obtained, saving model -----\n",
      "Epoch  10 => avg_loss: 0.036136\n",
      "# Validation loss => 0.078054 | f1-score: pred_iden = 0.942547 pred_dis = 0.822981 #\n",
      "Epoch  11 => avg_loss: 0.035075\n",
      "# Validation loss => 0.079412 | f1-score: pred_iden = 0.943440 pred_dis = 0.826087 #\n",
      "----- Best value obtained, saving model -----\n",
      "Epoch  12 => avg_loss: 0.034375\n",
      "# Validation loss => 0.083143 | f1-score: pred_iden = 0.944699 pred_dis = 0.826850 #\n",
      "----- Best value obtained, saving model -----\n",
      "Epoch  13 => avg_loss: 0.035123\n",
      "# Validation loss => 0.077991 | f1-score: pred_iden = 0.940117 pred_dis = 0.823875 #\n",
      "Epoch  14 => avg_loss: 0.034165\n",
      "# Validation loss => 0.081749 | f1-score: pred_iden = 0.943807 pred_dis = 0.827982 #\n",
      "----- Best value obtained, saving model -----\n",
      "Epoch  15 => avg_loss: 0.033909\n",
      "# Validation loss => 0.079001 | f1-score: pred_iden = 0.942326 pred_dis = 0.825415 #\n",
      "Epoch  16 => avg_loss: 0.033191\n",
      "# Validation loss => 0.079503 | f1-score: pred_iden = 0.943143 pred_dis = 0.828275 #\n",
      "----- Best value obtained, saving model -----\n",
      "Epoch  17 => avg_loss: 0.032473\n",
      "# Validation loss => 0.081866 | f1-score: pred_iden = 0.944265 pred_dis = 0.829751 #\n",
      "----- Best value obtained, saving model -----\n",
      "Epoch  18 => avg_loss: 0.032079\n",
      "# Validation loss => 0.080181 | f1-score: pred_iden = 0.939806 pred_dis = 0.820971 #\n",
      "Epoch  19 => avg_loss: 0.031936\n",
      "# Validation loss => 0.083236 | f1-score: pred_iden = 0.941018 pred_dis = 0.826137 #\n",
      "Epoch  20 => avg_loss: 0.031458\n",
      "# Validation loss => 0.080721 | f1-score: pred_iden = 0.940719 pred_dis = 0.824490 #\n",
      "Epoch  21 => avg_loss: 0.031267\n",
      "# Validation loss => 0.080290 | f1-score: pred_iden = 0.943794 pred_dis = 0.830616 #\n",
      "----- Best value obtained, saving model -----\n",
      "Epoch  22 => avg_loss: 0.031083\n",
      "# Validation loss => 0.080209 | f1-score: pred_iden = 0.942582 pred_dis = 0.827360 #\n",
      "Epoch  23 => avg_loss: 0.030721\n",
      "# Validation loss => 0.081937 | f1-score: pred_iden = 0.942731 pred_dis = 0.828194 #\n",
      "Epoch  24 => avg_loss: 0.030627\n",
      "# Validation loss => 0.080713 | f1-score: pred_iden = 0.943039 pred_dis = 0.827573 #\n",
      "Epoch  25 => avg_loss: 0.029692\n",
      "# Validation loss => 0.080767 | f1-score: pred_iden = 0.942857 pred_dis = 0.825869 #\n",
      "Epoch  26 => avg_loss: 0.029492\n",
      "# Validation loss => 0.081393 | f1-score: pred_iden = 0.943889 pred_dis = 0.825903 #\n",
      "Epoch  27 => avg_loss: 0.029271\n",
      "# Validation loss => 0.079544 | f1-score: pred_iden = 0.943280 pred_dis = 0.829071 #\n",
      "Epoch  28 => avg_loss: 0.029737\n",
      "# Validation loss => 0.081099 | f1-score: pred_iden = 0.942714 pred_dis = 0.828527 #\n",
      "Epoch  29 => avg_loss: 0.028730\n",
      "# Validation loss => 0.080845 | f1-score: pred_iden = 0.942155 pred_dis = 0.826465 #\n",
      "Epoch  30 => avg_loss: 0.028488\n",
      "# Validation loss => 0.084046 | f1-score: pred_iden = 0.944466 pred_dis = 0.832631 #\n",
      "----- Best value obtained, saving model -----\n",
      "Epoch  31 => avg_loss: 0.028345\n",
      "# Validation loss => 0.080598 | f1-score: pred_iden = 0.941746 pred_dis = 0.825624 #\n",
      "Epoch  32 => avg_loss: 0.027985\n",
      "# Validation loss => 0.079773 | f1-score: pred_iden = 0.941176 pred_dis = 0.827012 #\n",
      "Epoch  33 => avg_loss: 0.027079\n",
      "# Validation loss => 0.081281 | f1-score: pred_iden = 0.942564 pred_dis = 0.827693 #\n",
      "Epoch  34 => avg_loss: 0.027149\n",
      "# Validation loss => 0.082919 | f1-score: pred_iden = 0.945177 pred_dis = 0.830564 #\n",
      "Epoch  35 => avg_loss: 0.026628\n",
      "# Validation loss => 0.083040 | f1-score: pred_iden = 0.943230 pred_dis = 0.828922 #\n",
      "Epoch  36 => avg_loss: 0.026320\n",
      "# Validation loss => 0.082923 | f1-score: pred_iden = 0.943133 pred_dis = 0.830561 #\n",
      "Epoch  37 => avg_loss: 0.025967\n",
      "# Validation loss => 0.084950 | f1-score: pred_iden = 0.945982 pred_dis = 0.832983 #\n",
      "----- Best value obtained, saving model -----\n",
      "Epoch  38 => avg_loss: 0.025780\n",
      "# Validation loss => 0.082247 | f1-score: pred_iden = 0.945156 pred_dis = 0.832792 #\n",
      "Epoch  39 => avg_loss: 0.025827\n",
      "# Validation loss => 0.080112 | f1-score: pred_iden = 0.943570 pred_dis = 0.829175 #\n",
      "Epoch  40 => avg_loss: 0.024943\n",
      "# Validation loss => 0.080783 | f1-score: pred_iden = 0.941768 pred_dis = 0.829174 #\n",
      "Epoch  41 => avg_loss: 0.025050\n",
      "# Validation loss => 0.083260 | f1-score: pred_iden = 0.941358 pred_dis = 0.829475 #\n",
      "Epoch  42 => avg_loss: 0.024598\n",
      "# Validation loss => 0.082681 | f1-score: pred_iden = 0.942989 pred_dis = 0.830894 #\n",
      "Epoch  43 => avg_loss: 0.024251\n",
      "# Validation loss => 0.081837 | f1-score: pred_iden = 0.943725 pred_dis = 0.833881 #\n",
      "----- Best value obtained, saving model -----\n",
      "Epoch  44 => avg_loss: 0.024722\n",
      "# Validation loss => 0.084304 | f1-score: pred_iden = 0.944381 pred_dis = 0.833143 #\n",
      "Epoch  45 => avg_loss: 0.024304\n",
      "# Validation loss => 0.081895 | f1-score: pred_iden = 0.940536 pred_dis = 0.829771 #\n",
      "Epoch  46 => avg_loss: 0.024198\n",
      "# Validation loss => 0.082210 | f1-score: pred_iden = 0.940678 pred_dis = 0.831279 #\n",
      "Epoch  47 => avg_loss: 0.023951\n",
      "# Validation loss => 0.082067 | f1-score: pred_iden = 0.941383 pred_dis = 0.831159 #\n",
      "Epoch  48 => avg_loss: 0.023448\n",
      "# Validation loss => 0.084422 | f1-score: pred_iden = 0.942780 pred_dis = 0.832949 #\n",
      "Epoch  49 => avg_loss: 0.022950\n",
      "# Validation loss => 0.082039 | f1-score: pred_iden = 0.941154 pred_dis = 0.828899 #\n",
      "Epoch  50 => avg_loss: 0.022875\n",
      "# Validation loss => 0.080689 | f1-score: pred_iden = 0.942408 pred_dis = 0.832655 #\n",
      "Epoch  51 => avg_loss: 0.023224\n",
      "# Validation loss => 0.082692 | f1-score: pred_iden = 0.943033 pred_dis = 0.832564 #\n",
      "Epoch  52 => avg_loss: 0.022385\n",
      "# Validation loss => 0.083816 | f1-score: pred_iden = 0.942551 pred_dis = 0.832631 #\n",
      "Epoch  53 => avg_loss: 0.022129\n",
      "# Validation loss => 0.084941 | f1-score: pred_iden = 0.940174 pred_dis = 0.831752 #\n",
      "Epoch  54 => avg_loss: 0.022162\n",
      "# Validation loss => 0.084749 | f1-score: pred_iden = 0.944444 pred_dis = 0.835249 #\n",
      "----- Best value obtained, saving model -----\n",
      "Epoch  55 => avg_loss: 0.021736\n",
      "# Validation loss => 0.082895 | f1-score: pred_iden = 0.943071 pred_dis = 0.834963 #\n",
      "Epoch  56 => avg_loss: 0.021810\n",
      "# Validation loss => 0.083674 | f1-score: pred_iden = 0.940287 pred_dis = 0.832493 #\n",
      "Epoch  57 => avg_loss: 0.021111\n",
      "# Validation loss => 0.084636 | f1-score: pred_iden = 0.939731 pred_dis = 0.829335 #\n",
      "Epoch  58 => avg_loss: 0.021281\n",
      "# Validation loss => 0.085743 | f1-score: pred_iden = 0.940881 pred_dis = 0.833849 #\n",
      "Epoch  59 => avg_loss: 0.021356\n",
      "# Validation loss => 0.084203 | f1-score: pred_iden = 0.941973 pred_dis = 0.832108 #\n",
      "Epoch  60 => avg_loss: 0.020697\n",
      "# Validation loss => 0.084605 | f1-score: pred_iden = 0.942308 pred_dis = 0.835000 #\n",
      "Epoch  61 => avg_loss: 0.020549\n",
      "# Validation loss => 0.084792 | f1-score: pred_iden = 0.942692 pred_dis = 0.836923 #\n",
      "----- Best value obtained, saving model -----\n",
      "Epoch  62 => avg_loss: 0.020109\n",
      "# Validation loss => 0.085733 | f1-score: pred_iden = 0.941655 pred_dis = 0.833107 #\n",
      "Epoch  63 => avg_loss: 0.020341\n",
      "# Validation loss => 0.082252 | f1-score: pred_iden = 0.942520 pred_dis = 0.832591 #\n",
      "Epoch  64 => avg_loss: 0.020146\n",
      "# Validation loss => 0.084729 | f1-score: pred_iden = 0.942577 pred_dis = 0.835414 #\n",
      "Epoch  65 => avg_loss: 0.020342\n",
      "# Validation loss => 0.085936 | f1-score: pred_iden = 0.944049 pred_dis = 0.837147 #\n",
      "----- Best value obtained, saving model -----\n",
      "Epoch  66 => avg_loss: 0.019801\n",
      "# Validation loss => 0.084728 | f1-score: pred_iden = 0.944658 pred_dis = 0.836664 #\n",
      "Epoch  67 => avg_loss: 0.019278\n",
      "# Validation loss => 0.088026 | f1-score: pred_iden = 0.944837 pred_dis = 0.835274 #\n",
      "Epoch  68 => avg_loss: 0.019445\n",
      "# Validation loss => 0.085162 | f1-score: pred_iden = 0.944049 pred_dis = 0.835609 #\n",
      "Epoch  69 => avg_loss: 0.019168\n",
      "# Validation loss => 0.085017 | f1-score: pred_iden = 0.942564 pred_dis = 0.833108 #\n",
      "Epoch  70 => avg_loss: 0.019016\n",
      "# Validation loss => 0.086024 | f1-score: pred_iden = 0.943228 pred_dis = 0.835885 #\n",
      "Epoch  71 => avg_loss: 0.019211\n",
      "# Validation loss => 0.083398 | f1-score: pred_iden = 0.944196 pred_dis = 0.836088 #\n",
      "Epoch  72 => avg_loss: 0.018420\n",
      "# Validation loss => 0.087026 | f1-score: pred_iden = 0.941472 pred_dis = 0.833687 #\n",
      "Epoch  73 => avg_loss: 0.018822\n",
      "# Validation loss => 0.086877 | f1-score: pred_iden = 0.943149 pred_dis = 0.834843 #\n",
      "Epoch  74 => avg_loss: 0.018601\n",
      "# Validation loss => 0.086767 | f1-score: pred_iden = 0.942918 pred_dis = 0.835287 #\n",
      "Epoch  75 => avg_loss: 0.017852\n",
      "# Validation loss => 0.088965 | f1-score: pred_iden = 0.941493 pred_dis = 0.834103 #\n",
      "Epoch  76 => avg_loss: 0.018425\n",
      "# Validation loss => 0.086799 | f1-score: pred_iden = 0.940994 pred_dis = 0.834239 #\n",
      "Epoch  77 => avg_loss: 0.018001\n",
      "# Validation loss => 0.086816 | f1-score: pred_iden = 0.941791 pred_dis = 0.831947 #\n",
      "Epoch  78 => avg_loss: 0.017800\n",
      "# Validation loss => 0.084335 | f1-score: pred_iden = 0.943080 pred_dis = 0.832749 #\n",
      "Epoch  79 => avg_loss: 0.017549\n",
      "# Validation loss => 0.089055 | f1-score: pred_iden = 0.945093 pred_dis = 0.836426 #\n",
      "Epoch  80 => avg_loss: 0.016989\n",
      "# Validation loss => 0.087810 | f1-score: pred_iden = 0.942989 pred_dis = 0.834361 #\n",
      "Epoch  81 => avg_loss: 0.017446\n",
      "# Validation loss => 0.086524 | f1-score: pred_iden = 0.942670 pred_dis = 0.835706 #\n",
      "Epoch  82 => avg_loss: 0.017250\n",
      "# Validation loss => 0.087431 | f1-score: pred_iden = 0.942573 pred_dis = 0.835375 #\n",
      "Epoch  83 => avg_loss: 0.016917\n",
      "# Validation loss => 0.083689 | f1-score: pred_iden = 0.942791 pred_dis = 0.835717 #\n",
      "Epoch  84 => avg_loss: 0.016684\n",
      "# Validation loss => 0.086560 | f1-score: pred_iden = 0.941720 pred_dis = 0.831698 #\n",
      "Epoch  85 => avg_loss: 0.016343\n",
      "# Validation loss => 0.088659 | f1-score: pred_iden = 0.942215 pred_dis = 0.832789 #\n",
      "Epoch  86 => avg_loss: 0.016217\n",
      "# Validation loss => 0.087133 | f1-score: pred_iden = 0.943236 pred_dis = 0.833943 #\n",
      "Epoch  87 => avg_loss: 0.016066\n",
      "# Validation loss => 0.086877 | f1-score: pred_iden = 0.941131 pred_dis = 0.834624 #\n",
      "Epoch  88 => avg_loss: 0.015923\n",
      "# Validation loss => 0.085851 | f1-score: pred_iden = 0.941541 pred_dis = 0.831978 #\n",
      "Epoch  89 => avg_loss: 0.015988\n",
      "# Validation loss => 0.085824 | f1-score: pred_iden = 0.940648 pred_dis = 0.832097 #\n",
      "Epoch  90 => avg_loss: 0.016002\n",
      "# Validation loss => 0.088573 | f1-score: pred_iden = 0.940062 pred_dis = 0.834493 #\n",
      "Epoch  91 => avg_loss: 0.015936\n",
      "# Validation loss => 0.088767 | f1-score: pred_iden = 0.943425 pred_dis = 0.834098 #\n",
      "Epoch  92 => avg_loss: 0.015792\n",
      "# Validation loss => 0.088151 | f1-score: pred_iden = 0.940653 pred_dis = 0.833559 #\n",
      "Epoch  93 => avg_loss: 0.015188\n",
      "# Validation loss => 0.088295 | f1-score: pred_iden = 0.942604 pred_dis = 0.834361 #\n",
      "Epoch  94 => avg_loss: 0.015456\n",
      "# Validation loss => 0.085527 | f1-score: pred_iden = 0.941472 pred_dis = 0.834074 #\n",
      "Epoch  95 => avg_loss: 0.015413\n",
      "# Validation loss => 0.086989 | f1-score: pred_iden = 0.941176 pred_dis = 0.835526 #\n",
      "Epoch  96 => avg_loss: 0.015134\n",
      "# Validation loss => 0.088814 | f1-score: pred_iden = 0.943721 pred_dis = 0.833078 #\n",
      "Epoch  97 => avg_loss: 0.014947\n",
      "# Validation loss => 0.091719 | f1-score: pred_iden = 0.942731 pred_dis = 0.833557 #\n",
      "Epoch  98 => avg_loss: 0.015102\n",
      "# Validation loss => 0.089929 | f1-score: pred_iden = 0.943468 pred_dis = 0.836134 #\n",
      "Epoch  99 => avg_loss: 0.014644\n",
      "# Validation loss => 0.089753 | f1-score: pred_iden = 0.941380 pred_dis = 0.834903 #\n"
     ]
    }
   ],
   "source": [
    "from code_files.utils.Trainer_pid import Trainer_pid\n",
    "\n",
    "trainer_pid = Trainer_pid()\n",
    "\n",
    "history = trainer_pid.train(\n",
    "    model_pid, optimizer_pid, dataloader_train_en_pid, dataloader_dev_en_pid,\n",
    "    epochs=100, device=device,\n",
    "    save_best=True, \n",
    "    min_score=0.8,\n",
    "    save_path_name=os.path.join(model_dir_path, 'pid_transformer_united.pth'),\n",
    "    saved_history=history\n",
    ")"
   ]
  },
  {
   "cell_type": "code",
   "execution_count": 25,
   "metadata": {},
   "outputs": [
    {
     "data": {
      "image/png": "[encoded data removed]",
      "text/plain": [
       "<Figure size 800x800 with 1 Axes>"
      ]
     },
     "metadata": {},
     "output_type": "display_data"
    }
   ],
   "source": [
    "trainer_pid.display_history(history)"
   ]
  },
  {
   "cell_type": "code",
   "execution_count": 26,
   "metadata": {},
   "outputs": [
    {
     "name": "stdout",
     "output_type": "stream",
     "text": [
      "['_', 'OBLIGE_FORCE', '_', '_', '_', 'CARRY-OUT-ACTION', '_', '_', 'PROTECT', '_', '_', '_', 'RECEIVE', '_', '_', '_']\n"
     ]
    }
   ],
   "source": [
    "print(model_pid.predict([[\"He\",\"urges\",\"the\",\"Government\",\"to\",\"take\",\"measures\",\"to\",\"protect\",\"persons\",\"who\",\"have\",\"received\",\"death\",\"threats\",\".\"]])[0])"
   ]
  },
  {
   "cell_type": "code",
   "execution_count": 27,
   "metadata": {},
   "outputs": [
    {
     "name": "stdout",
     "output_type": "stream",
     "text": [
      "['_', 'OBLIGE_FORCE', '_', '_', '_', 'CARRY-OUT-ACTION', '_', '_', 'PROTECT', '_', '_', '_', 'RECEIVE', '_', '_', '_']\n"
     ]
    }
   ],
   "source": [
    "print([\"_\",\"OBLIGE_FORCE\",\"_\",\"_\",\"_\",\"CARRY-OUT-ACTION\",\"_\",\"_\",\"PROTECT\",\"_\",\"_\",\"_\",\"RECEIVE\",\"_\",\"_\",\"_\"])"
   ]
  },
  {
   "cell_type": "code",
   "execution_count": null,
   "metadata": {},
   "outputs": [],
   "source": []
  },
  {
   "attachments": {},
   "cell_type": "markdown",
   "metadata": {},
   "source": [
    "# Argument Identification and Classification"
   ]
  },
  {
   "attachments": {},
   "cell_type": "markdown",
   "metadata": {},
   "source": [
    "## Dataset"
   ]
  },
  {
   "cell_type": "code",
   "execution_count": 9,
   "metadata": {},
   "outputs": [],
   "source": [
    "from code_files.datasets.dataset_united import DatasetUniteD"
   ]
  },
  {
   "cell_type": "code",
   "execution_count": 10,
   "metadata": {},
   "outputs": [],
   "source": [
    "dataset_train_en_aic = DatasetUniteD(  srl_dataset_dict_paths['EN']['train'], split_predicates=True )\n",
    "dataset_dev_en_aic = DatasetUniteD(  srl_dataset_dict_paths['EN']['dev'], split_predicates=True )"
   ]
  },
  {
   "cell_type": "code",
   "execution_count": 11,
   "metadata": {},
   "outputs": [
    {
     "data": {
      "text/plain": [
       "(12562, 2553)"
      ]
     },
     "execution_count": 11,
     "metadata": {},
     "output_type": "execute_result"
    }
   ],
   "source": [
    "len(dataset_train_en_aic.data), len(dataset_dev_en_aic.data)"
   ]
  },
  {
   "cell_type": "code",
   "execution_count": 12,
   "metadata": {},
   "outputs": [
    {
     "name": "stdout",
     "output_type": "stream",
     "text": [
      "{'dependency_heads': [3, 3, 0, 8, 7, 7, 8, 3, 10, 8, 13, 13, 10, 3], 'dependency_relations': ['nsubj', 'advmod', 'root', 'mark', 'det', 'amod', 'nsubj', 'ccomp', 'amod', 'obj', 'case', 'amod', 'nmod', 'punct'], 'lemmas': ['member', 'also', 'ask', 'whether', 'all', 'social', 'group', 'enjoy', 'equal', 'access', 'to', 'higher', 'education', '.'], 'pos_tags': ['NOUN', 'ADV', 'VERB', 'SCONJ', 'DET', 'ADJ', 'NOUN', 'VERB', 'ADJ', 'NOUN', 'ADP', 'ADJ', 'NOUN', 'PUNCT'], 'predicates': ['_', '_', 'ASK_REQUEST', '_', '_', '_', '_', '_', '_', '_', '_', '_', '_', '_'], 'roles': ['agent', '_', '_', 'theme', '_', '_', '_', '_', '_', '_', '_', '_', '_', '_'], 'words': ['Members', 'also', 'asked', 'whether', 'all', 'social', 'groups', 'enjoyed', 'equal', 'access', 'to', 'higher', 'education', '.'], 'predicate_word': ['asked'], 'predicate_name': ['ASK_REQUEST']} \n",
      "\n",
      " {'dependency_heads': [2, 3, 0, 8, 7, 7, 8, 3, 10, 8, 12, 8, 14, 12, 19, 19, 18, 19, 14, 21, 19, 24, 24, 19, 27, 27, 19, 3], 'dependency_relations': ['det', 'nsubj', 'root', 'mark', 'det', 'compound', 'nsubj', 'ccomp', 'amod', 'obj', 'mark', 'advcl', 'det', 'obj', 'case', 'det', 'compound', 'compound', 'nmod', 'punct', 'conj', 'cc', 'amod', 'conj', 'case', 'amod', 'nmod', 'punct'], 'lemmas': ['the', 'committee', 'recommend', 'that', 'the', 'State', 'party', 'pay', 'more', 'attention', 'to', 'sensitize', 'the', 'member', 'of', 'the', 'law', 'enforcement', 'agency', ',', 'security', 'and', 'armed', 'force', 'about', 'human', 'rights', '.'], 'pos_tags': ['DET', 'PROPN', 'VERB', 'SCONJ', 'DET', 'PROPN', 'NOUN', 'VERB', 'ADJ', 'NOUN', 'SCONJ', 'VERB', 'DET', 'NOUN', 'ADP', 'DET', 'NOUN', 'NOUN', 'NOUN', 'PUNCT', 'NOUN', 'CCONJ', 'ADJ', 'NOUN', 'ADP', 'ADJ', 'NOUN', 'PUNCT'], 'predicates': ['_', '_', 'PROPOSE', '_', '_', '_', '_', '_', '_', '_', '_', '_', '_', '_', '_', '_', '_', '_', '_', '_', '_', '_', '_', '_', '_', '_', '_', '_'], 'roles': ['_', 'agent', '_', 'topic', '_', '_', '_', '_', '_', '_', '_', '_', '_', '_', '_', '_', '_', '_', '_', '_', '_', '_', '_', '_', '_', '_', '_', '_'], 'words': ['The', 'Committee', 'recommends', 'that', 'the', 'State', 'party', 'pay', 'more', 'attention', 'to', 'sensitizing', 'the', 'members', 'of', 'the', 'law', 'enforcement', 'agencies', ',', 'security', 'and', 'armed', 'forces', 'about', 'human', 'rights', '.'], 'predicate_word': ['recommends'], 'predicate_name': ['PROPOSE']}\n"
     ]
    }
   ],
   "source": [
    "print(dataset_train_en_aic[0],'\\n\\n',dataset_dev_en_aic[0])"
   ]
  },
  {
   "attachments": {},
   "cell_type": "markdown",
   "metadata": {},
   "source": [
    "## Dataloader"
   ]
  },
  {
   "cell_type": "code",
   "execution_count": 13,
   "metadata": {},
   "outputs": [],
   "source": [
    "from torch.utils.data import DataLoader\n",
    "\n",
    "dataloader_train_en_aic = DataLoader(\n",
    "    dataset_train_en_aic,\n",
    "    batch_size=global_params['batch_size'],\n",
    "    collate_fn=dataset_train_en_aic.create_collate_fn(),\n",
    "    shuffle=True,\n",
    ")\n",
    "\n",
    "dataloader_dev_en_aic = DataLoader(\n",
    "    dataset_dev_en_aic,\n",
    "    batch_size=global_params['batch_size'],\n",
    "    collate_fn=dataset_dev_en_aic.create_collate_fn(),\n",
    "    shuffle=False,\n",
    ")"
   ]
  },
  {
   "cell_type": "code",
   "execution_count": 14,
   "metadata": {},
   "outputs": [],
   "source": [
    "for e in dataloader_dev_en_aic:\n",
    "    ex_in = e\n",
    "    break"
   ]
  },
  {
   "cell_type": "code",
   "execution_count": 15,
   "metadata": {},
   "outputs": [
    {
     "name": "stdout",
     "output_type": "stream",
     "text": [
      "['He', 'urges', 'the', 'Government', 'to', 'take', 'measures', 'to', 'protect', 'persons', 'who', 'have', 'received', 'death', 'threats', '.'] \n",
      " ['OBLIGE_FORCE'] ['urges'] \n",
      " [0, 1, 0, 0, 0, 0, 0, 0, 0, 0, 0, 0, 0, 0, 0, 0] \n",
      " ['agent', '_', '_', 'patient', 'goal', '_', '_', '_', '_', '_', '_', '_', '_', '_', '_', '_']\n"
     ]
    }
   ],
   "source": [
    "smpl_idx = 11\n",
    "print(ex_in['words'][smpl_idx], '\\n', ex_in['predicate_name'][smpl_idx], ex_in['predicate_word'][smpl_idx], '\\n', ex_in['predicates_positions'][smpl_idx], '\\n', ex_in['roles'][smpl_idx])"
   ]
  },
  {
   "attachments": {},
   "cell_type": "markdown",
   "metadata": {},
   "source": [
    "## Training the Argument Identification and Classification model"
   ]
  },
  {
   "cell_type": "code",
   "execution_count": 16,
   "metadata": {},
   "outputs": [],
   "source": [
    "loss_function_aic = torch.nn.CrossEntropyLoss(ignore_index = dataset_train_en_aic.predicates_pad_id) # !"
   ]
  },
  {
   "cell_type": "code",
   "execution_count": 17,
   "metadata": {},
   "outputs": [
    {
     "name": "stderr",
     "output_type": "stream",
     "text": [
      "Some weights of the model checkpoint at xlm-roberta-base were not used when initializing XLMRobertaModel: ['lm_head.decoder.weight', 'lm_head.layer_norm.bias', 'lm_head.layer_norm.weight', 'lm_head.bias', 'lm_head.dense.bias', 'lm_head.dense.weight']\n",
      "- This IS expected if you are initializing XLMRobertaModel from the checkpoint of a model trained on another task or with another architecture (e.g. initializing a BertForSequenceClassification model from a BertForPreTraining model).\n",
      "- This IS NOT expected if you are initializing XLMRobertaModel from the checkpoint of a model that you expect to be exactly identical (initializing a BertForSequenceClassification model from a BertForSequenceClassification model).\n"
     ]
    }
   ],
   "source": [
    "from code_files.models.model_aic import ModelAIC\n",
    "from code_files.utils.utils_functions import print_summary\n",
    "import torch.optim as optim\n",
    "\n",
    "model_aic = ModelAIC(\n",
    "    loss_fn = loss_function_aic,\n",
    "    hparams = global_params,\n",
    "    fine_tune_transformer = True\n",
    ")"
   ]
  },
  {
   "cell_type": "code",
   "execution_count": 18,
   "metadata": {},
   "outputs": [],
   "source": [
    "optimizer_aic = optim.SGD(model_aic.parameters(), lr=0.0016, momentum=0.9) "
   ]
  },
  {
   "cell_type": "code",
   "execution_count": 19,
   "metadata": {},
   "outputs": [
    {
     "name": "stdout",
     "output_type": "stream",
     "text": [
      "parameters: 278,065,180\n",
      "trainable parameters: 278,065,180\n",
      "non-trainable parameters: 0\n"
     ]
    }
   ],
   "source": [
    "print_summary(model_aic, short=True)"
   ]
  },
  {
   "cell_type": "code",
   "execution_count": 20,
   "metadata": {},
   "outputs": [],
   "source": [
    "history = {}"
   ]
  },
  {
   "cell_type": "code",
   "execution_count": 21,
   "metadata": {},
   "outputs": [
    {
     "name": "stdout",
     "output_type": "stream",
     "text": [
      "Epoch   0 => avg_loss: 0.353952\n",
      "# Validation loss => 0.212124 | f1-score: arg_iden = 0.092302 arg_class = 0.060912 #\n",
      "Epoch   1 => avg_loss: 0.190178\n",
      "# Validation loss => 0.124605 | f1-score: arg_iden = 0.835678 arg_class = 0.478474 #\n",
      "Epoch   2 => avg_loss: 0.137021\n",
      "# Validation loss => 0.110123 | f1-score: arg_iden = 0.865684 arg_class = 0.509861 #\n",
      "Epoch   3 => avg_loss: 0.121982\n",
      "# Validation loss => 0.102325 | f1-score: arg_iden = 0.874049 arg_class = 0.579435 #\n",
      "Epoch   4 => avg_loss: 0.112756\n",
      "# Validation loss => 0.097553 | f1-score: arg_iden = 0.881951 arg_class = 0.603204 #\n",
      "Epoch   5 => avg_loss: 0.106518\n",
      "# Validation loss => 0.093329 | f1-score: arg_iden = 0.892468 arg_class = 0.617674 #\n",
      "Epoch   6 => avg_loss: 0.101072\n",
      "# Validation loss => 0.088881 | f1-score: arg_iden = 0.895047 arg_class = 0.642103 #\n",
      "Epoch   7 => avg_loss: 0.095848\n",
      "# Validation loss => 0.085652 | f1-score: arg_iden = 0.893409 arg_class = 0.664158 #\n",
      "Epoch   8 => avg_loss: 0.090981\n",
      "# Validation loss => 0.080689 | f1-score: arg_iden = 0.894608 arg_class = 0.687080 #\n",
      "Epoch   9 => avg_loss: 0.086127\n",
      "# Validation loss => 0.077270 | f1-score: arg_iden = 0.893824 arg_class = 0.705608 #\n",
      "Epoch  10 => avg_loss: 0.081605\n",
      "# Validation loss => 0.074278 | f1-score: arg_iden = 0.898568 arg_class = 0.722928 #\n",
      "Epoch  11 => avg_loss: 0.077437\n",
      "# Validation loss => 0.071059 | f1-score: arg_iden = 0.897120 arg_class = 0.745497 #\n",
      "Epoch  12 => avg_loss: 0.073493\n",
      "# Validation loss => 0.068803 | f1-score: arg_iden = 0.897513 arg_class = 0.757320 #\n",
      "Epoch  13 => avg_loss: 0.069650\n",
      "# Validation loss => 0.066407 | f1-score: arg_iden = 0.900110 arg_class = 0.774019 #\n",
      "Epoch  14 => avg_loss: 0.067215\n",
      "# Validation loss => 0.063709 | f1-score: arg_iden = 0.900694 arg_class = 0.780964 #\n",
      "Epoch  15 => avg_loss: 0.064280\n",
      "# Validation loss => 0.063502 | f1-score: arg_iden = 0.900737 arg_class = 0.790313 #\n",
      "Epoch  16 => avg_loss: 0.061380\n",
      "# Validation loss => 0.062485 | f1-score: arg_iden = 0.899104 arg_class = 0.794428 #\n",
      "Epoch  17 => avg_loss: 0.059436\n",
      "# Validation loss => 0.060772 | f1-score: arg_iden = 0.903206 arg_class = 0.803791 #\n",
      "----- Best value obtained, saving model -----\n",
      "Epoch  18 => avg_loss: 0.057435\n",
      "# Validation loss => 0.059962 | f1-score: arg_iden = 0.900199 arg_class = 0.804183 #\n",
      "----- Best value obtained, saving model -----\n",
      "Epoch  19 => avg_loss: 0.055065\n",
      "# Validation loss => 0.061499 | f1-score: arg_iden = 0.899188 arg_class = 0.803327 #\n",
      "Epoch  20 => avg_loss: 0.053458\n",
      "# Validation loss => 0.059175 | f1-score: arg_iden = 0.905328 arg_class = 0.813356 #\n",
      "----- Best value obtained, saving model -----\n",
      "Epoch  21 => avg_loss: 0.052072\n",
      "# Validation loss => 0.059223 | f1-score: arg_iden = 0.901478 arg_class = 0.813573 #\n",
      "----- Best value obtained, saving model -----\n",
      "Epoch  22 => avg_loss: 0.050297\n",
      "# Validation loss => 0.059597 | f1-score: arg_iden = 0.899743 arg_class = 0.816459 #\n",
      "----- Best value obtained, saving model -----\n",
      "Epoch  23 => avg_loss: 0.048773\n",
      "# Validation loss => 0.057650 | f1-score: arg_iden = 0.901305 arg_class = 0.818644 #\n",
      "----- Best value obtained, saving model -----\n",
      "Epoch  24 => avg_loss: 0.047601\n",
      "# Validation loss => 0.059769 | f1-score: arg_iden = 0.903477 arg_class = 0.819544 #\n",
      "----- Best value obtained, saving model -----\n",
      "Epoch  25 => avg_loss: 0.046228\n",
      "# Validation loss => 0.057580 | f1-score: arg_iden = 0.903038 arg_class = 0.820962 #\n",
      "----- Best value obtained, saving model -----\n",
      "Epoch  26 => avg_loss: 0.045255\n",
      "# Validation loss => 0.057712 | f1-score: arg_iden = 0.901081 arg_class = 0.822502 #\n",
      "----- Best value obtained, saving model -----\n",
      "Epoch  27 => avg_loss: 0.044027\n",
      "# Validation loss => 0.057951 | f1-score: arg_iden = 0.902314 arg_class = 0.823966 #\n",
      "----- Best value obtained, saving model -----\n",
      "Epoch  28 => avg_loss: 0.043132\n",
      "# Validation loss => 0.058322 | f1-score: arg_iden = 0.901840 arg_class = 0.825460 #\n",
      "----- Best value obtained, saving model -----\n",
      "Epoch  29 => avg_loss: 0.042076\n",
      "# Validation loss => 0.056972 | f1-score: arg_iden = 0.903206 arg_class = 0.827889 #\n",
      "----- Best value obtained, saving model -----\n",
      "Epoch  30 => avg_loss: 0.041034\n",
      "# Validation loss => 0.057847 | f1-score: arg_iden = 0.900361 arg_class = 0.826985 #\n",
      "Epoch  31 => avg_loss: 0.040170\n",
      "# Validation loss => 0.057519 | f1-score: arg_iden = 0.901847 arg_class = 0.825362 #\n",
      "Epoch  32 => avg_loss: 0.039271\n",
      "# Validation loss => 0.058255 | f1-score: arg_iden = 0.899523 arg_class = 0.827442 #\n",
      "Epoch  33 => avg_loss: 0.038759\n",
      "# Validation loss => 0.058429 | f1-score: arg_iden = 0.902981 arg_class = 0.829966 #\n",
      "----- Best value obtained, saving model -----\n",
      "Epoch  34 => avg_loss: 0.037643\n",
      "# Validation loss => 0.058430 | f1-score: arg_iden = 0.904445 arg_class = 0.830267 #\n",
      "----- Best value obtained, saving model -----\n",
      "Epoch  35 => avg_loss: 0.036922\n",
      "# Validation loss => 0.058519 | f1-score: arg_iden = 0.903529 arg_class = 0.832750 #\n",
      "----- Best value obtained, saving model -----\n",
      "Epoch  36 => avg_loss: 0.036137\n",
      "# Validation loss => 0.059660 | f1-score: arg_iden = 0.901953 arg_class = 0.832005 #\n",
      "Epoch  37 => avg_loss: 0.035452\n",
      "# Validation loss => 0.058300 | f1-score: arg_iden = 0.901648 arg_class = 0.829156 #\n",
      "Epoch  38 => avg_loss: 0.034740\n",
      "# Validation loss => 0.060063 | f1-score: arg_iden = 0.898514 arg_class = 0.825869 #\n",
      "Epoch  39 => avg_loss: 0.034067\n",
      "# Validation loss => 0.058482 | f1-score: arg_iden = 0.899562 arg_class = 0.830151 #\n",
      "Epoch  40 => avg_loss: 0.033423\n",
      "# Validation loss => 0.060278 | f1-score: arg_iden = 0.900951 arg_class = 0.830032 #\n",
      "Epoch  41 => avg_loss: 0.032484\n",
      "# Validation loss => 0.060078 | f1-score: arg_iden = 0.902187 arg_class = 0.833797 #\n",
      "----- Best value obtained, saving model -----\n",
      "Epoch  42 => avg_loss: 0.031918\n",
      "# Validation loss => 0.060868 | f1-score: arg_iden = 0.902035 arg_class = 0.832448 #\n",
      "Epoch  43 => avg_loss: 0.031556\n",
      "# Validation loss => 0.060157 | f1-score: arg_iden = 0.900189 arg_class = 0.833317 #\n",
      "Epoch  44 => avg_loss: 0.030905\n",
      "# Validation loss => 0.060601 | f1-score: arg_iden = 0.901731 arg_class = 0.832306 #\n",
      "Epoch  45 => avg_loss: 0.030318\n",
      "# Validation loss => 0.061070 | f1-score: arg_iden = 0.899542 arg_class = 0.829380 #\n",
      "Epoch  46 => avg_loss: 0.029302\n",
      "# Validation loss => 0.061792 | f1-score: arg_iden = 0.899513 arg_class = 0.832522 #\n",
      "Epoch  47 => avg_loss: 0.029022\n",
      "# Validation loss => 0.060259 | f1-score: arg_iden = 0.902446 arg_class = 0.836745 #\n",
      "----- Best value obtained, saving model -----\n",
      "Epoch  48 => avg_loss: 0.028438\n",
      "# Validation loss => 0.062753 | f1-score: arg_iden = 0.898923 arg_class = 0.833134 #\n",
      "Epoch  49 => avg_loss: 0.027937\n",
      "# Validation loss => 0.062473 | f1-score: arg_iden = 0.898493 arg_class = 0.833664 #\n",
      "Epoch  50 => avg_loss: 0.027806\n",
      "# Validation loss => 0.062783 | f1-score: arg_iden = 0.902495 arg_class = 0.835956 #\n",
      "Epoch  51 => avg_loss: 0.026957\n",
      "# Validation loss => 0.062187 | f1-score: arg_iden = 0.899693 arg_class = 0.833944 #\n",
      "Epoch  52 => avg_loss: 0.026756\n",
      "# Validation loss => 0.063907 | f1-score: arg_iden = 0.900544 arg_class = 0.834636 #\n",
      "Epoch  53 => avg_loss: 0.026057\n",
      "# Validation loss => 0.063590 | f1-score: arg_iden = 0.896919 arg_class = 0.830569 #\n",
      "Epoch  54 => avg_loss: 0.025565\n",
      "# Validation loss => 0.063827 | f1-score: arg_iden = 0.898317 arg_class = 0.830794 #\n",
      "Epoch  55 => avg_loss: 0.025348\n",
      "# Validation loss => 0.063684 | f1-score: arg_iden = 0.898501 arg_class = 0.833566 #\n",
      "Epoch  56 => avg_loss: 0.024889\n",
      "# Validation loss => 0.063818 | f1-score: arg_iden = 0.898250 arg_class = 0.832394 #\n",
      "Epoch  57 => avg_loss: 0.024678\n",
      "# Validation loss => 0.066034 | f1-score: arg_iden = 0.896375 arg_class = 0.829590 #\n",
      "Epoch  58 => avg_loss: 0.024017\n",
      "# Validation loss => 0.064482 | f1-score: arg_iden = 0.898652 arg_class = 0.835746 #\n",
      "Epoch  59 => avg_loss: 0.023006\n",
      "# Validation loss => 0.067037 | f1-score: arg_iden = 0.896545 arg_class = 0.832774 #\n",
      "Epoch  60 => avg_loss: 0.023130\n",
      "# Validation loss => 0.067120 | f1-score: arg_iden = 0.898692 arg_class = 0.833664 #\n",
      "Epoch  61 => avg_loss: 0.022053\n",
      "# Validation loss => 0.067148 | f1-score: arg_iden = 0.896538 arg_class = 0.830275 #\n",
      "Epoch  62 => avg_loss: 0.022492\n",
      "# Validation loss => 0.067764 | f1-score: arg_iden = 0.896791 arg_class = 0.833994 #\n",
      "Epoch  63 => avg_loss: 0.022258\n",
      "# Validation loss => 0.069187 | f1-score: arg_iden = 0.895525 arg_class = 0.833038 #\n",
      "Epoch  64 => avg_loss: 0.021498\n",
      "# Validation loss => 0.068912 | f1-score: arg_iden = 0.896184 arg_class = 0.833696 #\n",
      "Epoch  65 => avg_loss: 0.022732\n",
      "# Validation loss => 0.067037 | f1-score: arg_iden = 0.898461 arg_class = 0.838697 #\n",
      "----- Best value obtained, saving model -----\n",
      "Epoch  66 => avg_loss: 0.021198\n",
      "# Validation loss => 0.070474 | f1-score: arg_iden = 0.897353 arg_class = 0.835351 #\n",
      "Epoch  67 => avg_loss: 0.020897\n",
      "# Validation loss => 0.066541 | f1-score: arg_iden = 0.895758 arg_class = 0.834734 #\n",
      "Epoch  68 => avg_loss: 0.020194\n",
      "# Validation loss => 0.069625 | f1-score: arg_iden = 0.895280 arg_class = 0.830028 #\n",
      "Epoch  69 => avg_loss: 0.019848\n",
      "# Validation loss => 0.071132 | f1-score: arg_iden = 0.895937 arg_class = 0.834291 #\n",
      "Epoch  70 => avg_loss: 0.019954\n",
      "# Validation loss => 0.069272 | f1-score: arg_iden = 0.898398 arg_class = 0.836501 #\n",
      "Epoch  71 => avg_loss: 0.019436\n",
      "# Validation loss => 0.069843 | f1-score: arg_iden = 0.896436 arg_class = 0.836238 #\n",
      "Epoch  72 => avg_loss: 0.018850\n",
      "# Validation loss => 0.070244 | f1-score: arg_iden = 0.898122 arg_class = 0.832601 #\n",
      "Epoch  73 => avg_loss: 0.018880\n",
      "# Validation loss => 0.069729 | f1-score: arg_iden = 0.896224 arg_class = 0.834572 #\n",
      "Epoch  74 => avg_loss: 0.018371\n",
      "# Validation loss => 0.072534 | f1-score: arg_iden = 0.898153 arg_class = 0.837301 #\n",
      "Epoch  75 => avg_loss: 0.018146\n",
      "# Validation loss => 0.071651 | f1-score: arg_iden = 0.895516 arg_class = 0.834288 #\n",
      "Epoch  76 => avg_loss: 0.017858\n",
      "# Validation loss => 0.071690 | f1-score: arg_iden = 0.896545 arg_class = 0.832956 #\n",
      "Epoch  77 => avg_loss: 0.017222\n",
      "# Validation loss => 0.072166 | f1-score: arg_iden = 0.896394 arg_class = 0.835601 #\n",
      "Epoch  78 => avg_loss: 0.017017\n",
      "# Validation loss => 0.073749 | f1-score: arg_iden = 0.897923 arg_class = 0.835305 #\n",
      "Epoch  79 => avg_loss: 0.016853\n",
      "# Validation loss => 0.072099 | f1-score: arg_iden = 0.895389 arg_class = 0.832524 #\n",
      "Epoch  80 => avg_loss: 0.016665\n",
      "# Validation loss => 0.075524 | f1-score: arg_iden = 0.894768 arg_class = 0.833989 #\n",
      "Epoch  81 => avg_loss: 0.016304\n",
      "# Validation loss => 0.074713 | f1-score: arg_iden = 0.895743 arg_class = 0.833071 #\n",
      "Epoch  82 => avg_loss: 0.015978\n",
      "# Validation loss => 0.072887 | f1-score: arg_iden = 0.897955 arg_class = 0.836411 #\n",
      "Epoch  83 => avg_loss: 0.015374\n",
      "# Validation loss => 0.076956 | f1-score: arg_iden = 0.895737 arg_class = 0.834301 #\n",
      "Epoch  84 => avg_loss: 0.015761\n",
      "# Validation loss => 0.073605 | f1-score: arg_iden = 0.898643 arg_class = 0.838986 #\n",
      "----- Best value obtained, saving model -----\n",
      "Epoch  85 => avg_loss: 0.015261\n",
      "# Validation loss => 0.075738 | f1-score: arg_iden = 0.896313 arg_class = 0.835228 #\n",
      "Epoch  86 => avg_loss: 0.015206\n",
      "# Validation loss => 0.076728 | f1-score: arg_iden = 0.898334 arg_class = 0.837274 #\n",
      "Epoch  87 => avg_loss: 0.014933\n",
      "# Validation loss => 0.075964 | f1-score: arg_iden = 0.894887 arg_class = 0.834401 #\n",
      "Epoch  88 => avg_loss: 0.014613\n",
      "# Validation loss => 0.076382 | f1-score: arg_iden = 0.897593 arg_class = 0.835635 #\n",
      "Epoch  89 => avg_loss: 0.014349\n",
      "# Validation loss => 0.077226 | f1-score: arg_iden = 0.897555 arg_class = 0.835197 #\n",
      "Epoch  90 => avg_loss: 0.014471\n",
      "# Validation loss => 0.077110 | f1-score: arg_iden = 0.896538 arg_class = 0.835410 #\n",
      "Epoch  91 => avg_loss: 0.014237\n",
      "# Validation loss => 0.078522 | f1-score: arg_iden = 0.898293 arg_class = 0.835413 #\n",
      "Epoch  92 => avg_loss: 0.013665\n",
      "# Validation loss => 0.077603 | f1-score: arg_iden = 0.895736 arg_class = 0.833714 #\n",
      "Epoch  93 => avg_loss: 0.014001\n",
      "# Validation loss => 0.077601 | f1-score: arg_iden = 0.896159 arg_class = 0.835838 #\n",
      "Epoch  94 => avg_loss: 0.013419\n",
      "# Validation loss => 0.078594 | f1-score: arg_iden = 0.895202 arg_class = 0.833416 #\n",
      "Epoch  95 => avg_loss: 0.013323\n",
      "# Validation loss => 0.079427 | f1-score: arg_iden = 0.898536 arg_class = 0.838793 #\n",
      "Epoch  96 => avg_loss: 0.013018\n",
      "# Validation loss => 0.079023 | f1-score: arg_iden = 0.896510 arg_class = 0.837687 #\n",
      "Epoch  97 => avg_loss: 0.013054\n",
      "# Validation loss => 0.081042 | f1-score: arg_iden = 0.896401 arg_class = 0.838108 #\n",
      "Epoch  98 => avg_loss: 0.012747\n",
      "# Validation loss => 0.079658 | f1-score: arg_iden = 0.896990 arg_class = 0.837588 #\n",
      "Epoch  99 => avg_loss: 0.012660\n",
      "# Validation loss => 0.079717 | f1-score: arg_iden = 0.895903 arg_class = 0.835543 #\n",
      "Epoch 100 => avg_loss: 0.012530\n",
      "# Validation loss => 0.079484 | f1-score: arg_iden = 0.895283 arg_class = 0.837140 #\n",
      "Epoch 101 => avg_loss: 0.012051\n",
      "# Validation loss => 0.082514 | f1-score: arg_iden = 0.893474 arg_class = 0.833366 #\n",
      "Epoch 102 => avg_loss: 0.012430\n",
      "# Validation loss => 0.079405 | f1-score: arg_iden = 0.897456 arg_class = 0.837242 #\n",
      "Epoch 103 => avg_loss: 0.011932\n",
      "# Validation loss => 0.080109 | f1-score: arg_iden = 0.897951 arg_class = 0.839467 #\n",
      "----- Best value obtained, saving model -----\n",
      "Epoch 104 => avg_loss: 0.011884\n",
      "# Validation loss => 0.080936 | f1-score: arg_iden = 0.898838 arg_class = 0.837883 #\n",
      "Epoch 105 => avg_loss: 0.011905\n",
      "# Validation loss => 0.081484 | f1-score: arg_iden = 0.897654 arg_class = 0.835946 #\n",
      "Epoch 106 => avg_loss: 0.011483\n",
      "# Validation loss => 0.085322 | f1-score: arg_iden = 0.896184 arg_class = 0.835278 #\n",
      "Epoch 107 => avg_loss: 0.011426\n",
      "# Validation loss => 0.083290 | f1-score: arg_iden = 0.896524 arg_class = 0.836570 #\n",
      "Epoch 108 => avg_loss: 0.011286\n",
      "# Validation loss => 0.082420 | f1-score: arg_iden = 0.898580 arg_class = 0.840568 #\n",
      "----- Best value obtained, saving model -----\n",
      "Epoch 109 => avg_loss: 0.010919\n",
      "# Validation loss => 0.086203 | f1-score: arg_iden = 0.897704 arg_class = 0.836863 #\n",
      "Epoch 110 => avg_loss: 0.011030\n",
      "# Validation loss => 0.084757 | f1-score: arg_iden = 0.897311 arg_class = 0.840758 #\n",
      "----- Best value obtained, saving model -----\n",
      "Epoch 111 => avg_loss: 0.010953\n",
      "# Validation loss => 0.085301 | f1-score: arg_iden = 0.895336 arg_class = 0.835330 #\n",
      "Epoch 112 => avg_loss: 0.011147\n",
      "# Validation loss => 0.082878 | f1-score: arg_iden = 0.895670 arg_class = 0.836223 #\n",
      "Epoch 113 => avg_loss: 0.010383\n",
      "# Validation loss => 0.086448 | f1-score: arg_iden = 0.896771 arg_class = 0.836364 #\n",
      "Epoch 114 => avg_loss: 0.010502\n",
      "# Validation loss => 0.085173 | f1-score: arg_iden = 0.896130 arg_class = 0.836888 #\n",
      "Epoch 115 => avg_loss: 0.010657\n",
      "# Validation loss => 0.085055 | f1-score: arg_iden = 0.894471 arg_class = 0.833350 #\n",
      "Epoch 116 => avg_loss: 0.010036\n",
      "# Validation loss => 0.085847 | f1-score: arg_iden = 0.894259 arg_class = 0.835746 #\n",
      "Epoch 117 => avg_loss: 0.010114\n",
      "# Validation loss => 0.086804 | f1-score: arg_iden = 0.897295 arg_class = 0.837609 #\n",
      "Epoch 118 => avg_loss: 0.010026\n",
      "# Validation loss => 0.085128 | f1-score: arg_iden = 0.894991 arg_class = 0.836653 #\n",
      "Epoch 119 => avg_loss: 0.009663\n",
      "# Validation loss => 0.086850 | f1-score: arg_iden = 0.894304 arg_class = 0.836057 #\n",
      "Epoch 120 => avg_loss: 0.009609\n",
      "# Validation loss => 0.087758 | f1-score: arg_iden = 0.894571 arg_class = 0.834946 #\n",
      "Epoch 121 => avg_loss: 0.009681\n",
      "# Validation loss => 0.087647 | f1-score: arg_iden = 0.896531 arg_class = 0.838088 #\n",
      "Epoch 122 => avg_loss: 0.009312\n",
      "# Validation loss => 0.088927 | f1-score: arg_iden = 0.895402 arg_class = 0.834221 #\n",
      "Epoch 123 => avg_loss: 0.009448\n",
      "# Validation loss => 0.085697 | f1-score: arg_iden = 0.896443 arg_class = 0.836759 #\n",
      "Epoch 124 => avg_loss: 0.009649\n",
      "# Validation loss => 0.085071 | f1-score: arg_iden = 0.894877 arg_class = 0.833284 #\n",
      "Epoch 125 => avg_loss: 0.009247\n",
      "# Validation loss => 0.084991 | f1-score: arg_iden = 0.896435 arg_class = 0.836712 #\n",
      "Epoch 126 => avg_loss: 0.009263\n",
      "# Validation loss => 0.086562 | f1-score: arg_iden = 0.893059 arg_class = 0.834872 #\n",
      "Epoch 127 => avg_loss: 0.008854\n",
      "# Validation loss => 0.089478 | f1-score: arg_iden = 0.893630 arg_class = 0.831117 #\n",
      "Epoch 128 => avg_loss: 0.008694\n",
      "# Validation loss => 0.089299 | f1-score: arg_iden = 0.895800 arg_class = 0.836400 #\n",
      "Epoch 129 => avg_loss: 0.008931\n",
      "# Validation loss => 0.088915 | f1-score: arg_iden = 0.894396 arg_class = 0.831890 #\n",
      "Epoch 130 => avg_loss: 0.008610\n",
      "# Validation loss => 0.088551 | f1-score: arg_iden = 0.896272 arg_class = 0.836943 #\n",
      "Epoch 131 => avg_loss: 0.008593\n",
      "# Validation loss => 0.089915 | f1-score: arg_iden = 0.894768 arg_class = 0.835513 #\n",
      "Epoch 132 => avg_loss: 0.008396\n",
      "# Validation loss => 0.091769 | f1-score: arg_iden = 0.895012 arg_class = 0.835951 #\n",
      "Epoch 133 => avg_loss: 0.008537\n",
      "# Validation loss => 0.086936 | f1-score: arg_iden = 0.897200 arg_class = 0.838000 #\n",
      "Epoch 134 => avg_loss: 0.008437\n",
      "# Validation loss => 0.087721 | f1-score: arg_iden = 0.896421 arg_class = 0.837803 #\n",
      "Epoch 135 => avg_loss: 0.008298\n",
      "# Validation loss => 0.089693 | f1-score: arg_iden = 0.896490 arg_class = 0.834264 #\n",
      "Epoch 136 => avg_loss: 0.008302\n",
      "# Validation loss => 0.090096 | f1-score: arg_iden = 0.896743 arg_class = 0.836353 #\n",
      "Epoch 137 => avg_loss: 0.008011\n",
      "# Validation loss => 0.090793 | f1-score: arg_iden = 0.896408 arg_class = 0.835682 #\n",
      "Epoch 138 => avg_loss: 0.008476\n",
      "# Validation loss => 0.089074 | f1-score: arg_iden = 0.895174 arg_class = 0.835245 #\n",
      "Epoch 139 => avg_loss: 0.007763\n",
      "# Validation loss => 0.092232 | f1-score: arg_iden = 0.897003 arg_class = 0.836277 #\n",
      "Epoch 140 => avg_loss: 0.008118\n",
      "# Validation loss => 0.088969 | f1-score: arg_iden = 0.896346 arg_class = 0.835209 #\n",
      "Epoch 141 => avg_loss: 0.007660\n",
      "# Validation loss => 0.093507 | f1-score: arg_iden = 0.896114 arg_class = 0.833862 #\n",
      "Epoch 142 => avg_loss: 0.007953\n",
      "# Validation loss => 0.089516 | f1-score: arg_iden = 0.896916 arg_class = 0.838040 #\n",
      "Epoch 143 => avg_loss: 0.007721\n",
      "# Validation loss => 0.089254 | f1-score: arg_iden = 0.896415 arg_class = 0.837025 #\n",
      "Epoch 144 => avg_loss: 0.007392\n",
      "# Validation loss => 0.091450 | f1-score: arg_iden = 0.894167 arg_class = 0.836331 #\n",
      "Epoch 145 => avg_loss: 0.007684\n",
      "# Validation loss => 0.094176 | f1-score: arg_iden = 0.895602 arg_class = 0.835578 #\n",
      "Epoch 146 => avg_loss: 0.007525\n",
      "# Validation loss => 0.091534 | f1-score: arg_iden = 0.894087 arg_class = 0.834271 #\n",
      "Epoch 147 => avg_loss: 0.007684\n",
      "# Validation loss => 0.092334 | f1-score: arg_iden = 0.894737 arg_class = 0.836367 #\n",
      "Epoch 148 => avg_loss: 0.007208\n",
      "# Validation loss => 0.093745 | f1-score: arg_iden = 0.896620 arg_class = 0.835586 #\n",
      "Epoch 149 => avg_loss: 0.007465\n",
      "# Validation loss => 0.093170 | f1-score: arg_iden = 0.893827 arg_class = 0.834173 #\n",
      "Epoch 150 => avg_loss: 0.007100\n",
      "# Validation loss => 0.093468 | f1-score: arg_iden = 0.893642 arg_class = 0.834819 #\n",
      "Epoch 151 => avg_loss: 0.007011\n",
      "# Validation loss => 0.096853 | f1-score: arg_iden = 0.897494 arg_class = 0.835892 #\n",
      "Epoch 152 => avg_loss: 0.007115\n",
      "# Validation loss => 0.095053 | f1-score: arg_iden = 0.894169 arg_class = 0.834769 #\n",
      "Epoch 153 => avg_loss: 0.007048\n",
      "# Validation loss => 0.094705 | f1-score: arg_iden = 0.895055 arg_class = 0.835596 #\n",
      "Epoch 154 => avg_loss: 0.007161\n",
      "# Validation loss => 0.092803 | f1-score: arg_iden = 0.896083 arg_class = 0.836131 #\n",
      "Epoch 155 => avg_loss: 0.006817\n",
      "# Validation loss => 0.094390 | f1-score: arg_iden = 0.892570 arg_class = 0.834243 #\n",
      "Epoch 156 => avg_loss: 0.006773\n",
      "# Validation loss => 0.093686 | f1-score: arg_iden = 0.895056 arg_class = 0.834577 #\n",
      "Epoch 157 => avg_loss: 0.006863\n",
      "# Validation loss => 0.097284 | f1-score: arg_iden = 0.898170 arg_class = 0.837311 #\n",
      "Epoch 158 => avg_loss: 0.006349\n",
      "# Validation loss => 0.097721 | f1-score: arg_iden = 0.895442 arg_class = 0.835071 #\n",
      "Epoch 159 => avg_loss: 0.006534\n",
      "# Validation loss => 0.094416 | f1-score: arg_iden = 0.895421 arg_class = 0.835233 #\n",
      "Epoch 160 => avg_loss: 0.006752\n",
      "# Validation loss => 0.094777 | f1-score: arg_iden = 0.894805 arg_class = 0.834211 #\n",
      "Epoch 161 => avg_loss: 0.006359\n",
      "# Validation loss => 0.096845 | f1-score: arg_iden = 0.894883 arg_class = 0.833598 #\n",
      "Epoch 162 => avg_loss: 0.006128\n",
      "# Validation loss => 0.099335 | f1-score: arg_iden = 0.895602 arg_class = 0.836371 #\n",
      "Epoch 163 => avg_loss: 0.006532\n",
      "# Validation loss => 0.096030 | f1-score: arg_iden = 0.894763 arg_class = 0.835934 #\n",
      "Epoch 164 => avg_loss: 0.006340\n",
      "# Validation loss => 0.096338 | f1-score: arg_iden = 0.894393 arg_class = 0.836735 #\n",
      "Epoch 165 => avg_loss: 0.006397\n",
      "# Validation loss => 0.092795 | f1-score: arg_iden = 0.894097 arg_class = 0.836258 #\n",
      "Epoch 166 => avg_loss: 0.006476\n",
      "# Validation loss => 0.096794 | f1-score: arg_iden = 0.894940 arg_class = 0.836122 #\n",
      "Epoch 167 => avg_loss: 0.006244\n",
      "# Validation loss => 0.095150 | f1-score: arg_iden = 0.895728 arg_class = 0.837367 #\n",
      "Epoch 168 => avg_loss: 0.006211\n",
      "# Validation loss => 0.099226 | f1-score: arg_iden = 0.895487 arg_class = 0.836903 #\n",
      "Epoch 169 => avg_loss: 0.005981\n",
      "# Validation loss => 0.098997 | f1-score: arg_iden = 0.896703 arg_class = 0.835143 #\n",
      "Epoch 170 => avg_loss: 0.006039\n",
      "# Validation loss => 0.097893 | f1-score: arg_iden = 0.894789 arg_class = 0.834555 #\n",
      "Epoch 171 => avg_loss: 0.005913\n",
      "# Validation loss => 0.095294 | f1-score: arg_iden = 0.895406 arg_class = 0.835952 #\n",
      "Epoch 172 => avg_loss: 0.005978\n",
      "# Validation loss => 0.095347 | f1-score: arg_iden = 0.896894 arg_class = 0.836558 #\n",
      "Epoch 173 => avg_loss: 0.005810\n",
      "# Validation loss => 0.100643 | f1-score: arg_iden = 0.895138 arg_class = 0.836518 #\n",
      "Epoch 174 => avg_loss: 0.006011\n",
      "# Validation loss => 0.097385 | f1-score: arg_iden = 0.897572 arg_class = 0.839412 #\n",
      "Epoch 175 => avg_loss: 0.005799\n",
      "# Validation loss => 0.096583 | f1-score: arg_iden = 0.893410 arg_class = 0.832870 #\n",
      "Epoch 176 => avg_loss: 0.005761\n",
      "# Validation loss => 0.094644 | f1-score: arg_iden = 0.896579 arg_class = 0.836118 #\n",
      "Epoch 177 => avg_loss: 0.006302\n",
      "# Validation loss => 0.097033 | f1-score: arg_iden = 0.896627 arg_class = 0.836733 #\n",
      "Epoch 178 => avg_loss: 0.005691\n",
      "# Validation loss => 0.097601 | f1-score: arg_iden = 0.896943 arg_class = 0.838395 #\n",
      "Epoch 179 => avg_loss: 0.005617\n",
      "# Validation loss => 0.100111 | f1-score: arg_iden = 0.896436 arg_class = 0.836015 #\n",
      "Epoch 180 => avg_loss: 0.005700\n",
      "# Validation loss => 0.098923 | f1-score: arg_iden = 0.896818 arg_class = 0.834572 #\n",
      "Epoch 181 => avg_loss: 0.005614\n",
      "# Validation loss => 0.099335 | f1-score: arg_iden = 0.898979 arg_class = 0.838902 #\n",
      "Epoch 182 => avg_loss: 0.005683\n",
      "# Validation loss => 0.099618 | f1-score: arg_iden = 0.897105 arg_class = 0.836836 #\n",
      "Epoch 183 => avg_loss: 0.005481\n",
      "# Validation loss => 0.099004 | f1-score: arg_iden = 0.896393 arg_class = 0.836847 #\n",
      "Epoch 184 => avg_loss: 0.005636\n",
      "# Validation loss => 0.100409 | f1-score: arg_iden = 0.896367 arg_class = 0.833830 #\n",
      "Epoch 185 => avg_loss: 0.005459\n",
      "# Validation loss => 0.100028 | f1-score: arg_iden = 0.896197 arg_class = 0.836767 #\n",
      "Epoch 186 => avg_loss: 0.005697\n",
      "# Validation loss => 0.099005 | f1-score: arg_iden = 0.897017 arg_class = 0.834771 #\n",
      "Epoch 187 => avg_loss: 0.005409\n",
      "# Validation loss => 0.099952 | f1-score: arg_iden = 0.895815 arg_class = 0.834471 #\n",
      "Epoch 188 => avg_loss: 0.005572\n",
      "# Validation loss => 0.098948 | f1-score: arg_iden = 0.894358 arg_class = 0.833733 #\n",
      "Epoch 189 => avg_loss: 0.005218\n",
      "# Validation loss => 0.100725 | f1-score: arg_iden = 0.896119 arg_class = 0.835224 #\n",
      "Epoch 190 => avg_loss: 0.005381\n",
      "# Validation loss => 0.100772 | f1-score: arg_iden = 0.895534 arg_class = 0.836518 #\n",
      "Epoch 191 => avg_loss: 0.005293\n",
      "# Validation loss => 0.099739 | f1-score: arg_iden = 0.895697 arg_class = 0.836407 #\n",
      "Epoch 192 => avg_loss: 0.005185\n",
      "# Validation loss => 0.099244 | f1-score: arg_iden = 0.895811 arg_class = 0.837695 #\n",
      "Epoch 193 => avg_loss: 0.005265\n",
      "# Validation loss => 0.099394 | f1-score: arg_iden = 0.894700 arg_class = 0.833712 #\n",
      "Epoch 194 => avg_loss: 0.005276\n",
      "# Validation loss => 0.096072 | f1-score: arg_iden = 0.897959 arg_class = 0.839136 #\n",
      "Epoch 195 => avg_loss: 0.005134\n",
      "# Validation loss => 0.101260 | f1-score: arg_iden = 0.894239 arg_class = 0.834345 #\n",
      "Epoch 196 => avg_loss: 0.005327\n",
      "# Validation loss => 0.099983 | f1-score: arg_iden = 0.895172 arg_class = 0.835839 #\n",
      "Epoch 197 => avg_loss: 0.005078\n",
      "# Validation loss => 0.100358 | f1-score: arg_iden = 0.893372 arg_class = 0.833151 #\n",
      "Epoch 198 => avg_loss: 0.005237\n",
      "# Validation loss => 0.101131 | f1-score: arg_iden = 0.893373 arg_class = 0.832839 #\n",
      "Epoch 199 => avg_loss: 0.005024\n",
      "# Validation loss => 0.101649 | f1-score: arg_iden = 0.895989 arg_class = 0.835871 #\n"
     ]
    }
   ],
   "source": [
    "from code_files.utils.Trainer_aic import Trainer_aic\n",
    "\n",
    "trainer_aic = Trainer_aic()\n",
    "\n",
    "history = trainer_aic.train(\n",
    "    model_aic, optimizer_aic, dataloader_train_en_aic, dataloader_dev_en_aic,\n",
    "    epochs=200, device=device,\n",
    "    save_best=True, \n",
    "    min_score=0.8,\n",
    "    save_path_name=os.path.join(model_dir_path, 'aic_transformer_united.pth'),\n",
    "    saved_history=history\n",
    ")"
   ]
  },
  {
   "cell_type": "code",
   "execution_count": 22,
   "metadata": {},
   "outputs": [
    {
     "data": {
      "image/png": "[encoded data removed]",
      "text/plain": [
       "<Figure size 800x800 with 1 Axes>"
      ]
     },
     "metadata": {},
     "output_type": "display_data"
    }
   ],
   "source": [
    "trainer_aic.display_history(history)"
   ]
  },
  {
   "cell_type": "code",
   "execution_count": 32,
   "metadata": {},
   "outputs": [
    {
     "name": "stdout",
     "output_type": "stream",
     "text": [
      "['_', 'agent', '_', 'theme', '_', '_', '_', '_', '_', '_', '_', '_', '_', '_', '_', '_']\n",
      "['_', 'agent', '_', 'theme', '_', '_', '_', '_', '_', '_', '_', '_', '_', '_', '_', '_']\n"
     ]
    }
   ],
   "source": [
    "print(model_aic.predict([[\"The\",\"Committee\",\"insists\",\"that\",\"all\",\"perpetrators\",\"of\",\"violations\",\"of\",\"the\",\"Convention\",\"be\",\"brought\",\"to\",\"justice\",\".\"]], [[\"insists\"]])[0])\n",
    "print([\"_\",\"agent\",\"_\",\"theme\",\"_\",\"_\",\"_\",\"_\",\"_\",\"_\",\"_\",\"_\",\"_\",\"_\",\"_\",\"_\"])"
   ]
  },
  {
   "cell_type": "code",
   "execution_count": null,
   "metadata": {},
   "outputs": [],
   "source": []
  }
 ],
 "metadata": {
  "kernelspec": {
   "display_name": "Python 3",
   "language": "python",
   "name": "python3"
  },
  "language_info": {
   "codemirror_mode": {
    "name": "ipython",
    "version": 3
   },
   "file_extension": ".py",
   "mimetype": "text/x-python",
   "name": "python",
   "nbconvert_exporter": "python",
   "pygments_lexer": "ipython3",
   "version": "3.8.10"
  },
  "orig_nbformat": 4,
  "vscode": {
   "interpreter": {
    "hash": "916dbcbb3f70747c44a77c7bcd40155683ae19c65e1c03b4aa3499c5328201f1"
   }
  }
 },
 "nbformat": 4,
 "nbformat_minor": 2
}
