{
 "cells": [
  {
   "cell_type": "markdown",
   "metadata": {},
   "source": [
    "In this notebook, I will train and test only the Predicate Disambiguation part of the SRL model on the noUniteD-SRL dataset generated. This task is composed of multiple steps:\n",
    "<ol>\n",
    "<li> Train the PD model on the verbal predicates + unambiguous nominal predicates\n",
    "<li> Generate a dataset of phrases with nominal ambiguous synsets with corresponding predicate identifications outputs (so that the model understands which words in the sentence to classify)\n",
    "<li> check the results proposed and compare it with the classical model implemented on notebook 1)\n",
    "</ol>"
   ]
  },
  {
   "cell_type": "markdown",
   "id": "3fe2040e",
   "metadata": {
    "papermill": {
     "duration": 0.078963,
     "end_time": "2022-03-31T22:14:09.386664",
     "exception": false,
     "start_time": "2022-03-31T22:14:09.307701",
     "status": "completed"
    },
    "tags": []
   },
   "source": [
    "## Prerequisites"
   ]
  },
  {
   "cell_type": "code",
   "execution_count": 1,
   "metadata": {},
   "outputs": [
    {
     "name": "stderr",
     "output_type": "stream",
     "text": [
      "/home/marco/miniconda3/envs/nuans_minihw2/lib/python3.9/site-packages/tqdm/auto.py:22: TqdmWarning: IProgress not found. Please update jupyter and ipywidgets. See https://ipywidgets.readthedocs.io/en/stable/user_install.html\n",
      "  from .autonotebook import tqdm as notebook_tqdm\n"
     ]
    }
   ],
   "source": [
    "import os, sys\n",
    "\n",
    "import numpy as np\n",
    "import tqdm\n",
    "import torch"
   ]
  },
  {
   "cell_type": "markdown",
   "id": "5424a631",
   "metadata": {
    "papermill": {
     "duration": 0.049244,
     "end_time": "2022-03-31T22:14:12.552634",
     "exception": false,
     "start_time": "2022-03-31T22:14:12.503390",
     "status": "completed"
    },
    "tags": []
   },
   "source": [
    "Important paths for the notebook:"
   ]
  },
  {
   "cell_type": "code",
   "execution_count": 2,
   "metadata": {},
   "outputs": [],
   "source": [
    "datasets_root_path = './datasets/'\n",
    "srl_dataset_path = os.path.join(datasets_root_path, 'maven_nounited_srl')\n",
    "checkpoints_dir_path = './checkpoints/'\n",
    "model_dir_path = os.path.join(checkpoints_dir_path, 'models_nounited_maven')\n",
    "\n",
    "srl_dataset_dict_paths = {}\n",
    "for lang in os.listdir(srl_dataset_path):\n",
    "    dataset_lang_path = os.path.join(srl_dataset_path, lang)\n",
    "    if os.path.isdir(dataset_lang_path):\n",
    "        srl_dataset_dict_paths[lang] = {}\n",
    "        for d_type in os.listdir(dataset_lang_path):\n",
    "            d_name = d_type.split('.')[0]\n",
    "            srl_dataset_dict_paths[lang][d_name] = os.path.join(dataset_lang_path, d_type)"
   ]
  },
  {
   "cell_type": "code",
   "execution_count": 3,
   "metadata": {},
   "outputs": [
    {
     "data": {
      "text/plain": [
       "'cuda'"
      ]
     },
     "execution_count": 3,
     "metadata": {},
     "output_type": "execute_result"
    }
   ],
   "source": [
    "%load_ext autoreload\n",
    "%autoreload 2\n",
    "\n",
    "device = 'cuda' if torch.cuda.is_available() else 'cpu'\n",
    "device"
   ]
  },
  {
   "cell_type": "markdown",
   "id": "c7bc95ee",
   "metadata": {
    "papermill": {
     "duration": 0.048851,
     "end_time": "2022-03-31T22:14:13.015246",
     "exception": false,
     "start_time": "2022-03-31T22:14:12.966395",
     "status": "completed"
    },
    "tags": []
   },
   "source": [
    "Setting the seed for reproducibility:"
   ]
  },
  {
   "cell_type": "code",
   "execution_count": 4,
   "metadata": {},
   "outputs": [],
   "source": [
    "SEED = 28\n",
    "\n",
    "# random.seed(SEED) # not used\n",
    "np.random.seed(SEED)\n",
    "torch.manual_seed(SEED)\n",
    "torch.backends.cudnn.deterministic = True"
   ]
  },
  {
   "cell_type": "code",
   "execution_count": 5,
   "metadata": {},
   "outputs": [],
   "source": [
    "global_params = {\n",
    "    'batch_size': 32,\n",
    "    'transformer_name': \"xlm-roberta-base\",\n",
    "}"
   ]
  },
  {
   "cell_type": "code",
   "execution_count": 6,
   "metadata": {},
   "outputs": [],
   "source": [
    "from code_files.datasets.dataset_nounited import DatasetNoUniteD"
   ]
  },
  {
   "cell_type": "markdown",
   "metadata": {},
   "source": [
    "## 1. Training the Predicate Disambiguation-only model in order to classify ambiguous nominal synsets"
   ]
  },
  {
   "cell_type": "code",
   "execution_count": 7,
   "metadata": {},
   "outputs": [],
   "source": [
    "split_type = ''"
   ]
  },
  {
   "cell_type": "code",
   "execution_count": 8,
   "metadata": {},
   "outputs": [],
   "source": [
    "dataset_train_en_pid = DatasetNoUniteD(  srl_dataset_dict_paths['EN']['train'], split_predicates=False, split_type_to_use = split_type )\n",
    "dataset_dev_en_pid = DatasetNoUniteD(  srl_dataset_dict_paths['EN']['dev'], split_predicates=False, split_type_to_use = split_type )"
   ]
  },
  {
   "cell_type": "code",
   "execution_count": 9,
   "metadata": {},
   "outputs": [],
   "source": [
    "global_params.update({\n",
    "    'n_roles_labels': len(dataset_train_en_pid.id_to_roles),\n",
    "    'n_predicates_labels': len(dataset_train_en_pid.id_to_predicates),\n",
    "\n",
    "    'id_to_roles': dataset_train_en_pid.id_to_roles,\n",
    "    'roles_to_id': dataset_train_en_pid.roles_to_id,\n",
    "    'roles_pad_id': dataset_train_en_pid.roles_pad_id,\n",
    "    'roles_pad': dataset_train_en_pid.roles_pad,\n",
    "\n",
    "    'id_to_predicates': dataset_train_en_pid.id_to_predicates,\n",
    "    'predicates_to_id': dataset_train_en_pid.predicates_to_id,\n",
    "    'predicates_pad_id': dataset_train_en_pid.predicates_pad_id,\n",
    "    'predicates_pad': dataset_train_en_pid.predicates_pad,\n",
    "})"
   ]
  },
  {
   "cell_type": "code",
   "execution_count": 10,
   "metadata": {},
   "outputs": [],
   "source": [
    "np.save(os.path.join(model_dir_path, 'global_params.npy'), global_params)"
   ]
  },
  {
   "cell_type": "code",
   "execution_count": 11,
   "metadata": {},
   "outputs": [
    {
     "data": {
      "text/plain": [
       "(24575, 6143)"
      ]
     },
     "execution_count": 11,
     "metadata": {},
     "output_type": "execute_result"
    }
   ],
   "source": [
    "len(dataset_train_en_pid.data), len(dataset_dev_en_pid.data)"
   ]
  },
  {
   "cell_type": "code",
   "execution_count": 12,
   "metadata": {},
   "outputs": [
    {
     "name": "stdout",
     "output_type": "stream",
     "text": [
      "{'words': ['The', '2006', 'Pangandaran', 'earthquake', 'and', 'tsunami', 'occurred', 'on', 'July', '17', 'at', 'along', 'a', 'subduction', 'zone', 'off', 'the', 'coast', 'of', 'west', 'and', 'central', 'Java', ',', 'a', 'large', 'and', 'densely', 'populated', 'island', 'in', 'the', 'Indonesian', 'archipelago', '.'], 'predicates': ['_', '_', '_', 'MOVE-ONESELF', '_', '_', 'HAPPEN_OCCUR', '_', '_', '_', '_', '_', '_', '_', '_', '_', '_', '_', '_', '_', '_', '_', '_', '_', '_', '_', '_', '_', '_', '_', '_', '_', '_', '_', '_'], 'predicates_v': ['_', '_', '_', '_', '_', '_', 'HAPPEN_OCCUR', '_', '_', '_', '_', '_', '_', '_', '_', '_', '_', '_', '_', '_', '_', '_', '_', '_', '_', '_', '_', '_', '_', '_', '_', '_', '_', '_', '_'], 'predicates_n': ['_', '_', '_', 'MOVE-ONESELF', '_', '_', '_', '_', '_', '_', '_', '_', '_', '_', '_', '_', '_', '_', '_', '_', '_', '_', '_', '_', '_', '_', '_', '_', '_', '_', '_', '_', '_', '_', '_'], 'roles': {'6': ['_', '_', '_', 'theme', '_', '_', '_', '_', '_', '_', '_', '_', '_', '_', '_', '_', '_', '_', '_', '_', '_', '_', '_', '_', '_', '_', '_', '_', '_', '_', '_', '_', '_', '_', '_']}, 'roles_v': {'6': ['_', '_', '_', 'theme', '_', '_', '_', '_', '_', '_', '_', '_', '_', '_', '_', '_', '_', '_', '_', '_', '_', '_', '_', '_', '_', '_', '_', '_', '_', '_', '_', '_', '_', '_', '_']}, 'roles_n': {}, 'num_v': 1, 'num_n': 1, 'lemmas': ['the', '2006', 'Pangandaran', 'earthquake', 'and', 'tsunami', 'occur', 'on', 'July', '17', 'at', 'along', 'a', 'subduction', 'zone', 'off', 'the', 'coast', 'of', 'west', 'and', 'central', 'Java', ',', 'a', 'large', 'and', 'densely', 'populate', 'island', 'in', 'the', 'Indonesian', 'archipelago', '.'], 'pos_tags': ['DET', 'NUM', 'PROPN', 'NOUN', 'CCONJ', 'NOUN', 'VERB', 'ADP', 'PROPN', 'NUM', 'ADP', 'ADP', 'DET', 'NOUN', 'NOUN', 'ADP', 'DET', 'NOUN', 'ADP', 'PROPN', 'CCONJ', 'ADJ', 'PROPN', 'PUNCT', 'DET', 'ADJ', 'CCONJ', 'ADV', 'VERB', 'NOUN', 'ADP', 'DET', 'ADJ', 'NOUN', 'PUNCT'], 'dependency_heads': [4, 4, 4, 7, 6, 4, 0, 10, 10, 7, 15, 15, 15, 15, 7, 18, 18, 15, 20, 18, 23, 23, 20, 30, 30, 30, 29, 29, 26, 18, 34, 34, 34, 30, 7], 'dependency_relations': ['det', 'compound', 'compound', 'nsubj', 'cc', 'conj', 'root', 'case', 'compound', 'obl', 'case', 'case', 'det', 'compound', 'obl', 'case', 'det', 'nmod', 'case', 'nmod', 'cc', 'amod', 'conj', 'punct', 'det', 'amod', 'cc', 'advmod', 'conj', 'appos', 'case', 'det', 'amod', 'nmod', 'punct']} \n",
      "\n",
      " {'words': ['The', 'ANZACs', 'had', 'landed', 'two', 'divisions', 'but', 'over', 'two', 'thousand', 'of', 'their', 'men', 'had', 'been', 'killed', 'or', 'wounded', ',', 'together', 'with', 'at', 'least', 'a', 'similar', 'number', 'of', 'Turkish', 'casualties', '.'], 'predicates': ['_', '_', '_', 'ARRIVE', '_', '_', '_', '_', '_', '_', '_', '_', '_', '_', '_', 'KILL', '_', 'HURT_HARM_ACHE', '_', '_', '_', '_', '_', '_', '_', '_', '_', '_', '_', '_'], 'predicates_v': ['_', '_', '_', 'ARRIVE', '_', '_', '_', '_', '_', '_', '_', '_', '_', '_', '_', 'KILL', '_', 'HURT_HARM_ACHE', '_', '_', '_', '_', '_', '_', '_', '_', '_', '_', '_', '_'], 'predicates_n': ['_', '_', '_', '_', '_', '_', '_', '_', '_', '_', '_', '_', '_', '_', '_', '_', '_', '_', '_', '_', '_', '_', '_', '_', '_', '_', '_', '_', '_', '_'], 'roles': {'3': ['_', 'agent', '_', '_', '_', 'patient', '_', '_', '_', '_', '_', '_', '_', '_', '_', '_', '_', '_', '_', '_', '_', '_', '_', '_', '_', '_', '_', '_', '_', '_'], '15': ['_', '_', '_', '_', '_', '_', '_', '_', '_', 'patient', '_', '_', '_', '_', '_', '_', '_', '_', '_', '_', '_', '_', '_', '_', '_', '_', '_', '_', '_', '_'], '17': ['_', '_', '_', '_', '_', '_', '_', '_', '_', 'experiencer', '_', '_', '_', '_', '_', '_', '_', '_', '_', '_', '_', '_', '_', '_', '_', '_', '_', '_', '_', '_']}, 'roles_v': {'3': ['_', 'agent', '_', '_', '_', 'patient', '_', '_', '_', '_', '_', '_', '_', '_', '_', '_', '_', '_', '_', '_', '_', '_', '_', '_', '_', '_', '_', '_', '_', '_'], '15': ['_', '_', '_', '_', '_', '_', '_', '_', '_', 'patient', '_', '_', '_', '_', '_', '_', '_', '_', '_', '_', '_', '_', '_', '_', '_', '_', '_', '_', '_', '_'], '17': ['_', '_', '_', '_', '_', '_', '_', '_', '_', 'experiencer', '_', '_', '_', '_', '_', '_', '_', '_', '_', '_', '_', '_', '_', '_', '_', '_', '_', '_', '_', '_']}, 'roles_n': {}, 'num_v': 6, 'num_n': 0, 'lemmas': ['the', 'ANZACs', 'have', 'land', 'two', 'division', 'but', 'over', 'two', 'thousand', 'of', 'they', 'man', 'have', 'be', 'kill', 'or', 'wound', ',', 'together', 'with', 'at', 'least', 'a', 'similar', 'number', 'of', 'Turkish', 'casualty', '.'], 'pos_tags': ['DET', 'PROPN', 'AUX', 'VERB', 'NUM', 'NOUN', 'CCONJ', 'ADV', 'NUM', 'NUM', 'ADP', 'PRON', 'NOUN', 'AUX', 'AUX', 'VERB', 'CCONJ', 'VERB', 'PUNCT', 'ADV', 'ADP', 'ADP', 'ADJ', 'DET', 'ADJ', 'NOUN', 'ADP', 'ADJ', 'NOUN', 'PUNCT'], 'dependency_heads': [2, 4, 4, 0, 6, 4, 16, 9, 10, 16, 13, 13, 10, 16, 16, 4, 18, 16, 16, 16, 26, 23, 26, 26, 26, 16, 29, 29, 26, 4], 'dependency_relations': ['det', 'nsubj', 'aux', 'root', 'nummod', 'obj', 'cc', 'advmod', 'nummod', 'nsubj:pass', 'case', 'nmod:poss', 'nmod', 'aux', 'aux:pass', 'conj', 'cc', 'conj', 'punct', 'advmod', 'case', 'case', 'nmod', 'det', 'amod', 'obl', 'case', 'amod', 'nmod', 'punct']}\n"
     ]
    }
   ],
   "source": [
    "print(dataset_train_en_pid[0],'\\n\\n',dataset_dev_en_pid[0])"
   ]
  },
  {
   "cell_type": "code",
   "execution_count": 13,
   "metadata": {},
   "outputs": [],
   "source": [
    "from torch.utils.data import DataLoader\n",
    "\n",
    "dataloader_train_en_pid = DataLoader(\n",
    "    dataset_train_en_pid,\n",
    "    batch_size=global_params['batch_size'],\n",
    "    collate_fn=dataset_train_en_pid.create_collate_fn(),\n",
    "    shuffle=True,\n",
    ")\n",
    "\n",
    "dataloader_dev_en_pid = DataLoader(\n",
    "    dataset_dev_en_pid,\n",
    "    batch_size=global_params['batch_size'],\n",
    "    collate_fn=dataset_dev_en_pid.create_collate_fn(),\n",
    "    shuffle=False,\n",
    ")"
   ]
  },
  {
   "cell_type": "code",
   "execution_count": 14,
   "metadata": {},
   "outputs": [],
   "source": [
    "for e in dataloader_dev_en_pid:\n",
    "    ex_in = e\n",
    "    break"
   ]
  },
  {
   "cell_type": "code",
   "execution_count": 15,
   "metadata": {},
   "outputs": [
    {
     "name": "stdout",
     "output_type": "stream",
     "text": [
      "['Since', '1916', 'the', 'anniversary', 'of', 'the', 'landings', 'on', '25', 'April', 'has', 'been', 'commemorated', 'as', 'Anzac', 'Day', ',', 'becoming', 'one', 'of', 'the', 'most', 'important', 'national', 'celebrations', 'in', 'Australia', 'and', 'New', 'Zealand', '.'] \n",
      " ['_', '_', '_', '_', '_', '_', 'LAND_GET-OFF', '_', '_', '_', '_', '_', 'CELEBRATE_PARTY', '_', '_', '_', '_', 'CHANGE_SWITCH', '_', '_', '_', '_', '_', '_', '_', '_', '_', '_', '_', '_', '_'] \n",
      " [0, 0, 0, 0, 0, 0, 1, 0, 0, 0, 0, 0, 1, 0, 0, 0, 0, 1, 0, 0, 0, 0, 0, 0, 0, 0, 0, 0, 0, 0, 0]\n"
     ]
    }
   ],
   "source": [
    "smpl = 1\n",
    "print(\n",
    "    ex_in['words'][smpl], '\\n', \n",
    "    ex_in['predicates'][smpl], '\\n', \n",
    "    ex_in['predicates_positions'][smpl])"
   ]
  },
  {
   "cell_type": "code",
   "execution_count": 16,
   "metadata": {},
   "outputs": [],
   "source": [
    "loss_function_pid = torch.nn.CrossEntropyLoss(ignore_index = dataset_train_en_pid.predicates_pad_id) # !"
   ]
  },
  {
   "cell_type": "code",
   "execution_count": 17,
   "metadata": {},
   "outputs": [
    {
     "name": "stderr",
     "output_type": "stream",
     "text": [
      "Some weights of the model checkpoint at xlm-roberta-base were not used when initializing XLMRobertaModel: ['lm_head.layer_norm.bias', 'lm_head.layer_norm.weight', 'lm_head.decoder.weight', 'lm_head.dense.weight', 'lm_head.bias', 'lm_head.dense.bias']\n",
      "- This IS expected if you are initializing XLMRobertaModel from the checkpoint of a model trained on another task or with another architecture (e.g. initializing a BertForSequenceClassification model from a BertForPreTraining model).\n",
      "- This IS NOT expected if you are initializing XLMRobertaModel from the checkpoint of a model that you expect to be exactly identical (initializing a BertForSequenceClassification model from a BertForSequenceClassification model).\n"
     ]
    }
   ],
   "source": [
    "from code_files.models.model_pid import ModelPID\n",
    "from code_files.utils.utils_functions import print_summary\n",
    "import torch.optim as optim\n",
    "\n",
    "model_pid = ModelPID(\n",
    "    loss_fn = loss_function_pid,\n",
    "    hparams = global_params,\n",
    "    fine_tune_transformer = True,\n",
    "    has_predicates_positions = True # it does ONLY pred disamb\n",
    ")"
   ]
  },
  {
   "cell_type": "code",
   "execution_count": 18,
   "metadata": {},
   "outputs": [],
   "source": [
    "optimizer_pid = optim.SGD(model_pid.parameters(), lr=0.0016, momentum=0.9) "
   ]
  },
  {
   "cell_type": "code",
   "execution_count": 19,
   "metadata": {},
   "outputs": [
    {
     "name": "stdout",
     "output_type": "stream",
     "text": [
      "parameters: 278,376,625\n",
      "trainable parameters: 278,376,625\n",
      "non-trainable parameters: 0\n"
     ]
    }
   ],
   "source": [
    "print_summary(model_pid, short=True)"
   ]
  },
  {
   "cell_type": "code",
   "execution_count": 20,
   "metadata": {},
   "outputs": [],
   "source": [
    "history = {}"
   ]
  },
  {
   "cell_type": "code",
   "execution_count": 21,
   "metadata": {},
   "outputs": [
    {
     "ename": "TypeError",
     "evalue": "expected Tensor as element 0 in argument 0, but got list",
     "output_type": "error",
     "traceback": [
      "\u001b[0;31m---------------------------------------------------------------------------\u001b[0m",
      "\u001b[0;31mTypeError\u001b[0m                                 Traceback (most recent call last)",
      "Cell \u001b[0;32mIn [21], line 5\u001b[0m\n\u001b[1;32m      1\u001b[0m \u001b[39mfrom\u001b[39;00m \u001b[39mcode_files\u001b[39;00m\u001b[39m.\u001b[39;00m\u001b[39mutils\u001b[39;00m\u001b[39m.\u001b[39;00m\u001b[39mTrainer_pid\u001b[39;00m \u001b[39mimport\u001b[39;00m Trainer_pid\n\u001b[1;32m      3\u001b[0m trainer_pid \u001b[39m=\u001b[39m Trainer_pid()\n\u001b[0;32m----> 5\u001b[0m history \u001b[39m=\u001b[39m trainer_pid\u001b[39m.\u001b[39;49mtrain(\n\u001b[1;32m      6\u001b[0m     model_pid, optimizer_pid, dataloader_train_en_pid, dataloader_dev_en_pid,\n\u001b[1;32m      7\u001b[0m     epochs\u001b[39m=\u001b[39;49m\u001b[39m100\u001b[39;49m, device\u001b[39m=\u001b[39;49mdevice,\n\u001b[1;32m      8\u001b[0m     save_best\u001b[39m=\u001b[39;49m\u001b[39mTrue\u001b[39;49;00m, \n\u001b[1;32m      9\u001b[0m     min_score\u001b[39m=\u001b[39;49m\u001b[39m0.8\u001b[39;49m,\n\u001b[1;32m     10\u001b[0m     save_path_name\u001b[39m=\u001b[39;49mos\u001b[39m.\u001b[39;49mpath\u001b[39m.\u001b[39;49mjoin(model_dir_path, \u001b[39mf\u001b[39;49m\u001b[39m'\u001b[39;49m\u001b[39mpdonly_transformer_nounited\u001b[39;49m\u001b[39m{\u001b[39;49;00msplit_type\u001b[39m}\u001b[39;49;00m\u001b[39m.pth\u001b[39;49m\u001b[39m'\u001b[39;49m),\n\u001b[1;32m     11\u001b[0m     saved_history\u001b[39m=\u001b[39;49mhistory\n\u001b[1;32m     12\u001b[0m )\n",
      "File \u001b[0;32m/mnt/c/Users/Marco/Desktop/Magistrale/EAI/Navigli/NounAtlasCreator/code_files/utils/Trainer.py:54\u001b[0m, in \u001b[0;36mTrainer.train\u001b[0;34m(self, model, optimizer, train_dataloader, valid_dataloader, epochs, verbose, save_best, save_path_name, min_score, saved_history, device)\u001b[0m\n\u001b[1;32m     52\u001b[0m \u001b[39m# batches of the training set\u001b[39;00m\n\u001b[1;32m     53\u001b[0m \u001b[39mfor\u001b[39;00m step, sample \u001b[39min\u001b[39;00m \u001b[39menumerate\u001b[39m(train_dataloader):\n\u001b[0;32m---> 54\u001b[0m     dict_out \u001b[39m=\u001b[39m \u001b[39mself\u001b[39;49m\u001b[39m.\u001b[39;49mcompute_forward(model, sample, device, optimizer \u001b[39m=\u001b[39;49m optimizer) \u001b[39m# override\u001b[39;00m\n\u001b[1;32m     55\u001b[0m     losses\u001b[39m.\u001b[39mappend(dict_out[\u001b[39m'\u001b[39m\u001b[39mloss\u001b[39m\u001b[39m'\u001b[39m]\u001b[39m.\u001b[39mitem())\n\u001b[1;32m     57\u001b[0m mean_loss \u001b[39m=\u001b[39m \u001b[39msum\u001b[39m(losses) \u001b[39m/\u001b[39m \u001b[39mlen\u001b[39m(losses)\n",
      "File \u001b[0;32m/mnt/c/Users/Marco/Desktop/Magistrale/EAI/Navigli/NounAtlasCreator/code_files/utils/Trainer_pid.py:31\u001b[0m, in \u001b[0;36mTrainer_pid.compute_forward\u001b[0;34m(self, model, sample, device, optimizer)\u001b[0m\n\u001b[1;32m     28\u001b[0m \u001b[39m# outputs\u001b[39;00m\n\u001b[1;32m     29\u001b[0m labels_raw \u001b[39m=\u001b[39m sample[\u001b[39m'\u001b[39m\u001b[39mpredicates\u001b[39m\u001b[39m'\u001b[39m]\n\u001b[0;32m---> 31\u001b[0m predictions, batch_encoding \u001b[39m=\u001b[39m model\u001b[39m.\u001b[39;49mforward(\n\u001b[1;32m     32\u001b[0m     words,\n\u001b[1;32m     33\u001b[0m     predicates_positions \u001b[39m=\u001b[39;49m predicates_positions \u001b[39mif\u001b[39;49;00m model\u001b[39m.\u001b[39;49mhas_predicates_positions \u001b[39melse\u001b[39;49;00m \u001b[39mNone\u001b[39;49;00m\n\u001b[1;32m     34\u001b[0m )\n\u001b[1;32m     36\u001b[0m predictions_raw \u001b[39m=\u001b[39m model\u001b[39m.\u001b[39mprocess_predictions(predictions, batch_encoding)\n\u001b[1;32m     38\u001b[0m labels_processed \u001b[39m=\u001b[39m []\n",
      "File \u001b[0;32m/mnt/c/Users/Marco/Desktop/Magistrale/EAI/Navigli/NounAtlasCreator/code_files/models/model_pid.py:86\u001b[0m, in \u001b[0;36mModelPID.forward\u001b[0;34m(self, text, text_pair, predicates_positions, is_split_into_words)\u001b[0m\n\u001b[1;32m     80\u001b[0m         words_ids \u001b[39m=\u001b[39m batch_encoding\u001b[39m.\u001b[39mword_ids(batch_index \u001b[39m=\u001b[39m i)\n\u001b[1;32m     81\u001b[0m         predicates_positions_processed\u001b[39m.\u001b[39mappend(torch\u001b[39m.\u001b[39mtensor([\n\u001b[1;32m     82\u001b[0m             \u001b[39m0\u001b[39m \u001b[39mif\u001b[39;00m v \u001b[39m==\u001b[39m \u001b[39mNone\u001b[39;00m \u001b[39mor\u001b[39;00m (v \u001b[39m!=\u001b[39m \u001b[39mNone\u001b[39;00m \u001b[39mand\u001b[39;00m j\u001b[39m-\u001b[39m\u001b[39m1\u001b[39m\u001b[39m>\u001b[39m\u001b[39m=\u001b[39m\u001b[39m0\u001b[39m \u001b[39mand\u001b[39;00m words_ids[j\u001b[39m-\u001b[39m\u001b[39m1\u001b[39m]\u001b[39m==\u001b[39mwords_ids[j])\n\u001b[1;32m     83\u001b[0m             \u001b[39melse\u001b[39;00m \u001b[39m1\u001b[39m\n\u001b[1;32m     84\u001b[0m             \u001b[39mfor\u001b[39;00m j,v \u001b[39min\u001b[39;00m \u001b[39menumerate\u001b[39m(words_ids)\n\u001b[1;32m     85\u001b[0m         ]))\n\u001b[0;32m---> 86\u001b[0m     predicates_positions_processed \u001b[39m=\u001b[39m torch\u001b[39m.\u001b[39;49mstack(predicates_positions)\n\u001b[1;32m     88\u001b[0m     batch_sentence_words \u001b[39m=\u001b[39m batch_sentence_words \u001b[39m*\u001b[39m predicates_positions\u001b[39m.\u001b[39munsqueeze(\u001b[39m-\u001b[39m\u001b[39m1\u001b[39m)\n\u001b[1;32m     90\u001b[0m predictions \u001b[39m=\u001b[39m \u001b[39mself\u001b[39m\u001b[39m.\u001b[39mclassifier(batch_sentence_words)\n",
      "\u001b[0;31mTypeError\u001b[0m: expected Tensor as element 0 in argument 0, but got list"
     ]
    }
   ],
   "source": [
    "from code_files.utils.Trainer_pid import Trainer_pid\n",
    "\n",
    "trainer_pid = Trainer_pid()\n",
    "\n",
    "history = trainer_pid.train(\n",
    "    model_pid, optimizer_pid, dataloader_train_en_pid, dataloader_dev_en_pid,\n",
    "    epochs=100, device=device,\n",
    "    save_best=True, \n",
    "    min_score=0.8,\n",
    "    save_path_name=os.path.join(model_dir_path, f'pdonly_transformer_nounited{split_type}.pth'),\n",
    "    saved_history=history\n",
    ")"
   ]
  },
  {
   "cell_type": "code",
   "execution_count": null,
   "metadata": {},
   "outputs": [
    {
     "data": {
      "image/png": "[encoded data removed]",
      "text/plain": [
       "<Figure size 800x800 with 1 Axes>"
      ]
     },
     "metadata": {},
     "output_type": "display_data"
    }
   ],
   "source": [
    "trainer_pid.display_history(history)"
   ]
  },
  {
   "cell_type": "code",
   "execution_count": null,
   "metadata": {},
   "outputs": [
    {
     "name": "stdout",
     "output_type": "stream",
     "text": [
      "['Since', '1916', 'the', 'anniversary', 'of', 'the', 'landings', 'on', '25', 'April', 'has', 'been', 'commemorated', 'as', 'Anzac', 'Day', ',', 'becoming', 'one', 'of', 'the', 'most', 'important', 'national', 'celebrations', 'in', 'Australia', 'and', 'New', 'Zealand', '.'] \n",
      " ['_', '_', '_', '_', '_', '_', 'LAND_GET-OFF', '_', '_', '_', '_', '_', 'CELEBRATE_PARTY', '_', '_', '_', '_', 'CHANGE_SWITCH', '_', '_', '_', '_', '_', '_', '_', '_', '_', '_', '_', '_', '_'] \n",
      " [0, 0, 0, 0, 0, 0, 1, 0, 0, 0, 0, 0, 1, 0, 0, 0, 0, 1, 0, 0, 0, 0, 0, 0, 0, 0, 0, 0, 0, 0, 0]\n"
     ]
    }
   ],
   "source": [
    "smpl = 1\n",
    "print(\n",
    "    ex_in['words'][smpl], '\\n', \n",
    "    ex_in['predicates'][smpl], '\\n', \n",
    "    ex_in['predicates_positions'][smpl])"
   ]
  },
  {
   "cell_type": "code",
   "execution_count": null,
   "metadata": {},
   "outputs": [
    {
     "name": "stdout",
     "output_type": "stream",
     "text": [
      "['_', '_', '_', '_', 'CELEBRATE_PARTY', '_', '_', '_', '_', '_', '_', '_']\n"
     ]
    }
   ],
   "source": [
    "print(\n",
    "    model_pid.predict(\n",
    "        [ex_in['words'][smpl]],\n",
    "        [ex_in['predicates_positions'][smpl]]\n",
    "    )[0]\n",
    ")"
   ]
  }
 ],
 "metadata": {
  "kernelspec": {
   "display_name": "Python 3 (ipykernel)",
   "language": "python",
   "name": "python3"
  },
  "language_info": {
   "codemirror_mode": {
    "name": "ipython",
    "version": 3
   },
   "file_extension": ".py",
   "mimetype": "text/x-python",
   "name": "python",
   "nbconvert_exporter": "python",
   "pygments_lexer": "ipython3",
   "version": "3.9.15"
  },
  "vscode": {
   "interpreter": {
    "hash": "a8ff4b25b18867855edb86ba2aaa718c4e3e5e5df1f72ad6de2c0263a3e32427"
   }
  }
 },
 "nbformat": 4,
 "nbformat_minor": 2
}
