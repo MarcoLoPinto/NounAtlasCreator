{
 "cells": [
  {
   "attachments": {},
   "cell_type": "markdown",
   "metadata": {},
   "source": [
    "In this notebook, I will train and test my custom SRL model on the UniteD-SRL dataset in order to have a baseline for the noUniteD-SRL dataset creation."
   ]
  },
  {
   "cell_type": "markdown",
   "id": "3fe2040e",
   "metadata": {
    "papermill": {
     "duration": 0.078963,
     "end_time": "2022-03-31T22:14:09.386664",
     "exception": false,
     "start_time": "2022-03-31T22:14:09.307701",
     "status": "completed"
    },
    "tags": []
   },
   "source": [
    "# Prerequisites"
   ]
  },
  {
   "cell_type": "code",
   "execution_count": 1,
   "metadata": {},
   "outputs": [],
   "source": [
    "import os, sys\n",
    "\n",
    "import numpy as np\n",
    "import tqdm\n",
    "import torch"
   ]
  },
  {
   "cell_type": "markdown",
   "id": "5424a631",
   "metadata": {
    "papermill": {
     "duration": 0.049244,
     "end_time": "2022-03-31T22:14:12.552634",
     "exception": false,
     "start_time": "2022-03-31T22:14:12.503390",
     "status": "completed"
    },
    "tags": []
   },
   "source": [
    "Important paths for the notebook:"
   ]
  },
  {
   "cell_type": "code",
   "execution_count": 2,
   "metadata": {},
   "outputs": [],
   "source": [
    "datasets_root_path = './datasets/'\n",
    "srl_dataset_path = os.path.join(datasets_root_path, 'united-srl')\n",
    "checkpoints_dir_path = './checkpoints/'\n",
    "model_dir_path = os.path.join(checkpoints_dir_path, 'model_pid')\n",
    "\n",
    "srl_dataset_dict_paths = {}\n",
    "for lang in os.listdir(srl_dataset_path):\n",
    "    dataset_lang_path = os.path.join(srl_dataset_path, lang)\n",
    "    if os.path.isdir(dataset_lang_path):\n",
    "        srl_dataset_dict_paths[lang] = {}\n",
    "        for d_type in os.listdir(dataset_lang_path):\n",
    "            d_name = d_type.split('.')[0]\n",
    "            srl_dataset_dict_paths[lang][d_name] = os.path.join(dataset_lang_path, d_type)"
   ]
  },
  {
   "cell_type": "code",
   "execution_count": 3,
   "metadata": {},
   "outputs": [
    {
     "data": {
      "text/plain": [
       "'cuda'"
      ]
     },
     "execution_count": 3,
     "metadata": {},
     "output_type": "execute_result"
    }
   ],
   "source": [
    "%load_ext autoreload\n",
    "%autoreload 2\n",
    "\n",
    "device = 'cuda' if torch.cuda.is_available() else 'cpu'\n",
    "device"
   ]
  },
  {
   "cell_type": "markdown",
   "id": "c7bc95ee",
   "metadata": {
    "papermill": {
     "duration": 0.048851,
     "end_time": "2022-03-31T22:14:13.015246",
     "exception": false,
     "start_time": "2022-03-31T22:14:12.966395",
     "status": "completed"
    },
    "tags": []
   },
   "source": [
    "Setting the seed for reproducibility:"
   ]
  },
  {
   "cell_type": "code",
   "execution_count": 4,
   "metadata": {},
   "outputs": [],
   "source": [
    "SEED = 28\n",
    "\n",
    "# random.seed(SEED) # not used\n",
    "np.random.seed(SEED)\n",
    "torch.manual_seed(SEED)\n",
    "torch.backends.cudnn.deterministic = True"
   ]
  },
  {
   "cell_type": "code",
   "execution_count": 5,
   "metadata": {},
   "outputs": [],
   "source": [
    "global_params = {\n",
    "    'batch_size': 32,\n",
    "    'transformer_name': \"xlm-roberta-base\",\n",
    "}"
   ]
  },
  {
   "attachments": {},
   "cell_type": "markdown",
   "metadata": {},
   "source": [
    "# Dataset"
   ]
  },
  {
   "cell_type": "code",
   "execution_count": 6,
   "metadata": {},
   "outputs": [],
   "source": [
    "from code_files.datasets.dataset_united import DatasetUniteD"
   ]
  },
  {
   "cell_type": "code",
   "execution_count": 7,
   "metadata": {},
   "outputs": [],
   "source": [
    "dataset_train_en = DatasetUniteD(  srl_dataset_dict_paths['EN']['train'] )\n",
    "dataset_dev_en = DatasetUniteD(  srl_dataset_dict_paths['EN']['dev'] )"
   ]
  },
  {
   "cell_type": "code",
   "execution_count": 8,
   "metadata": {},
   "outputs": [],
   "source": [
    "global_params.update({\n",
    "    'n_roles_labels': len(dataset_train_en.id_to_roles),\n",
    "    'n_predicates_labels': len(dataset_train_en.id_to_predicates),\n",
    "\n",
    "    'id_to_roles': dataset_train_en.id_to_roles,\n",
    "    'roles_to_id': dataset_train_en.roles_to_id,\n",
    "    'roles_pad_id': dataset_train_en.roles_pad_id,\n",
    "    'roles_pad': dataset_train_en.roles_pad,\n",
    "\n",
    "    'id_to_predicates': dataset_train_en.id_to_predicates,\n",
    "    'predicates_to_id': dataset_train_en.predicates_to_id,\n",
    "    'predicates_pad_id': dataset_train_en.predicates_pad_id,\n",
    "    'predicates_pad': dataset_train_en.predicates_pad,\n",
    "})"
   ]
  },
  {
   "cell_type": "code",
   "execution_count": 9,
   "metadata": {},
   "outputs": [],
   "source": [
    "np.save(os.path.join(model_dir_path, 'global_params.npy'), global_params)"
   ]
  },
  {
   "cell_type": "code",
   "execution_count": 10,
   "metadata": {},
   "outputs": [
    {
     "data": {
      "text/plain": [
       "(5501, 1026)"
      ]
     },
     "execution_count": 10,
     "metadata": {},
     "output_type": "execute_result"
    }
   ],
   "source": [
    "len(dataset_train_en.data), len(dataset_dev_en.data)"
   ]
  },
  {
   "cell_type": "code",
   "execution_count": 11,
   "metadata": {},
   "outputs": [
    {
     "name": "stdout",
     "output_type": "stream",
     "text": [
      "{'dependency_heads': [3, 3, 0, 8, 7, 7, 8, 3, 10, 8, 13, 13, 10, 3], 'dependency_relations': ['nsubj', 'advmod', 'root', 'mark', 'det', 'amod', 'nsubj', 'ccomp', 'amod', 'obj', 'case', 'amod', 'nmod', 'punct'], 'lemmas': ['member', 'also', 'ask', 'whether', 'all', 'social', 'group', 'enjoy', 'equal', 'access', 'to', 'higher', 'education', '.'], 'pos_tags': ['NOUN', 'ADV', 'VERB', 'SCONJ', 'DET', 'ADJ', 'NOUN', 'VERB', 'ADJ', 'NOUN', 'ADP', 'ADJ', 'NOUN', 'PUNCT'], 'predicates': ['_', '_', 'ASK_REQUEST', '_', '_', '_', '_', 'BENEFIT_EXPLOIT', '_', '_', '_', '_', '_', '_'], 'roles': {'2': ['agent', '_', '_', 'theme', '_', '_', '_', '_', '_', '_', '_', '_', '_', '_'], '7': ['_', '_', '_', '_', '_', '_', 'beneficiary', '_', '_', 'theme', '_', '_', '_', '_']}, 'words': ['Members', 'also', 'asked', 'whether', 'all', 'social', 'groups', 'enjoyed', 'equal', 'access', 'to', 'higher', 'education', '.']} \n",
      "\n",
      " {'dependency_heads': [2, 3, 0, 8, 7, 7, 8, 3, 10, 8, 12, 8, 14, 12, 19, 19, 18, 19, 14, 21, 19, 24, 24, 19, 27, 27, 19, 3], 'dependency_relations': ['det', 'nsubj', 'root', 'mark', 'det', 'compound', 'nsubj', 'ccomp', 'amod', 'obj', 'mark', 'advcl', 'det', 'obj', 'case', 'det', 'compound', 'compound', 'nmod', 'punct', 'conj', 'cc', 'amod', 'conj', 'case', 'amod', 'nmod', 'punct'], 'lemmas': ['the', 'committee', 'recommend', 'that', 'the', 'State', 'party', 'pay', 'more', 'attention', 'to', 'sensitize', 'the', 'member', 'of', 'the', 'law', 'enforcement', 'agency', ',', 'security', 'and', 'armed', 'force', 'about', 'human', 'rights', '.'], 'pos_tags': ['DET', 'PROPN', 'VERB', 'SCONJ', 'DET', 'PROPN', 'NOUN', 'VERB', 'ADJ', 'NOUN', 'SCONJ', 'VERB', 'DET', 'NOUN', 'ADP', 'DET', 'NOUN', 'NOUN', 'NOUN', 'PUNCT', 'NOUN', 'CCONJ', 'ADJ', 'NOUN', 'ADP', 'ADJ', 'NOUN', 'PUNCT'], 'predicates': ['_', '_', 'PROPOSE', '_', '_', '_', '_', 'GIVE_GIFT', '_', '_', '_', 'TEACH', '_', '_', '_', '_', '_', '_', '_', '_', '_', '_', '_', '_', '_', '_', '_', '_'], 'roles': {'2': ['_', 'agent', '_', 'topic', '_', '_', '_', '_', '_', '_', '_', '_', '_', '_', '_', '_', '_', '_', '_', '_', '_', '_', '_', '_', '_', '_', '_', '_'], '7': ['_', '_', '_', '_', '_', '_', 'agent', '_', '_', 'theme', 'recipient', '_', '_', '_', '_', '_', '_', '_', '_', '_', '_', '_', '_', '_', '_', '_', '_', '_'], '11': ['_', '_', '_', '_', '_', '_', 'agent', '_', '_', '_', '_', '_', '_', 'recipient', '_', '_', '_', '_', '_', '_', '_', '_', '_', '_', 'topic', '_', '_', '_']}, 'words': ['The', 'Committee', 'recommends', 'that', 'the', 'State', 'party', 'pay', 'more', 'attention', 'to', 'sensitizing', 'the', 'members', 'of', 'the', 'law', 'enforcement', 'agencies', ',', 'security', 'and', 'armed', 'forces', 'about', 'human', 'rights', '.']}\n"
     ]
    }
   ],
   "source": [
    "print(dataset_train_en[0],'\\n\\n',dataset_dev_en[0])"
   ]
  },
  {
   "attachments": {},
   "cell_type": "markdown",
   "metadata": {},
   "source": [
    "# Dataloader"
   ]
  },
  {
   "cell_type": "code",
   "execution_count": 12,
   "metadata": {},
   "outputs": [],
   "source": [
    "from torch.utils.data import DataLoader\n",
    "\n",
    "dataloader_train_en = DataLoader(\n",
    "    dataset_train_en,\n",
    "    batch_size=global_params['batch_size'],\n",
    "    collate_fn=dataset_train_en.create_collate_fn(),\n",
    "    shuffle=True,\n",
    ")\n",
    "\n",
    "dataloader_dev_en = DataLoader(\n",
    "    dataset_dev_en,\n",
    "    batch_size=global_params['batch_size'],\n",
    "    collate_fn=dataset_dev_en.create_collate_fn(),\n",
    "    shuffle=False,\n",
    ")"
   ]
  },
  {
   "cell_type": "code",
   "execution_count": 13,
   "metadata": {},
   "outputs": [],
   "source": [
    "for e in dataloader_dev_en:\n",
    "    ex_in = e\n",
    "    break"
   ]
  },
  {
   "cell_type": "code",
   "execution_count": 14,
   "metadata": {},
   "outputs": [
    {
     "name": "stdout",
     "output_type": "stream",
     "text": [
      "['The', 'Committee', 'insists', 'that', 'all', 'perpetrators', 'of', 'violations', 'of', 'the', 'Convention', 'be', 'brought', 'to', 'justice', '.'] \n",
      " ['_', '_', 'CAUSE-MENTAL-STATE', '_', '_', '_', '_', '_', '_', '_', '_', '_', 'BRING', '_', '_', '_'] \n",
      " [0, 0, 1, 0, 0, 0, 0, 0, 0, 0, 0, 0, 1, 0, 0, 0]\n"
     ]
    }
   ],
   "source": [
    "print(ex_in['words'][1], '\\n', ex_in['predicates'][1], '\\n', ex_in['predicates_positions'][1])"
   ]
  },
  {
   "attachments": {},
   "cell_type": "markdown",
   "metadata": {},
   "source": [
    "# Training the Predicate Identification and Disambiguation model"
   ]
  },
  {
   "cell_type": "code",
   "execution_count": 15,
   "metadata": {},
   "outputs": [],
   "source": [
    "loss_function = torch.nn.CrossEntropyLoss(ignore_index = dataset_train_en.predicates_pad_id) # !"
   ]
  },
  {
   "cell_type": "code",
   "execution_count": 16,
   "metadata": {},
   "outputs": [
    {
     "name": "stderr",
     "output_type": "stream",
     "text": [
      "Some weights of the model checkpoint at xlm-roberta-base were not used when initializing XLMRobertaModel: ['lm_head.layer_norm.weight', 'lm_head.dense.bias', 'lm_head.layer_norm.bias', 'lm_head.bias', 'lm_head.dense.weight', 'lm_head.decoder.weight']\n",
      "- This IS expected if you are initializing XLMRobertaModel from the checkpoint of a model trained on another task or with another architecture (e.g. initializing a BertForSequenceClassification model from a BertForPreTraining model).\n",
      "- This IS NOT expected if you are initializing XLMRobertaModel from the checkpoint of a model that you expect to be exactly identical (initializing a BertForSequenceClassification model from a BertForSequenceClassification model).\n"
     ]
    }
   ],
   "source": [
    "from code_files.models.model_pid import ModelPID\n",
    "from code_files.utils.utils_functions import print_summary\n",
    "import torch.optim as optim\n",
    "\n",
    "model_pid = ModelPID(\n",
    "    loss_fn = loss_function,\n",
    "    hparams = global_params,\n",
    "    fine_tune_transformer = True,\n",
    "    has_predicates_positions = False # it does both pred iden and disamb\n",
    ")"
   ]
  },
  {
   "cell_type": "code",
   "execution_count": 17,
   "metadata": {},
   "outputs": [],
   "source": [
    "optimizer = optim.SGD(model_pid.parameters(), lr=0.0016, momentum=0.9) "
   ]
  },
  {
   "cell_type": "code",
   "execution_count": 18,
   "metadata": {},
   "outputs": [
    {
     "name": "stdout",
     "output_type": "stream",
     "text": [
      "parameters: 278,376,625\n",
      "trainable parameters: 278,376,625\n",
      "non-trainable parameters: 0\n"
     ]
    }
   ],
   "source": [
    "print_summary(model_pid, short=True)"
   ]
  },
  {
   "cell_type": "code",
   "execution_count": 20,
   "metadata": {},
   "outputs": [],
   "source": [
    "history = {}"
   ]
  },
  {
   "cell_type": "code",
   "execution_count": 24,
   "metadata": {},
   "outputs": [
    {
     "name": "stdout",
     "output_type": "stream",
     "text": [
      "Epoch   0 => avg_loss: 0.040000\n",
      "# Validation loss => 0.078706 | f1-score: pred_iden = 0.942830 pred_dis = 0.821559 #\n",
      "Epoch   1 => avg_loss: 0.039237\n",
      "# Validation loss => 0.079156 | f1-score: pred_iden = 0.943462 pred_dis = 0.822308 #\n",
      "Epoch   2 => avg_loss: 0.039353\n",
      "# Validation loss => 0.078551 | f1-score: pred_iden = 0.940994 pred_dis = 0.820264 #\n",
      "Epoch   3 => avg_loss: 0.038785\n",
      "# Validation loss => 0.077965 | f1-score: pred_iden = 0.943657 pred_dis = 0.823687 #\n",
      "Epoch   4 => avg_loss: 0.038512\n",
      "# Validation loss => 0.080900 | f1-score: pred_iden = 0.940725 pred_dis = 0.822175 #\n",
      "Epoch   5 => avg_loss: 0.037705\n",
      "# Validation loss => 0.079601 | f1-score: pred_iden = 0.942311 pred_dis = 0.825005 #\n",
      "----- Best value obtained, saving model -----\n",
      "Epoch   6 => avg_loss: 0.037416\n",
      "# Validation loss => 0.079039 | f1-score: pred_iden = 0.942178 pred_dis = 0.824212 #\n",
      "Epoch   7 => avg_loss: 0.037160\n",
      "# Validation loss => 0.080219 | f1-score: pred_iden = 0.942219 pred_dis = 0.823190 #\n",
      "Epoch   8 => avg_loss: 0.036607\n",
      "# Validation loss => 0.079683 | f1-score: pred_iden = 0.942082 pred_dis = 0.825091 #\n",
      "----- Best value obtained, saving model -----\n",
      "Epoch   9 => avg_loss: 0.036024\n",
      "# Validation loss => 0.079451 | f1-score: pred_iden = 0.942360 pred_dis = 0.825145 #\n",
      "----- Best value obtained, saving model -----\n",
      "Epoch  10 => avg_loss: 0.036136\n",
      "# Validation loss => 0.078054 | f1-score: pred_iden = 0.942547 pred_dis = 0.822981 #\n",
      "Epoch  11 => avg_loss: 0.035075\n",
      "# Validation loss => 0.079412 | f1-score: pred_iden = 0.943440 pred_dis = 0.826087 #\n",
      "----- Best value obtained, saving model -----\n",
      "Epoch  12 => avg_loss: 0.034375\n",
      "# Validation loss => 0.083143 | f1-score: pred_iden = 0.944699 pred_dis = 0.826850 #\n",
      "----- Best value obtained, saving model -----\n",
      "Epoch  13 => avg_loss: 0.035123\n",
      "# Validation loss => 0.077991 | f1-score: pred_iden = 0.940117 pred_dis = 0.823875 #\n",
      "Epoch  14 => avg_loss: 0.034165\n",
      "# Validation loss => 0.081749 | f1-score: pred_iden = 0.943807 pred_dis = 0.827982 #\n",
      "----- Best value obtained, saving model -----\n",
      "Epoch  15 => avg_loss: 0.033909\n",
      "# Validation loss => 0.079001 | f1-score: pred_iden = 0.942326 pred_dis = 0.825415 #\n",
      "Epoch  16 => avg_loss: 0.033191\n",
      "# Validation loss => 0.079503 | f1-score: pred_iden = 0.943143 pred_dis = 0.828275 #\n",
      "----- Best value obtained, saving model -----\n",
      "Epoch  17 => avg_loss: 0.032473\n",
      "# Validation loss => 0.081866 | f1-score: pred_iden = 0.944265 pred_dis = 0.829751 #\n",
      "----- Best value obtained, saving model -----\n",
      "Epoch  18 => avg_loss: 0.032079\n",
      "# Validation loss => 0.080181 | f1-score: pred_iden = 0.939806 pred_dis = 0.820971 #\n",
      "Epoch  19 => avg_loss: 0.031936\n",
      "# Validation loss => 0.083236 | f1-score: pred_iden = 0.941018 pred_dis = 0.826137 #\n",
      "Epoch  20 => avg_loss: 0.031458\n",
      "# Validation loss => 0.080721 | f1-score: pred_iden = 0.940719 pred_dis = 0.824490 #\n",
      "Epoch  21 => avg_loss: 0.031267\n",
      "# Validation loss => 0.080290 | f1-score: pred_iden = 0.943794 pred_dis = 0.830616 #\n",
      "----- Best value obtained, saving model -----\n",
      "Epoch  22 => avg_loss: 0.031083\n",
      "# Validation loss => 0.080209 | f1-score: pred_iden = 0.942582 pred_dis = 0.827360 #\n",
      "Epoch  23 => avg_loss: 0.030721\n",
      "# Validation loss => 0.081937 | f1-score: pred_iden = 0.942731 pred_dis = 0.828194 #\n",
      "Epoch  24 => avg_loss: 0.030627\n",
      "# Validation loss => 0.080713 | f1-score: pred_iden = 0.943039 pred_dis = 0.827573 #\n",
      "Epoch  25 => avg_loss: 0.029692\n",
      "# Validation loss => 0.080767 | f1-score: pred_iden = 0.942857 pred_dis = 0.825869 #\n",
      "Epoch  26 => avg_loss: 0.029492\n",
      "# Validation loss => 0.081393 | f1-score: pred_iden = 0.943889 pred_dis = 0.825903 #\n",
      "Epoch  27 => avg_loss: 0.029271\n",
      "# Validation loss => 0.079544 | f1-score: pred_iden = 0.943280 pred_dis = 0.829071 #\n",
      "Epoch  28 => avg_loss: 0.029737\n",
      "# Validation loss => 0.081099 | f1-score: pred_iden = 0.942714 pred_dis = 0.828527 #\n",
      "Epoch  29 => avg_loss: 0.028730\n",
      "# Validation loss => 0.080845 | f1-score: pred_iden = 0.942155 pred_dis = 0.826465 #\n",
      "Epoch  30 => avg_loss: 0.028488\n",
      "# Validation loss => 0.084046 | f1-score: pred_iden = 0.944466 pred_dis = 0.832631 #\n",
      "----- Best value obtained, saving model -----\n",
      "Epoch  31 => avg_loss: 0.028345\n",
      "# Validation loss => 0.080598 | f1-score: pred_iden = 0.941746 pred_dis = 0.825624 #\n",
      "Epoch  32 => avg_loss: 0.027985\n",
      "# Validation loss => 0.079773 | f1-score: pred_iden = 0.941176 pred_dis = 0.827012 #\n",
      "Epoch  33 => avg_loss: 0.027079\n",
      "# Validation loss => 0.081281 | f1-score: pred_iden = 0.942564 pred_dis = 0.827693 #\n",
      "Epoch  34 => avg_loss: 0.027149\n",
      "# Validation loss => 0.082919 | f1-score: pred_iden = 0.945177 pred_dis = 0.830564 #\n",
      "Epoch  35 => avg_loss: 0.026628\n",
      "# Validation loss => 0.083040 | f1-score: pred_iden = 0.943230 pred_dis = 0.828922 #\n",
      "Epoch  36 => avg_loss: 0.026320\n",
      "# Validation loss => 0.082923 | f1-score: pred_iden = 0.943133 pred_dis = 0.830561 #\n",
      "Epoch  37 => avg_loss: 0.025967\n",
      "# Validation loss => 0.084950 | f1-score: pred_iden = 0.945982 pred_dis = 0.832983 #\n",
      "----- Best value obtained, saving model -----\n",
      "Epoch  38 => avg_loss: 0.025780\n",
      "# Validation loss => 0.082247 | f1-score: pred_iden = 0.945156 pred_dis = 0.832792 #\n",
      "Epoch  39 => avg_loss: 0.025827\n",
      "# Validation loss => 0.080112 | f1-score: pred_iden = 0.943570 pred_dis = 0.829175 #\n",
      "Epoch  40 => avg_loss: 0.024943\n",
      "# Validation loss => 0.080783 | f1-score: pred_iden = 0.941768 pred_dis = 0.829174 #\n",
      "Epoch  41 => avg_loss: 0.025050\n",
      "# Validation loss => 0.083260 | f1-score: pred_iden = 0.941358 pred_dis = 0.829475 #\n",
      "Epoch  42 => avg_loss: 0.024598\n",
      "# Validation loss => 0.082681 | f1-score: pred_iden = 0.942989 pred_dis = 0.830894 #\n",
      "Epoch  43 => avg_loss: 0.024251\n",
      "# Validation loss => 0.081837 | f1-score: pred_iden = 0.943725 pred_dis = 0.833881 #\n",
      "----- Best value obtained, saving model -----\n",
      "Epoch  44 => avg_loss: 0.024722\n",
      "# Validation loss => 0.084304 | f1-score: pred_iden = 0.944381 pred_dis = 0.833143 #\n",
      "Epoch  45 => avg_loss: 0.024304\n",
      "# Validation loss => 0.081895 | f1-score: pred_iden = 0.940536 pred_dis = 0.829771 #\n",
      "Epoch  46 => avg_loss: 0.024198\n",
      "# Validation loss => 0.082210 | f1-score: pred_iden = 0.940678 pred_dis = 0.831279 #\n",
      "Epoch  47 => avg_loss: 0.023951\n",
      "# Validation loss => 0.082067 | f1-score: pred_iden = 0.941383 pred_dis = 0.831159 #\n",
      "Epoch  48 => avg_loss: 0.023448\n",
      "# Validation loss => 0.084422 | f1-score: pred_iden = 0.942780 pred_dis = 0.832949 #\n",
      "Epoch  49 => avg_loss: 0.022950\n",
      "# Validation loss => 0.082039 | f1-score: pred_iden = 0.941154 pred_dis = 0.828899 #\n",
      "Epoch  50 => avg_loss: 0.022875\n",
      "# Validation loss => 0.080689 | f1-score: pred_iden = 0.942408 pred_dis = 0.832655 #\n",
      "Epoch  51 => avg_loss: 0.023224\n",
      "# Validation loss => 0.082692 | f1-score: pred_iden = 0.943033 pred_dis = 0.832564 #\n",
      "Epoch  52 => avg_loss: 0.022385\n",
      "# Validation loss => 0.083816 | f1-score: pred_iden = 0.942551 pred_dis = 0.832631 #\n",
      "Epoch  53 => avg_loss: 0.022129\n",
      "# Validation loss => 0.084941 | f1-score: pred_iden = 0.940174 pred_dis = 0.831752 #\n",
      "Epoch  54 => avg_loss: 0.022162\n",
      "# Validation loss => 0.084749 | f1-score: pred_iden = 0.944444 pred_dis = 0.835249 #\n",
      "----- Best value obtained, saving model -----\n",
      "Epoch  55 => avg_loss: 0.021736\n",
      "# Validation loss => 0.082895 | f1-score: pred_iden = 0.943071 pred_dis = 0.834963 #\n",
      "Epoch  56 => avg_loss: 0.021810\n",
      "# Validation loss => 0.083674 | f1-score: pred_iden = 0.940287 pred_dis = 0.832493 #\n",
      "Epoch  57 => avg_loss: 0.021111\n",
      "# Validation loss => 0.084636 | f1-score: pred_iden = 0.939731 pred_dis = 0.829335 #\n",
      "Epoch  58 => avg_loss: 0.021281\n",
      "# Validation loss => 0.085743 | f1-score: pred_iden = 0.940881 pred_dis = 0.833849 #\n",
      "Epoch  59 => avg_loss: 0.021356\n",
      "# Validation loss => 0.084203 | f1-score: pred_iden = 0.941973 pred_dis = 0.832108 #\n",
      "Epoch  60 => avg_loss: 0.020697\n",
      "# Validation loss => 0.084605 | f1-score: pred_iden = 0.942308 pred_dis = 0.835000 #\n",
      "Epoch  61 => avg_loss: 0.020549\n",
      "# Validation loss => 0.084792 | f1-score: pred_iden = 0.942692 pred_dis = 0.836923 #\n",
      "----- Best value obtained, saving model -----\n",
      "Epoch  62 => avg_loss: 0.020109\n",
      "# Validation loss => 0.085733 | f1-score: pred_iden = 0.941655 pred_dis = 0.833107 #\n",
      "Epoch  63 => avg_loss: 0.020341\n",
      "# Validation loss => 0.082252 | f1-score: pred_iden = 0.942520 pred_dis = 0.832591 #\n",
      "Epoch  64 => avg_loss: 0.020146\n",
      "# Validation loss => 0.084729 | f1-score: pred_iden = 0.942577 pred_dis = 0.835414 #\n",
      "Epoch  65 => avg_loss: 0.020342\n",
      "# Validation loss => 0.085936 | f1-score: pred_iden = 0.944049 pred_dis = 0.837147 #\n",
      "----- Best value obtained, saving model -----\n",
      "Epoch  66 => avg_loss: 0.019801\n",
      "# Validation loss => 0.084728 | f1-score: pred_iden = 0.944658 pred_dis = 0.836664 #\n",
      "Epoch  67 => avg_loss: 0.019278\n",
      "# Validation loss => 0.088026 | f1-score: pred_iden = 0.944837 pred_dis = 0.835274 #\n",
      "Epoch  68 => avg_loss: 0.019445\n",
      "# Validation loss => 0.085162 | f1-score: pred_iden = 0.944049 pred_dis = 0.835609 #\n",
      "Epoch  69 => avg_loss: 0.019168\n",
      "# Validation loss => 0.085017 | f1-score: pred_iden = 0.942564 pred_dis = 0.833108 #\n",
      "Epoch  70 => avg_loss: 0.019016\n",
      "# Validation loss => 0.086024 | f1-score: pred_iden = 0.943228 pred_dis = 0.835885 #\n",
      "Epoch  71 => avg_loss: 0.019211\n",
      "# Validation loss => 0.083398 | f1-score: pred_iden = 0.944196 pred_dis = 0.836088 #\n",
      "Epoch  72 => avg_loss: 0.018420\n",
      "# Validation loss => 0.087026 | f1-score: pred_iden = 0.941472 pred_dis = 0.833687 #\n",
      "Epoch  73 => avg_loss: 0.018822\n",
      "# Validation loss => 0.086877 | f1-score: pred_iden = 0.943149 pred_dis = 0.834843 #\n",
      "Epoch  74 => avg_loss: 0.018601\n",
      "# Validation loss => 0.086767 | f1-score: pred_iden = 0.942918 pred_dis = 0.835287 #\n",
      "Epoch  75 => avg_loss: 0.017852\n",
      "# Validation loss => 0.088965 | f1-score: pred_iden = 0.941493 pred_dis = 0.834103 #\n",
      "Epoch  76 => avg_loss: 0.018425\n",
      "# Validation loss => 0.086799 | f1-score: pred_iden = 0.940994 pred_dis = 0.834239 #\n",
      "Epoch  77 => avg_loss: 0.018001\n",
      "# Validation loss => 0.086816 | f1-score: pred_iden = 0.941791 pred_dis = 0.831947 #\n",
      "Epoch  78 => avg_loss: 0.017800\n",
      "# Validation loss => 0.084335 | f1-score: pred_iden = 0.943080 pred_dis = 0.832749 #\n",
      "Epoch  79 => avg_loss: 0.017549\n",
      "# Validation loss => 0.089055 | f1-score: pred_iden = 0.945093 pred_dis = 0.836426 #\n",
      "Epoch  80 => avg_loss: 0.016989\n",
      "# Validation loss => 0.087810 | f1-score: pred_iden = 0.942989 pred_dis = 0.834361 #\n",
      "Epoch  81 => avg_loss: 0.017446\n",
      "# Validation loss => 0.086524 | f1-score: pred_iden = 0.942670 pred_dis = 0.835706 #\n",
      "Epoch  82 => avg_loss: 0.017250\n",
      "# Validation loss => 0.087431 | f1-score: pred_iden = 0.942573 pred_dis = 0.835375 #\n",
      "Epoch  83 => avg_loss: 0.016917\n",
      "# Validation loss => 0.083689 | f1-score: pred_iden = 0.942791 pred_dis = 0.835717 #\n",
      "Epoch  84 => avg_loss: 0.016684\n",
      "# Validation loss => 0.086560 | f1-score: pred_iden = 0.941720 pred_dis = 0.831698 #\n",
      "Epoch  85 => avg_loss: 0.016343\n",
      "# Validation loss => 0.088659 | f1-score: pred_iden = 0.942215 pred_dis = 0.832789 #\n",
      "Epoch  86 => avg_loss: 0.016217\n",
      "# Validation loss => 0.087133 | f1-score: pred_iden = 0.943236 pred_dis = 0.833943 #\n",
      "Epoch  87 => avg_loss: 0.016066\n",
      "# Validation loss => 0.086877 | f1-score: pred_iden = 0.941131 pred_dis = 0.834624 #\n",
      "Epoch  88 => avg_loss: 0.015923\n",
      "# Validation loss => 0.085851 | f1-score: pred_iden = 0.941541 pred_dis = 0.831978 #\n",
      "Epoch  89 => avg_loss: 0.015988\n",
      "# Validation loss => 0.085824 | f1-score: pred_iden = 0.940648 pred_dis = 0.832097 #\n",
      "Epoch  90 => avg_loss: 0.016002\n",
      "# Validation loss => 0.088573 | f1-score: pred_iden = 0.940062 pred_dis = 0.834493 #\n",
      "Epoch  91 => avg_loss: 0.015936\n",
      "# Validation loss => 0.088767 | f1-score: pred_iden = 0.943425 pred_dis = 0.834098 #\n",
      "Epoch  92 => avg_loss: 0.015792\n",
      "# Validation loss => 0.088151 | f1-score: pred_iden = 0.940653 pred_dis = 0.833559 #\n",
      "Epoch  93 => avg_loss: 0.015188\n",
      "# Validation loss => 0.088295 | f1-score: pred_iden = 0.942604 pred_dis = 0.834361 #\n",
      "Epoch  94 => avg_loss: 0.015456\n",
      "# Validation loss => 0.085527 | f1-score: pred_iden = 0.941472 pred_dis = 0.834074 #\n",
      "Epoch  95 => avg_loss: 0.015413\n",
      "# Validation loss => 0.086989 | f1-score: pred_iden = 0.941176 pred_dis = 0.835526 #\n",
      "Epoch  96 => avg_loss: 0.015134\n",
      "# Validation loss => 0.088814 | f1-score: pred_iden = 0.943721 pred_dis = 0.833078 #\n",
      "Epoch  97 => avg_loss: 0.014947\n",
      "# Validation loss => 0.091719 | f1-score: pred_iden = 0.942731 pred_dis = 0.833557 #\n",
      "Epoch  98 => avg_loss: 0.015102\n",
      "# Validation loss => 0.089929 | f1-score: pred_iden = 0.943468 pred_dis = 0.836134 #\n",
      "Epoch  99 => avg_loss: 0.014644\n",
      "# Validation loss => 0.089753 | f1-score: pred_iden = 0.941380 pred_dis = 0.834903 #\n"
     ]
    }
   ],
   "source": [
    "from code_files.utils.Trainer_pid import Trainer_pid\n",
    "\n",
    "trainer_pid = Trainer_pid()\n",
    "\n",
    "history = trainer_pid.train(\n",
    "    model_pid, optimizer, dataloader_train_en, dataloader_dev_en,\n",
    "    epochs=100, device=device,\n",
    "    save_best=True, \n",
    "    min_score=0.8,\n",
    "    save_path_name=os.path.join(model_dir_path, 'pid_transformer_united.pth'),\n",
    "    saved_history=history\n",
    ")"
   ]
  },
  {
   "cell_type": "code",
   "execution_count": 25,
   "metadata": {},
   "outputs": [
    {
     "data": {
      "image/png": "[encoded data removed]",
      "text/plain": [
       "<Figure size 800x800 with 1 Axes>"
      ]
     },
     "metadata": {},
     "output_type": "display_data"
    }
   ],
   "source": [
    "trainer_pid.display_history(history)"
   ]
  },
  {
   "cell_type": "code",
   "execution_count": 26,
   "metadata": {},
   "outputs": [
    {
     "name": "stdout",
     "output_type": "stream",
     "text": [
      "['_', 'OBLIGE_FORCE', '_', '_', '_', 'CARRY-OUT-ACTION', '_', '_', 'PROTECT', '_', '_', '_', 'RECEIVE', '_', '_', '_']\n"
     ]
    }
   ],
   "source": [
    "print(model_pid.predict([[\"He\",\"urges\",\"the\",\"Government\",\"to\",\"take\",\"measures\",\"to\",\"protect\",\"persons\",\"who\",\"have\",\"received\",\"death\",\"threats\",\".\"]])[0])"
   ]
  },
  {
   "cell_type": "code",
   "execution_count": 27,
   "metadata": {},
   "outputs": [
    {
     "name": "stdout",
     "output_type": "stream",
     "text": [
      "['_', 'OBLIGE_FORCE', '_', '_', '_', 'CARRY-OUT-ACTION', '_', '_', 'PROTECT', '_', '_', '_', 'RECEIVE', '_', '_', '_']\n"
     ]
    }
   ],
   "source": [
    "print([\"_\",\"OBLIGE_FORCE\",\"_\",\"_\",\"_\",\"CARRY-OUT-ACTION\",\"_\",\"_\",\"PROTECT\",\"_\",\"_\",\"_\",\"RECEIVE\",\"_\",\"_\",\"_\"])"
   ]
  },
  {
   "cell_type": "code",
   "execution_count": null,
   "metadata": {},
   "outputs": [],
   "source": []
  },
  {
   "attachments": {},
   "cell_type": "markdown",
   "metadata": {},
   "source": [
    "# Training the Argument Identification and Classification model"
   ]
  },
  {
   "cell_type": "code",
   "execution_count": null,
   "metadata": {},
   "outputs": [],
   "source": [
    "loss_function = torch.nn.CrossEntropyLoss(ignore_index = dataset_train_en.predicates_pad_id) # !"
   ]
  },
  {
   "cell_type": "code",
   "execution_count": null,
   "metadata": {},
   "outputs": [
    {
     "name": "stderr",
     "output_type": "stream",
     "text": [
      "Some weights of the model checkpoint at xlm-roberta-base were not used when initializing XLMRobertaModel: ['lm_head.layer_norm.weight', 'lm_head.dense.bias', 'lm_head.layer_norm.bias', 'lm_head.bias', 'lm_head.dense.weight', 'lm_head.decoder.weight']\n",
      "- This IS expected if you are initializing XLMRobertaModel from the checkpoint of a model trained on another task or with another architecture (e.g. initializing a BertForSequenceClassification model from a BertForPreTraining model).\n",
      "- This IS NOT expected if you are initializing XLMRobertaModel from the checkpoint of a model that you expect to be exactly identical (initializing a BertForSequenceClassification model from a BertForSequenceClassification model).\n"
     ]
    }
   ],
   "source": [
    "from code_files.models.model_pid import ModelAIC\n",
    "from code_files.utils.utils_functions import print_summary\n",
    "import torch.optim as optim\n",
    "\n",
    "model_pid = ModelAIC(\n",
    "    loss_fn = loss_function,\n",
    "    hparams = global_params,\n",
    "    fine_tune_transformer = True\n",
    ")"
   ]
  },
  {
   "cell_type": "code",
   "execution_count": null,
   "metadata": {},
   "outputs": [],
   "source": [
    "optimizer = optim.SGD(model_pid.parameters(), lr=0.0016, momentum=0.9) "
   ]
  },
  {
   "cell_type": "code",
   "execution_count": null,
   "metadata": {},
   "outputs": [
    {
     "name": "stdout",
     "output_type": "stream",
     "text": [
      "parameters: 278,376,625\n",
      "trainable parameters: 278,376,625\n",
      "non-trainable parameters: 0\n"
     ]
    }
   ],
   "source": [
    "print_summary(model_pid, short=True)"
   ]
  }
 ],
 "metadata": {
  "kernelspec": {
   "display_name": "nuans_minihw2",
   "language": "python",
   "name": "python3"
  },
  "language_info": {
   "codemirror_mode": {
    "name": "ipython",
    "version": 3
   },
   "file_extension": ".py",
   "mimetype": "text/x-python",
   "name": "python",
   "nbconvert_exporter": "python",
   "pygments_lexer": "ipython3",
   "version": "3.9.15"
  },
  "orig_nbformat": 4,
  "vscode": {
   "interpreter": {
    "hash": "a8ff4b25b18867855edb86ba2aaa718c4e3e5e5df1f72ad6de2c0263a3e32427"
   }
  }
 },
 "nbformat": 4,
 "nbformat_minor": 2
}
