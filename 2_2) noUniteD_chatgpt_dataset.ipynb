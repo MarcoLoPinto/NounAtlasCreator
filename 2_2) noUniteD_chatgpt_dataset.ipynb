{
 "cells": [
  {
   "attachments": {},
   "cell_type": "markdown",
   "metadata": {},
   "source": [
    "This notebook tests the feasibility of using ChatGPT to generate sentences"
   ]
  },
  {
   "cell_type": "code",
   "execution_count": 87,
   "metadata": {},
   "outputs": [
    {
     "name": "stdout",
     "output_type": "stream",
     "text": [
      "The autoreload extension is already loaded. To reload it, use:\n",
      "  %reload_ext autoreload\n"
     ]
    }
   ],
   "source": [
    "%load_ext autoreload\n",
    "%autoreload 2"
   ]
  },
  {
   "cell_type": "code",
   "execution_count": 88,
   "metadata": {},
   "outputs": [],
   "source": [
    "import os, sys\n",
    "from code_files.utils.nounited_creator import amuse_request, invero_request, chatgpt_request, create_nounited_dataset, save_nounited_dataset\n",
    "from code_files.utils.utils_functions import load_dotenv\n",
    "import json\n",
    "\n",
    "env_dict = load_dotenv('./.env')"
   ]
  },
  {
   "cell_type": "code",
   "execution_count": 65,
   "metadata": {},
   "outputs": [],
   "source": [
    "datasets_path = './datasets/'\n",
    "\n",
    "amuse_url = 'http://127.0.0.1:3002/api/model' # put here your endpoint for AMuSE-WSD!\n",
    "invero_url = 'http://127.0.0.1:3003/api/model' # put here your endpoint for invero-xl!"
   ]
  },
  {
   "cell_type": "code",
   "execution_count": 66,
   "metadata": {},
   "outputs": [],
   "source": [
    "unambiguous_candidates_path = './va_resources/candidates_unambiguous.json' # path to the unambiguous candidates to be used to create the nominal part\n",
    "# load the unambiguous nominal events:\n",
    "with open(unambiguous_candidates_path, 'r') as json_file:\n",
    "    candidates_unambiguous = json.load(json_file)"
   ]
  },
  {
   "cell_type": "code",
   "execution_count": 67,
   "metadata": {},
   "outputs": [
    {
     "data": {
      "text/plain": [
       "2899"
      ]
     },
     "execution_count": 67,
     "metadata": {},
     "output_type": "execute_result"
    }
   ],
   "source": [
    "unambiguous_synsets_list = list(candidates_unambiguous.keys())\n",
    "len(unambiguous_synsets_list)"
   ]
  },
  {
   "cell_type": "code",
   "execution_count": 68,
   "metadata": {},
   "outputs": [
    {
     "data": {
      "text/plain": [
       "{'id': 'cmpl-6SEUPuVcs8lPKyWAoteXspI89lll4',\n",
       " 'object': 'text_completion',\n",
       " 'created': 1672186901,\n",
       " 'model': 'text-davinci-003',\n",
       " 'choices': [{'text': '\\n\\nThe meaning of life is different for every individual. For some, it may mean being happy, while for others, it may mean pursuing challenging goals or giving back to the community. Ultimately, the answer to this question is subjective and can only be answered by the individual.',\n",
       "   'index': 0,\n",
       "   'logprobs': None,\n",
       "   'finish_reason': 'stop'},\n",
       "  {'text': '\\n\\nMy name is Bob.',\n",
       "   'index': 1,\n",
       "   'logprobs': None,\n",
       "   'finish_reason': 'stop'}],\n",
       " 'usage': {'prompt_tokens': 12, 'completion_tokens': 63, 'total_tokens': 75}}"
      ]
     },
     "execution_count": 68,
     "metadata": {},
     "output_type": "execute_result"
    }
   ],
   "source": [
    "chatgpt_request([\"what is the meaning of life?\",\"what is your name?\"], env_dict['OPENAI_KEY'])"
   ]
  },
  {
   "cell_type": "code",
   "execution_count": 91,
   "metadata": {},
   "outputs": [
    {
     "name": "stderr",
     "output_type": "stream",
     "text": [
      "Errors: 0:   0%|          | 4/1450 [01:29<9:00:07, 22.41s/it]\n"
     ]
    },
    {
     "ename": "KeyboardInterrupt",
     "evalue": "",
     "output_type": "error",
     "traceback": [
      "\u001b[0;31m---------------------------------------------------------------------------\u001b[0m",
      "\u001b[0;31mKeyboardInterrupt\u001b[0m                         Traceback (most recent call last)",
      "Cell \u001b[0;32mIn [91], line 22\u001b[0m\n\u001b[1;32m     20\u001b[0m retry \u001b[39m=\u001b[39m \u001b[39mTrue\u001b[39;00m\n\u001b[1;32m     21\u001b[0m \u001b[39mwhile\u001b[39;00m retry \u001b[39mis\u001b[39;00m \u001b[39mTrue\u001b[39;00m:\n\u001b[0;32m---> 22\u001b[0m     res \u001b[39m=\u001b[39m chatgpt_request(query_text_list, env_dict[\u001b[39m'\u001b[39;49m\u001b[39mOPENAI_KEY\u001b[39;49m\u001b[39m'\u001b[39;49m], timeout\u001b[39m=\u001b[39;49m\u001b[39m40\u001b[39;49m)\n\u001b[1;32m     23\u001b[0m     \u001b[39mif\u001b[39;00m res \u001b[39mis\u001b[39;00m \u001b[39mnot\u001b[39;00m \u001b[39mNone\u001b[39;00m:\n\u001b[1;32m     24\u001b[0m         \u001b[39mfor\u001b[39;00m synset_name, answer \u001b[39min\u001b[39;00m \u001b[39mzip\u001b[39m(unambiguous_synsets_list[c:c\u001b[39m+\u001b[39mchatgpt_chunk_size], res):\n",
      "File \u001b[0;32m/mnt/c/Users/Marco/Desktop/Magistrale/EAI/Navigli/NounAtlasCreator/code_files/utils/nounited_creator.py:45\u001b[0m, in \u001b[0;36mchatgpt_request\u001b[0;34m(text_request, api_key, temperature, timeout)\u001b[0m\n\u001b[1;32m     44\u001b[0m \u001b[39mdef\u001b[39;00m \u001b[39mchatgpt_request\u001b[39m(text_request:\u001b[39mstr\u001b[39m, api_key:\u001b[39mstr\u001b[39m, temperature \u001b[39m=\u001b[39m \u001b[39m1.0\u001b[39m, timeout \u001b[39m=\u001b[39m \u001b[39m10\u001b[39m):\n\u001b[0;32m---> 45\u001b[0m     res \u001b[39m=\u001b[39m requests\u001b[39m.\u001b[39;49mpost(\u001b[39m'\u001b[39;49m\u001b[39mhttps://api.openai.com/v1/completions\u001b[39;49m\u001b[39m'\u001b[39;49m, \n\u001b[1;32m     46\u001b[0m             headers\u001b[39m=\u001b[39;49m{\u001b[39m\"\u001b[39;49m\u001b[39mContent-Type\u001b[39;49m\u001b[39m\"\u001b[39;49m: \u001b[39m\"\u001b[39;49m\u001b[39mapplication/json\u001b[39;49m\u001b[39m\"\u001b[39;49m, \u001b[39m\"\u001b[39;49m\u001b[39mAuthorization\u001b[39;49m\u001b[39m\"\u001b[39;49m: \u001b[39mf\u001b[39;49m\u001b[39m\"\u001b[39;49m\u001b[39mBearer \u001b[39;49m\u001b[39m{\u001b[39;49;00mapi_key\u001b[39m}\u001b[39;49;00m\u001b[39m\"\u001b[39;49m},\n\u001b[1;32m     47\u001b[0m             json\u001b[39m=\u001b[39;49m{\u001b[39m\"\u001b[39;49m\u001b[39mmodel\u001b[39;49m\u001b[39m\"\u001b[39;49m: \u001b[39m\"\u001b[39;49m\u001b[39mtext-davinci-003\u001b[39;49m\u001b[39m\"\u001b[39;49m, \u001b[39m\"\u001b[39;49m\u001b[39mprompt\u001b[39;49m\u001b[39m\"\u001b[39;49m: text_request, \u001b[39m\"\u001b[39;49m\u001b[39mmax_tokens\u001b[39;49m\u001b[39m\"\u001b[39;49m: \u001b[39m4000\u001b[39;49m, \u001b[39m\"\u001b[39;49m\u001b[39mtemperature\u001b[39;49m\u001b[39m\"\u001b[39;49m: temperature},\n\u001b[1;32m     48\u001b[0m             timeout \u001b[39m=\u001b[39;49m timeout)\n\u001b[1;32m     49\u001b[0m     \u001b[39mreturn\u001b[39;00m [answer[\u001b[39m\"\u001b[39m\u001b[39mtext\u001b[39m\u001b[39m\"\u001b[39m] \u001b[39mfor\u001b[39;00m answer \u001b[39min\u001b[39;00m json\u001b[39m.\u001b[39mloads(res\u001b[39m.\u001b[39mtext)[\u001b[39m'\u001b[39m\u001b[39mchoices\u001b[39m\u001b[39m'\u001b[39m]] \u001b[39mif\u001b[39;00m res\u001b[39m.\u001b[39mstatus_code \u001b[39m==\u001b[39m \u001b[39m200\u001b[39m \u001b[39melse\u001b[39;00m \u001b[39mNone\u001b[39;00m\n",
      "File \u001b[0;32m~/miniconda3/envs/nuans_minihw2/lib/python3.9/site-packages/requests/api.py:115\u001b[0m, in \u001b[0;36mpost\u001b[0;34m(url, data, json, **kwargs)\u001b[0m\n\u001b[1;32m    103\u001b[0m \u001b[39mdef\u001b[39;00m \u001b[39mpost\u001b[39m(url, data\u001b[39m=\u001b[39m\u001b[39mNone\u001b[39;00m, json\u001b[39m=\u001b[39m\u001b[39mNone\u001b[39;00m, \u001b[39m*\u001b[39m\u001b[39m*\u001b[39mkwargs):\n\u001b[1;32m    104\u001b[0m     \u001b[39mr\u001b[39m\u001b[39m\"\"\"Sends a POST request.\u001b[39;00m\n\u001b[1;32m    105\u001b[0m \n\u001b[1;32m    106\u001b[0m \u001b[39m    :param url: URL for the new :class:`Request` object.\u001b[39;00m\n\u001b[0;32m   (...)\u001b[0m\n\u001b[1;32m    112\u001b[0m \u001b[39m    :rtype: requests.Response\u001b[39;00m\n\u001b[1;32m    113\u001b[0m \u001b[39m    \"\"\"\u001b[39;00m\n\u001b[0;32m--> 115\u001b[0m     \u001b[39mreturn\u001b[39;00m request(\u001b[39m\"\u001b[39;49m\u001b[39mpost\u001b[39;49m\u001b[39m\"\u001b[39;49m, url, data\u001b[39m=\u001b[39;49mdata, json\u001b[39m=\u001b[39;49mjson, \u001b[39m*\u001b[39;49m\u001b[39m*\u001b[39;49mkwargs)\n",
      "File \u001b[0;32m~/miniconda3/envs/nuans_minihw2/lib/python3.9/site-packages/requests/api.py:59\u001b[0m, in \u001b[0;36mrequest\u001b[0;34m(method, url, **kwargs)\u001b[0m\n\u001b[1;32m     55\u001b[0m \u001b[39m# By using the 'with' statement we are sure the session is closed, thus we\u001b[39;00m\n\u001b[1;32m     56\u001b[0m \u001b[39m# avoid leaving sockets open which can trigger a ResourceWarning in some\u001b[39;00m\n\u001b[1;32m     57\u001b[0m \u001b[39m# cases, and look like a memory leak in others.\u001b[39;00m\n\u001b[1;32m     58\u001b[0m \u001b[39mwith\u001b[39;00m sessions\u001b[39m.\u001b[39mSession() \u001b[39mas\u001b[39;00m session:\n\u001b[0;32m---> 59\u001b[0m     \u001b[39mreturn\u001b[39;00m session\u001b[39m.\u001b[39;49mrequest(method\u001b[39m=\u001b[39;49mmethod, url\u001b[39m=\u001b[39;49murl, \u001b[39m*\u001b[39;49m\u001b[39m*\u001b[39;49mkwargs)\n",
      "File \u001b[0;32m~/miniconda3/envs/nuans_minihw2/lib/python3.9/site-packages/requests/sessions.py:587\u001b[0m, in \u001b[0;36mSession.request\u001b[0;34m(self, method, url, params, data, headers, cookies, files, auth, timeout, allow_redirects, proxies, hooks, stream, verify, cert, json)\u001b[0m\n\u001b[1;32m    582\u001b[0m send_kwargs \u001b[39m=\u001b[39m {\n\u001b[1;32m    583\u001b[0m     \u001b[39m\"\u001b[39m\u001b[39mtimeout\u001b[39m\u001b[39m\"\u001b[39m: timeout,\n\u001b[1;32m    584\u001b[0m     \u001b[39m\"\u001b[39m\u001b[39mallow_redirects\u001b[39m\u001b[39m\"\u001b[39m: allow_redirects,\n\u001b[1;32m    585\u001b[0m }\n\u001b[1;32m    586\u001b[0m send_kwargs\u001b[39m.\u001b[39mupdate(settings)\n\u001b[0;32m--> 587\u001b[0m resp \u001b[39m=\u001b[39m \u001b[39mself\u001b[39;49m\u001b[39m.\u001b[39;49msend(prep, \u001b[39m*\u001b[39;49m\u001b[39m*\u001b[39;49msend_kwargs)\n\u001b[1;32m    589\u001b[0m \u001b[39mreturn\u001b[39;00m resp\n",
      "File \u001b[0;32m~/miniconda3/envs/nuans_minihw2/lib/python3.9/site-packages/requests/sessions.py:701\u001b[0m, in \u001b[0;36mSession.send\u001b[0;34m(self, request, **kwargs)\u001b[0m\n\u001b[1;32m    698\u001b[0m start \u001b[39m=\u001b[39m preferred_clock()\n\u001b[1;32m    700\u001b[0m \u001b[39m# Send the request\u001b[39;00m\n\u001b[0;32m--> 701\u001b[0m r \u001b[39m=\u001b[39m adapter\u001b[39m.\u001b[39;49msend(request, \u001b[39m*\u001b[39;49m\u001b[39m*\u001b[39;49mkwargs)\n\u001b[1;32m    703\u001b[0m \u001b[39m# Total elapsed time of the request (approximately)\u001b[39;00m\n\u001b[1;32m    704\u001b[0m elapsed \u001b[39m=\u001b[39m preferred_clock() \u001b[39m-\u001b[39m start\n",
      "File \u001b[0;32m~/miniconda3/envs/nuans_minihw2/lib/python3.9/site-packages/requests/adapters.py:489\u001b[0m, in \u001b[0;36mHTTPAdapter.send\u001b[0;34m(self, request, stream, timeout, verify, cert, proxies)\u001b[0m\n\u001b[1;32m    487\u001b[0m \u001b[39mtry\u001b[39;00m:\n\u001b[1;32m    488\u001b[0m     \u001b[39mif\u001b[39;00m \u001b[39mnot\u001b[39;00m chunked:\n\u001b[0;32m--> 489\u001b[0m         resp \u001b[39m=\u001b[39m conn\u001b[39m.\u001b[39;49murlopen(\n\u001b[1;32m    490\u001b[0m             method\u001b[39m=\u001b[39;49mrequest\u001b[39m.\u001b[39;49mmethod,\n\u001b[1;32m    491\u001b[0m             url\u001b[39m=\u001b[39;49murl,\n\u001b[1;32m    492\u001b[0m             body\u001b[39m=\u001b[39;49mrequest\u001b[39m.\u001b[39;49mbody,\n\u001b[1;32m    493\u001b[0m             headers\u001b[39m=\u001b[39;49mrequest\u001b[39m.\u001b[39;49mheaders,\n\u001b[1;32m    494\u001b[0m             redirect\u001b[39m=\u001b[39;49m\u001b[39mFalse\u001b[39;49;00m,\n\u001b[1;32m    495\u001b[0m             assert_same_host\u001b[39m=\u001b[39;49m\u001b[39mFalse\u001b[39;49;00m,\n\u001b[1;32m    496\u001b[0m             preload_content\u001b[39m=\u001b[39;49m\u001b[39mFalse\u001b[39;49;00m,\n\u001b[1;32m    497\u001b[0m             decode_content\u001b[39m=\u001b[39;49m\u001b[39mFalse\u001b[39;49;00m,\n\u001b[1;32m    498\u001b[0m             retries\u001b[39m=\u001b[39;49m\u001b[39mself\u001b[39;49m\u001b[39m.\u001b[39;49mmax_retries,\n\u001b[1;32m    499\u001b[0m             timeout\u001b[39m=\u001b[39;49mtimeout,\n\u001b[1;32m    500\u001b[0m         )\n\u001b[1;32m    502\u001b[0m     \u001b[39m# Send the request.\u001b[39;00m\n\u001b[1;32m    503\u001b[0m     \u001b[39melse\u001b[39;00m:\n\u001b[1;32m    504\u001b[0m         \u001b[39mif\u001b[39;00m \u001b[39mhasattr\u001b[39m(conn, \u001b[39m\"\u001b[39m\u001b[39mproxy_pool\u001b[39m\u001b[39m\"\u001b[39m):\n",
      "File \u001b[0;32m~/miniconda3/envs/nuans_minihw2/lib/python3.9/site-packages/urllib3/connectionpool.py:703\u001b[0m, in \u001b[0;36mHTTPConnectionPool.urlopen\u001b[0;34m(self, method, url, body, headers, retries, redirect, assert_same_host, timeout, pool_timeout, release_conn, chunked, body_pos, **response_kw)\u001b[0m\n\u001b[1;32m    700\u001b[0m     \u001b[39mself\u001b[39m\u001b[39m.\u001b[39m_prepare_proxy(conn)\n\u001b[1;32m    702\u001b[0m \u001b[39m# Make the request on the httplib connection object.\u001b[39;00m\n\u001b[0;32m--> 703\u001b[0m httplib_response \u001b[39m=\u001b[39m \u001b[39mself\u001b[39;49m\u001b[39m.\u001b[39;49m_make_request(\n\u001b[1;32m    704\u001b[0m     conn,\n\u001b[1;32m    705\u001b[0m     method,\n\u001b[1;32m    706\u001b[0m     url,\n\u001b[1;32m    707\u001b[0m     timeout\u001b[39m=\u001b[39;49mtimeout_obj,\n\u001b[1;32m    708\u001b[0m     body\u001b[39m=\u001b[39;49mbody,\n\u001b[1;32m    709\u001b[0m     headers\u001b[39m=\u001b[39;49mheaders,\n\u001b[1;32m    710\u001b[0m     chunked\u001b[39m=\u001b[39;49mchunked,\n\u001b[1;32m    711\u001b[0m )\n\u001b[1;32m    713\u001b[0m \u001b[39m# If we're going to release the connection in ``finally:``, then\u001b[39;00m\n\u001b[1;32m    714\u001b[0m \u001b[39m# the response doesn't need to know about the connection. Otherwise\u001b[39;00m\n\u001b[1;32m    715\u001b[0m \u001b[39m# it will also try to release it and we'll have a double-release\u001b[39;00m\n\u001b[1;32m    716\u001b[0m \u001b[39m# mess.\u001b[39;00m\n\u001b[1;32m    717\u001b[0m response_conn \u001b[39m=\u001b[39m conn \u001b[39mif\u001b[39;00m \u001b[39mnot\u001b[39;00m release_conn \u001b[39melse\u001b[39;00m \u001b[39mNone\u001b[39;00m\n",
      "File \u001b[0;32m~/miniconda3/envs/nuans_minihw2/lib/python3.9/site-packages/urllib3/connectionpool.py:449\u001b[0m, in \u001b[0;36mHTTPConnectionPool._make_request\u001b[0;34m(self, conn, method, url, timeout, chunked, **httplib_request_kw)\u001b[0m\n\u001b[1;32m    444\u001b[0m             httplib_response \u001b[39m=\u001b[39m conn\u001b[39m.\u001b[39mgetresponse()\n\u001b[1;32m    445\u001b[0m         \u001b[39mexcept\u001b[39;00m \u001b[39mBaseException\u001b[39;00m \u001b[39mas\u001b[39;00m e:\n\u001b[1;32m    446\u001b[0m             \u001b[39m# Remove the TypeError from the exception chain in\u001b[39;00m\n\u001b[1;32m    447\u001b[0m             \u001b[39m# Python 3 (including for exceptions like SystemExit).\u001b[39;00m\n\u001b[1;32m    448\u001b[0m             \u001b[39m# Otherwise it looks like a bug in the code.\u001b[39;00m\n\u001b[0;32m--> 449\u001b[0m             six\u001b[39m.\u001b[39;49mraise_from(e, \u001b[39mNone\u001b[39;49;00m)\n\u001b[1;32m    450\u001b[0m \u001b[39mexcept\u001b[39;00m (SocketTimeout, BaseSSLError, SocketError) \u001b[39mas\u001b[39;00m e:\n\u001b[1;32m    451\u001b[0m     \u001b[39mself\u001b[39m\u001b[39m.\u001b[39m_raise_timeout(err\u001b[39m=\u001b[39me, url\u001b[39m=\u001b[39murl, timeout_value\u001b[39m=\u001b[39mread_timeout)\n",
      "File \u001b[0;32m<string>:3\u001b[0m, in \u001b[0;36mraise_from\u001b[0;34m(value, from_value)\u001b[0m\n",
      "File \u001b[0;32m~/miniconda3/envs/nuans_minihw2/lib/python3.9/site-packages/urllib3/connectionpool.py:444\u001b[0m, in \u001b[0;36mHTTPConnectionPool._make_request\u001b[0;34m(self, conn, method, url, timeout, chunked, **httplib_request_kw)\u001b[0m\n\u001b[1;32m    441\u001b[0m \u001b[39mexcept\u001b[39;00m \u001b[39mTypeError\u001b[39;00m:\n\u001b[1;32m    442\u001b[0m     \u001b[39m# Python 3\u001b[39;00m\n\u001b[1;32m    443\u001b[0m     \u001b[39mtry\u001b[39;00m:\n\u001b[0;32m--> 444\u001b[0m         httplib_response \u001b[39m=\u001b[39m conn\u001b[39m.\u001b[39;49mgetresponse()\n\u001b[1;32m    445\u001b[0m     \u001b[39mexcept\u001b[39;00m \u001b[39mBaseException\u001b[39;00m \u001b[39mas\u001b[39;00m e:\n\u001b[1;32m    446\u001b[0m         \u001b[39m# Remove the TypeError from the exception chain in\u001b[39;00m\n\u001b[1;32m    447\u001b[0m         \u001b[39m# Python 3 (including for exceptions like SystemExit).\u001b[39;00m\n\u001b[1;32m    448\u001b[0m         \u001b[39m# Otherwise it looks like a bug in the code.\u001b[39;00m\n\u001b[1;32m    449\u001b[0m         six\u001b[39m.\u001b[39mraise_from(e, \u001b[39mNone\u001b[39;00m)\n",
      "File \u001b[0;32m~/miniconda3/envs/nuans_minihw2/lib/python3.9/http/client.py:1377\u001b[0m, in \u001b[0;36mHTTPConnection.getresponse\u001b[0;34m(self)\u001b[0m\n\u001b[1;32m   1375\u001b[0m \u001b[39mtry\u001b[39;00m:\n\u001b[1;32m   1376\u001b[0m     \u001b[39mtry\u001b[39;00m:\n\u001b[0;32m-> 1377\u001b[0m         response\u001b[39m.\u001b[39;49mbegin()\n\u001b[1;32m   1378\u001b[0m     \u001b[39mexcept\u001b[39;00m \u001b[39mConnectionError\u001b[39;00m:\n\u001b[1;32m   1379\u001b[0m         \u001b[39mself\u001b[39m\u001b[39m.\u001b[39mclose()\n",
      "File \u001b[0;32m~/miniconda3/envs/nuans_minihw2/lib/python3.9/http/client.py:320\u001b[0m, in \u001b[0;36mHTTPResponse.begin\u001b[0;34m(self)\u001b[0m\n\u001b[1;32m    318\u001b[0m \u001b[39m# read until we get a non-100 response\u001b[39;00m\n\u001b[1;32m    319\u001b[0m \u001b[39mwhile\u001b[39;00m \u001b[39mTrue\u001b[39;00m:\n\u001b[0;32m--> 320\u001b[0m     version, status, reason \u001b[39m=\u001b[39m \u001b[39mself\u001b[39;49m\u001b[39m.\u001b[39;49m_read_status()\n\u001b[1;32m    321\u001b[0m     \u001b[39mif\u001b[39;00m status \u001b[39m!=\u001b[39m CONTINUE:\n\u001b[1;32m    322\u001b[0m         \u001b[39mbreak\u001b[39;00m\n",
      "File \u001b[0;32m~/miniconda3/envs/nuans_minihw2/lib/python3.9/http/client.py:281\u001b[0m, in \u001b[0;36mHTTPResponse._read_status\u001b[0;34m(self)\u001b[0m\n\u001b[1;32m    280\u001b[0m \u001b[39mdef\u001b[39;00m \u001b[39m_read_status\u001b[39m(\u001b[39mself\u001b[39m):\n\u001b[0;32m--> 281\u001b[0m     line \u001b[39m=\u001b[39m \u001b[39mstr\u001b[39m(\u001b[39mself\u001b[39;49m\u001b[39m.\u001b[39;49mfp\u001b[39m.\u001b[39;49mreadline(_MAXLINE \u001b[39m+\u001b[39;49m \u001b[39m1\u001b[39;49m), \u001b[39m\"\u001b[39m\u001b[39miso-8859-1\u001b[39m\u001b[39m\"\u001b[39m)\n\u001b[1;32m    282\u001b[0m     \u001b[39mif\u001b[39;00m \u001b[39mlen\u001b[39m(line) \u001b[39m>\u001b[39m _MAXLINE:\n\u001b[1;32m    283\u001b[0m         \u001b[39mraise\u001b[39;00m LineTooLong(\u001b[39m\"\u001b[39m\u001b[39mstatus line\u001b[39m\u001b[39m\"\u001b[39m)\n",
      "File \u001b[0;32m~/miniconda3/envs/nuans_minihw2/lib/python3.9/socket.py:704\u001b[0m, in \u001b[0;36mSocketIO.readinto\u001b[0;34m(self, b)\u001b[0m\n\u001b[1;32m    702\u001b[0m \u001b[39mwhile\u001b[39;00m \u001b[39mTrue\u001b[39;00m:\n\u001b[1;32m    703\u001b[0m     \u001b[39mtry\u001b[39;00m:\n\u001b[0;32m--> 704\u001b[0m         \u001b[39mreturn\u001b[39;00m \u001b[39mself\u001b[39;49m\u001b[39m.\u001b[39;49m_sock\u001b[39m.\u001b[39;49mrecv_into(b)\n\u001b[1;32m    705\u001b[0m     \u001b[39mexcept\u001b[39;00m timeout:\n\u001b[1;32m    706\u001b[0m         \u001b[39mself\u001b[39m\u001b[39m.\u001b[39m_timeout_occurred \u001b[39m=\u001b[39m \u001b[39mTrue\u001b[39;00m\n",
      "File \u001b[0;32m~/miniconda3/envs/nuans_minihw2/lib/python3.9/ssl.py:1242\u001b[0m, in \u001b[0;36mSSLSocket.recv_into\u001b[0;34m(self, buffer, nbytes, flags)\u001b[0m\n\u001b[1;32m   1238\u001b[0m     \u001b[39mif\u001b[39;00m flags \u001b[39m!=\u001b[39m \u001b[39m0\u001b[39m:\n\u001b[1;32m   1239\u001b[0m         \u001b[39mraise\u001b[39;00m \u001b[39mValueError\u001b[39;00m(\n\u001b[1;32m   1240\u001b[0m           \u001b[39m\"\u001b[39m\u001b[39mnon-zero flags not allowed in calls to recv_into() on \u001b[39m\u001b[39m%s\u001b[39;00m\u001b[39m\"\u001b[39m \u001b[39m%\u001b[39m\n\u001b[1;32m   1241\u001b[0m           \u001b[39mself\u001b[39m\u001b[39m.\u001b[39m\u001b[39m__class__\u001b[39m)\n\u001b[0;32m-> 1242\u001b[0m     \u001b[39mreturn\u001b[39;00m \u001b[39mself\u001b[39;49m\u001b[39m.\u001b[39;49mread(nbytes, buffer)\n\u001b[1;32m   1243\u001b[0m \u001b[39melse\u001b[39;00m:\n\u001b[1;32m   1244\u001b[0m     \u001b[39mreturn\u001b[39;00m \u001b[39msuper\u001b[39m()\u001b[39m.\u001b[39mrecv_into(buffer, nbytes, flags)\n",
      "File \u001b[0;32m~/miniconda3/envs/nuans_minihw2/lib/python3.9/ssl.py:1100\u001b[0m, in \u001b[0;36mSSLSocket.read\u001b[0;34m(self, len, buffer)\u001b[0m\n\u001b[1;32m   1098\u001b[0m \u001b[39mtry\u001b[39;00m:\n\u001b[1;32m   1099\u001b[0m     \u001b[39mif\u001b[39;00m buffer \u001b[39mis\u001b[39;00m \u001b[39mnot\u001b[39;00m \u001b[39mNone\u001b[39;00m:\n\u001b[0;32m-> 1100\u001b[0m         \u001b[39mreturn\u001b[39;00m \u001b[39mself\u001b[39;49m\u001b[39m.\u001b[39;49m_sslobj\u001b[39m.\u001b[39;49mread(\u001b[39mlen\u001b[39;49m, buffer)\n\u001b[1;32m   1101\u001b[0m     \u001b[39melse\u001b[39;00m:\n\u001b[1;32m   1102\u001b[0m         \u001b[39mreturn\u001b[39;00m \u001b[39mself\u001b[39m\u001b[39m.\u001b[39m_sslobj\u001b[39m.\u001b[39mread(\u001b[39mlen\u001b[39m)\n",
      "\u001b[0;31mKeyboardInterrupt\u001b[0m: "
     ]
    }
   ],
   "source": [
    "import re\n",
    "import time\n",
    "from tqdm import tqdm\n",
    "\n",
    "chatgpt_dataset = []\n",
    "num_phrases_per_synset = 30\n",
    "chatgpt_request_intervals = 3\n",
    "chatgpt_chunk_size = 2\n",
    "\n",
    "pbar = tqdm(range(0,len(unambiguous_synsets_list),chatgpt_chunk_size), disable=False)\n",
    "err_encountered = 0\n",
    "pbar_desc = lambda: f\"Errors: {err_encountered}\"\n",
    "for c in pbar:\n",
    "    pbar.set_description(pbar_desc())\n",
    "    query_text_list = []\n",
    "    for synset_name in unambiguous_synsets_list[c:c+chatgpt_chunk_size]:\n",
    "        query_text_list += [f'generate {num_phrases_per_synset} phrases in which the WordNet synset \"{synset_name}\" is used as an event']\n",
    "    retrials = 0\n",
    "    max_retrials = 5\n",
    "    retry = True\n",
    "    while retry is True:\n",
    "        res = chatgpt_request(query_text_list, env_dict['OPENAI_KEY'], timeout=40)\n",
    "        if res is not None:\n",
    "            for synset_name, answer in zip(unambiguous_synsets_list[c:c+chatgpt_chunk_size], res):\n",
    "                sentences_res_list = re.split(r\"\\n+\\d+. \", answer)[1:]\n",
    "                if synset_name not in sentences_res_list[0]: # it didn't took too literally to use the synset in the phrase\n",
    "                    chatgpt_dataset += sentences_res_list\n",
    "                    retry = False\n",
    "        if retry is True:\n",
    "            retrials += 1\n",
    "            if retrials >= max_retrials:\n",
    "                err_encountered += 1\n",
    "                break\n",
    "        time.sleep(chatgpt_request_intervals)"
   ]
  },
  {
   "cell_type": "code",
   "execution_count": 92,
   "metadata": {},
   "outputs": [
    {
     "data": {
      "text/plain": [
       "['The ever-present tolerance of the president in his interaction with foreign leaders was remarkable. ',\n",
       " \"The town's increasing tolerance of different religions has been an asset to diversity. \",\n",
       " 'Despite tremendous political strain, countries brokered a policy of tolerance. ',\n",
       " 'In order to reduce petty conflict, tolerance amongst neighbours was promoted. ',\n",
       " 'The students taught the schoolmates the value of tolerance in the face of adversity. ',\n",
       " 'The nation instilled a sense of tolerance in its citizens, granting them trust and freedom. ',\n",
       " 'The couple remarked on their mutual tolerance, which enabled them to live peacefully together. ',\n",
       " 'The UN has continually stressed the need for global tolerance. ',\n",
       " 'The mayor made a statement calling for tolerance in the occupied city. ',\n",
       " 'Community organizations led educational seminars on the importance of tolerance. ',\n",
       " 'The judge ruled in favour of tolerance when making her judgement. ',\n",
       " 'The government deployed a policy of increasing tolerance and respect across countries. ',\n",
       " 'In his sermon, the pastor emphasized the need for tolerance in order to ensure peace. ',\n",
       " 'After centuries of conflict, the neighboring lands embraced tolerance and harmony. ',\n",
       " 'The committee sought to advance a message of tolerance, promoting acceptance. ',\n",
       " 'Rebel groups have agreed to a ceasefire in exchange for tolerance between state and citizens. ',\n",
       " 'Representatives met to discuss the implementation of tolerance policies in the region. ',\n",
       " 'The delegate commented on the power of tolerance in bringing stability. ',\n",
       " 'Citizens can exercise their right to tolerance in the face of adversity. ',\n",
       " 'The summit was a milestone in the achievement of international tolerance. ',\n",
       " 'Members of the anti-racism organization organized a rally for tolerance. ',\n",
       " 'In the small town, tolerance took a different shape in the form of grassroots activism. ',\n",
       " 'The family celebrated the strength of communal tolerance in the face of hate crime. ',\n",
       " 'The recent increase in hate speech requires to combat it with greater tolerance. ',\n",
       " 'Neighborhoods implemented a policy of tolerance in order to reduce petty conflict. ',\n",
       " 'Following the introduction of the new tolerance law, social dynamics changed significantly. ',\n",
       " 'The country applauded the activists who advocated for tolerance and mutual respect. ',\n",
       " 'The society enforced tolerance policies to create an inclusive atmosphere. ',\n",
       " 'Citizens took to the streets in an effort to make tolerance a national objective. ',\n",
       " \"The new law ensured the citizens' right to tolerance and respect.\",\n",
       " 'His absolute abidance of the rule made him an ideal leader. ',\n",
       " 'Her abidance to the law allowed her to get away with little consequence. ',\n",
       " 'She kept their relationship intact due to her abidance. ',\n",
       " 'His abidance of the advice from his superiors made him successful. ',\n",
       " 'His abidance of the schedule kept their team on track. ',\n",
       " 'The students’ abidance to the code of conduct earned them recognition. ',\n",
       " 'His firm abidance to regulations helped him get ahead. ',\n",
       " 'His abidance to the rules made it difficult to break free. ',\n",
       " 'Abidance to the guidelines secured her chance at success. ',\n",
       " \"The leader's strict abidance of regulations was an example to the team. \",\n",
       " 'Achieving harmony required her abidance with the plan. ',\n",
       " 'We must ensure our abidance to the laws. ',\n",
       " \"The club's abidance to the by-laws gained them respect. \",\n",
       " 'Abidance to the contract upheld the agreement between the two parties. ',\n",
       " 'His abidance to the code of ethics was undeniable. ',\n",
       " 'His abidance to the policy had everyone adhering. ',\n",
       " 'He promised to stay abidance to their plan. ',\n",
       " 'We committed to remain in abidance of the terms. ',\n",
       " 'Her abidance of the agreement saved her from a lot of stress. ',\n",
       " 'They maintained the order by following their abidance to the rules. ',\n",
       " 'The police praised his abidance to the laws. ',\n",
       " 'Their abidance to the protocol was expected. ',\n",
       " 'He enforced the covenants with his abidance. ',\n",
       " \"The company's abidance to the regulations stabilized the economy. \",\n",
       " 'His unswerving abidance of the law made him a model citizen. ',\n",
       " 'Her abidance with the contract was the only thing that mattered. ',\n",
       " \"His abidance to the team played a major role in the group's growth. \",\n",
       " \"The government's policy on abidance to the law saved the country from chaos. \",\n",
       " 'Abidance to the schedule meant success for the team. ',\n",
       " 'Their refusal to abidance caused trouble for the entire organization.',\n",
       " 'The synod reached the agreement of toleration for the new faith. ',\n",
       " 'Public demonstrations were held in support of religious toleration.',\n",
       " 'The new citizens were welcomed with a spirit of toleration.',\n",
       " 'The Government declared a policy of toleration towards minorities.',\n",
       " 'Toleration was the foundation of the talk between the leaders.',\n",
       " 'The church service called for an increase in toleration.',\n",
       " 'All participants should accept the spirit of toleration to ensure the success of the event.',\n",
       " 'The library hosted a special exhibit highlighting the history of toleration.',\n",
       " 'The law was passed to institute a policy of religious toleration.',\n",
       " 'Interracial couples were accepted in the public square with a greater acceptance of toleration.',\n",
       " 'A movement was created to promote the idea of toleration at the state and local level.',\n",
       " 'Universities organized lectures and debates on the topic of toleration.',\n",
       " 'The press championed the cause of toleration as a fundamental democratic value.',\n",
       " 'The court decision recognized the necessity of toleration as a human right.',\n",
       " 'The Classroom extolled the virtue of toleration to the students.',\n",
       " 'The national assembly declared its commitment to the practice of toleration.',\n",
       " 'The forum provided an opportunity for the exchange of ideas about toleration.',\n",
       " 'The conference issued a joint statement proclaiming greater toleration for religious expression.',\n",
       " 'The international treaty incorporated warnings against intolerance and promoted the goal of toleration.',\n",
       " 'The activism around the issue of toleration has advanced the cause of harmony and understanding.',\n",
       " 'The festival celebrated the culture of toleration with special performances and exhibitions.',\n",
       " 'The Charter of Rights and Freedoms includes a provision that guarantees a right to toleration.',\n",
       " 'The observance of toleration was the cornerstone of the new constitution.',\n",
       " 'The museum displayed artifacts of the struggle for toleration throughout history.',\n",
       " 'The bylaw was passed to protect the right to the practice of toleration within the community.',\n",
       " 'The government promised that the practice of toleration would be entrenched in the new constitution.',\n",
       " 'The students were taught the importance of toleration for the preservation of peace and harmony.',\n",
       " 'The rally called for increased awareness of the value of toleration in society.',\n",
       " 'The movement to promote greater toleration was gaining momentum throughout the region.',\n",
       " 'The Constitution was amended to make the acceptance of toleration a fundamental principle of the law.',\n",
       " 'Following due obedience, the soldier moved to his next station.',\n",
       " 'Obedience was expected of all at the start of the meeting.',\n",
       " 'The teacher praised her student for showing obedience.',\n",
       " 'The report praised her for her obedience during the crisis.',\n",
       " 'He rejoiced in the obedience of his children.',\n",
       " 'Disobedience was not tolerated at the institution.',\n",
       " 'The laws of obedience were strictly enforced.',\n",
       " 'The general enjoined his troops to obey the act of obedience.',\n",
       " \"Obedience to God's words brought peace to the nation.\",\n",
       " 'His obedience at the trial was exemplary.',\n",
       " 'Obedience was the cornerstone of his ideology.',\n",
       " 'Military cadets were trained to display obedience.',\n",
       " 'She was rewarded for her obedience at the tournament.',\n",
       " \"The sailor's obedience saved the ship from destruction.\",\n",
       " 'Without obedience, chaos would ensue.',\n",
       " 'The act of obedience was a part of the ceremony.',\n",
       " 'Obedience was a prerequisite for military service.',\n",
       " 'The children showed remarkable obedience under pressure.',\n",
       " 'To him, obedience was a moral expression of faith.',\n",
       " 'Obedience was considered a virtue in their society.',\n",
       " 'Obedience was granted to the nobles at the court.',\n",
       " 'Obedience was taught to the new recruits.',\n",
       " 'She was praised for her obedience to the law.',\n",
       " 'His obedience in the face of danger was admired.',\n",
       " 'She demanded obedience, and he reluctantly complied.',\n",
       " 'Obedience and honesty were priority to them.',\n",
       " 'He enforced obedience upon his troops.',\n",
       " 'The submission of obedience was his duty.',\n",
       " 'His obedience was unconditional and without hesitation.',\n",
       " 'He instilled obedience in the minds of his pupils.',\n",
       " 'Our wedding invitations will be sent out by airmail.',\n",
       " 'We traveled halfway around the world by airmail.',\n",
       " 'The last shipment of medicines was sent by airmail.',\n",
       " 'I received my passport by airmail.',\n",
       " 'The important documents had to be sent out by airmail.',\n",
       " 'Airmail is the quickest way to get anything across the country.',\n",
       " 'She sent her mother a special gift by airmail.',\n",
       " 'The manuscript was sent to the publisher by airmail.',\n",
       " 'I sent a birthday card to my aunt via airmail.',\n",
       " 'During the war, some letters were sent by airmail.',\n",
       " 'The board of directors held a meeting to discuss the airmail project.',\n",
       " 'We placed a large order for the airmail service.',\n",
       " 'My college application was sent via airmail.',\n",
       " \"Let's get the urgent documents sent out by airmail.\",\n",
       " 'Airmail delivery would help us save money on shipping.',\n",
       " 'The new regulations for airmail will take effect soon.',\n",
       " 'The research documents have to be sent out by airmail.',\n",
       " 'I sent my manuscripts to the publisher by airmail.',\n",
       " 'We need to track down the airmail package.',\n",
       " 'The ambassador sent his official letter of resignation by airmail.',\n",
       " 'The airmail service allows for faster delivery of mail.',\n",
       " 'I sent out our quarterly reports by airmail.',\n",
       " 'My colleague sent his latest report by airmail.',\n",
       " 'The samples were sent to the laboratory via airmail.',\n",
       " 'He mailed his girlfriend back home a small care package by airmail.',\n",
       " 'Our plane tickets were delivered by airmail.',\n",
       " 'The medical packages were sent by airmail to the remote location.',\n",
       " 'We had the forms sent out by airmail as soon as possible.',\n",
       " 'The kids enjoyed sending out their letters to Santa Claus by airmail.',\n",
       " 'We mailed out the invitation cards to our guests via airmail.',\n",
       " 'The townspeople celebrated with a holiday parade, complete with a festival of cartage.',\n",
       " 'His latest theatrical production showcased the art of cartage.',\n",
       " 'The annual cartage competition was a spectacular success.',\n",
       " 'She used cartage to create an unforgettable show at the theater.',\n",
       " \"The mayor's inauguration was accompanied by a dazzling cartage display.\",\n",
       " 'He won the prize for best cartage at the festival.',\n",
       " 'The parade concluded with a display of colorful cartage.',\n",
       " 'Cartage was the highlight of the night at the gala.',\n",
       " 'The exhibition showcased the best examples of cartage from around the world.',\n",
       " 'She celebrated her birthday with a stunning cartage show.',\n",
       " 'The festival included a cartage show that was truly unforgettable.',\n",
       " 'The opening night of the circus was highlighted by a performance of cartage.',\n",
       " 'He mesmerized the audience with his skillful cartage performance.',\n",
       " 'Everyone was in awe of the cartage performance at the art show.',\n",
       " 'The townspeople gathered to celebrate with a cartage parade.',\n",
       " 'He performed an impressive cartage routine in the talent show.',\n",
       " 'She went to the park to watch a cartage performance.',\n",
       " 'The guests were delighted by the enchanting cartage show.',\n",
       " 'The theater company dedicated the evening to showcasing cartage.',\n",
       " 'Cartage was the main attraction of the community block party.',\n",
       " 'He created an elaborate cartage display for the party.',\n",
       " 'The kids were thrilled by the cartage show at the carnival.',\n",
       " 'She added a touch of elegance to the event with her cartage performance. ',\n",
       " 'The art museum hosted an exhibition of traditional cartage.',\n",
       " 'The festival featured a variety of spectacular cartage performances.',\n",
       " 'Everyone paused to admire the beauty of the cartage display.',\n",
       " 'The art gallery featured a cartage demonstration to highlight its summer exhibit.',\n",
       " 'The theater presented a graceful cartage performance to honor the holiday season.',\n",
       " 'The streets were filled with the sounds of cartage during the festival.',\n",
       " 'The grand finale was a breathtaking cartage performance.',\n",
       " 'The delivery of a new baby was a joyous occasion for the family. ',\n",
       " 'We are expecting a delivery of fresh produce tomorrow.',\n",
       " 'The delivery truck arrived with a full load.',\n",
       " 'The package is still out for delivery.',\n",
       " 'We had the delivery of some new furniture yesterday.',\n",
       " 'The delivery guy brought us a large order.',\n",
       " 'She was pleased with the speedy delivery of her order.',\n",
       " \"We'll need to make arrangements for the delivery of supplies.\",\n",
       " 'The delivery of the wedding rings was just in time.',\n",
       " 'Their furniture delivery was surprisingly prompt.',\n",
       " 'The courier was late with the delivery.',\n",
       " 'He is responsible for the delivery of the furniture.',\n",
       " 'The delivery arrived safely after a long trip.',\n",
       " 'The delivery was full of beautiful flowers.',\n",
       " 'We are delighted with the delivery of the new product.',\n",
       " 'We received the delivery package but it was damaged.',\n",
       " 'The delivery worker brought us a big box.',\n",
       " 'The delivery of the order went smoothly.',\n",
       " 'The delivery truck was late due to heavy traffic.',\n",
       " 'We expect the delivery of the new shipment today.',\n",
       " 'The delivery was on time and as promised.',\n",
       " 'The delivery service was prompt and efficient.',\n",
       " 'We had a good experience with the delivery.',\n",
       " 'The delivery arrived in perfect condition.',\n",
       " 'The delivery staff was friendly and helpful.',\n",
       " 'The delivery was delivered to the wrong address.',\n",
       " 'The delivery driver knows the area well.',\n",
       " 'We can arrange for the delivery of your order.',\n",
       " 'The delivery company did a good job.',\n",
       " 'We have scheduled a delivery for tomorrow.',\n",
       " \"The ferry's departure had been delayed due to inclement weather.\",\n",
       " 'Tourists flocked to the bay to take in the picturesque ferry ride.',\n",
       " 'We had to wait in line for nearly an hour before boarding the ferry. ',\n",
       " \"The ferry's captain made sure everyone on board knew basic safety precautions. \",\n",
       " 'The ferry sped across the bay at a comfortable pace.',\n",
       " 'The captain of the ferry allayed any fears of a rough voyage.',\n",
       " 'The evergreen trees lining the shoreline looked majestic from the ferry.',\n",
       " 'Passengers on the ferry enjoyed the peaceful sight of the distant horizon.',\n",
       " 'Paul remembered his first ferry trip to the beach, the memories over time had been blurred by the passing of time.',\n",
       " 'We had been warned to stay clear of the ferry when the storm hit.',\n",
       " 'Children of all ages delighted in the ferry experience.',\n",
       " 'A group of adventurers packed into the ferry for a weekend getaway.',\n",
       " 'The ferry had left port just before the sun began to set.',\n",
       " \"Sophia had been fascinated with the sound of the ferry's horn.\",\n",
       " 'Some passengers had preferred to remain on the ferry, while others had made their way to the island.',\n",
       " 'Some were taking the ferry, while the rest were taking boats.',\n",
       " 'The ferry had left the port at sundown, and returned by sunrise.',\n",
       " 'The ferry had weighed anchor when the storm began rolling in.',\n",
       " 'All passengers had to be on board the ferry before it began its voyage. ',\n",
       " \"The ferry's passengers passed in silence, all keeping to themselves in anticipation of their destination.\",\n",
       " 'The towering masts of the ferry had been a sight to behold.',\n",
       " 'Navy boats formed a protective escort around the ferry.',\n",
       " 'The arrival of the ferry stirred the small port town.',\n",
       " 'Departing passengers waved to the ferry from the shoreline.',\n",
       " 'All who visited the ferry took in the majestic vistas of the region.',\n",
       " 'A strict curfew had been imposed on ferry passengers.',\n",
       " 'Waves rocked the ferry, thrilling passengers of all ages.',\n",
       " 'On the journey, the ferry encountered a ferocious winter storm.',\n",
       " 'The captain had to steer the and maneuver the ferry carefully to make it safely to shore. ',\n",
       " 'The trip was cut short when the ferry encountered a malfunction.']"
      ]
     },
     "execution_count": 92,
     "metadata": {},
     "output_type": "execute_result"
    }
   ],
   "source": [
    "chatgpt_dataset"
   ]
  },
  {
   "cell_type": "code",
   "execution_count": 93,
   "metadata": {},
   "outputs": [],
   "source": [
    "with open('./datasets/chatgpt/noun_sentences.json', 'w') as fout:\n",
    "    json.dump(chatgpt_dataset, fout, indent=4)"
   ]
  },
  {
   "cell_type": "code",
   "execution_count": 94,
   "metadata": {},
   "outputs": [
    {
     "name": "stderr",
     "output_type": "stream",
     "text": [
      "Nominal found: 117, Verbal found: 309, Incorrelations: 1, Chunk errors: 4, Sentences: 169: 100%|██████████| 15/15 [00:09<00:00,  1.64it/s]\n"
     ]
    }
   ],
   "source": [
    "sentences_testing_dataset = [\"Marco is running a marathon.\", \"The eating of Marco is very loud.\"] # this is for testing \n",
    "sentences_dataset = chatgpt_dataset # a list of sentences, the starting dataset\n",
    "chunk_size = 16 # number of sentences to query amuse and invero\n",
    "window_span_error = 3 # the displacement between invero and amuse tokenization indices. The greater, the less are the incorrelations errors\n",
    "lang = \"EN\"\n",
    "\n",
    "noUniteD_srl_result, nominal_event_count = create_nounited_dataset(\n",
    "    sentences_list = sentences_dataset,\n",
    "    unambiguous_candidates_path = unambiguous_candidates_path,\n",
    "    amuse_url = amuse_url, invero_url = invero_url,\n",
    "    chunk_size = chunk_size, window_span_error = window_span_error, lang = lang\n",
    ")"
   ]
  },
  {
   "cell_type": "code",
   "execution_count": 96,
   "metadata": {},
   "outputs": [
    {
     "name": "stdout",
     "output_type": "stream",
     "text": [
      "[(0, 'The'), (1, 'town'), (2, \"'s\"), (3, 'increasing'), (4, 'tolerance'), (5, 'of'), (6, 'different'), (7, 'religions'), (8, 'has'), (9, 'been'), (10, 'an'), (11, 'asset'), (12, 'to'), (13, 'diversity'), (14, '.')] \n",
      "\n",
      "[(0, '_'), (1, '_'), (2, '_'), (3, 'INCREASE_ENLARGE_MULTIPLY'), (4, '_'), (5, '_'), (6, '_'), (7, '_'), (8, '_'), (9, '_'), (10, '_'), (11, '_'), (12, '_'), (13, '_'), (14, '_')] \n",
      "\n",
      "{'3': ['_', '_', '_', '_', 'Patient', '_', '_', '_', '_', '_', '_', '_', '_', '_', '_']} \n",
      "\n",
      "[(0, 'the'), (1, 'town'), (2, \"'s\"), (3, 'increase'), (4, 'tolerance'), (5, 'of'), (6, 'different'), (7, 'religion'), (8, 'have'), (9, 'be'), (10, 'an'), (11, 'asset'), (12, 'to'), (13, 'diversity'), (14, '.')] \n",
      "\n",
      "[(0, 'DET'), (1, 'NOUN'), (2, 'PART'), (3, 'VERB'), (4, 'NOUN'), (5, 'ADP'), (6, 'ADJ'), (7, 'NOUN'), (8, 'AUX'), (9, 'AUX'), (10, 'DET'), (11, 'NOUN'), (12, 'ADP'), (13, 'NOUN'), (14, 'PUNCT')] \n",
      "\n",
      "3 0\n"
     ]
    }
   ],
   "source": [
    "select_sample = 1\n",
    "print([(i,w) for i,w in enumerate(noUniteD_srl_result[select_sample]['words']) ], '\\n')\n",
    "print([(i,w) for i,w in enumerate(noUniteD_srl_result[select_sample]['predicates']) ], '\\n')\n",
    "print(noUniteD_srl_result[select_sample]['roles'], '\\n')\n",
    "print([(i,w) for i,w in enumerate(noUniteD_srl_result[select_sample]['lemmas']) ], '\\n')\n",
    "print([(i,w) for i,w in enumerate(noUniteD_srl_result[select_sample]['pos_tags']) ], '\\n')\n",
    "print(noUniteD_srl_result[select_sample]['num_v'], noUniteD_srl_result[select_sample]['num_n'])"
   ]
  },
  {
   "cell_type": "code",
   "execution_count": null,
   "metadata": {},
   "outputs": [],
   "source": [
    "save_nounited_dataset(\n",
    "    noUniteD_srl_result = noUniteD_srl_result, \n",
    "    dir_path = './datasets/chatgpt_nounited_srl/', lang = 'EN', \n",
    "    train_ratio = 0.8, num_dataset_divisions = 2, shuffle = True\n",
    ")"
   ]
  },
  {
   "attachments": {},
   "cell_type": "markdown",
   "metadata": {},
   "source": [
    "Conclusions: responses from the service are slow. Moreover, sentences are very similar."
   ]
  }
 ],
 "metadata": {
  "kernelspec": {
   "display_name": "nuans_minihw2",
   "language": "python",
   "name": "python3"
  },
  "language_info": {
   "codemirror_mode": {
    "name": "ipython",
    "version": 3
   },
   "file_extension": ".py",
   "mimetype": "text/x-python",
   "name": "python",
   "nbconvert_exporter": "python",
   "pygments_lexer": "ipython3",
   "version": "3.9.15 (main, Nov 24 2022, 14:31:59) \n[GCC 11.2.0]"
  },
  "orig_nbformat": 4,
  "vscode": {
   "interpreter": {
    "hash": "8a5edab282632443219e051e4ade2d1d5bbc671c781051bf1437897cbdfea0f1"
   }
  }
 },
 "nbformat": 4,
 "nbformat_minor": 2
}
