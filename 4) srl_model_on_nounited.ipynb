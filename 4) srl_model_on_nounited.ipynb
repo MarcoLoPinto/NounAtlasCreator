{
 "cells": [
  {
   "attachments": {},
   "cell_type": "markdown",
   "metadata": {},
   "source": [
    "In this notebook, I will train and test my custom SRL model on the noUniteD-SRL dataset, generated using the sentences in the MAVEN dataset."
   ]
  },
  {
   "cell_type": "markdown",
   "id": "3fe2040e",
   "metadata": {
    "papermill": {
     "duration": 0.078963,
     "end_time": "2022-03-31T22:14:09.386664",
     "exception": false,
     "start_time": "2022-03-31T22:14:09.307701",
     "status": "completed"
    },
    "tags": []
   },
   "source": [
    "# Prerequisites"
   ]
  },
  {
   "cell_type": "code",
   "execution_count": 1,
   "metadata": {},
   "outputs": [
    {
     "name": "stderr",
     "output_type": "stream",
     "text": [
      "/home/marco/miniconda3/envs/nuans_minihw2/lib/python3.9/site-packages/tqdm/auto.py:22: TqdmWarning: IProgress not found. Please update jupyter and ipywidgets. See https://ipywidgets.readthedocs.io/en/stable/user_install.html\n",
      "  from .autonotebook import tqdm as notebook_tqdm\n"
     ]
    }
   ],
   "source": [
    "import os, sys\n",
    "\n",
    "import numpy as np\n",
    "import tqdm\n",
    "import torch"
   ]
  },
  {
   "cell_type": "markdown",
   "id": "5424a631",
   "metadata": {
    "papermill": {
     "duration": 0.049244,
     "end_time": "2022-03-31T22:14:12.552634",
     "exception": false,
     "start_time": "2022-03-31T22:14:12.503390",
     "status": "completed"
    },
    "tags": []
   },
   "source": [
    "Important paths for the notebook:"
   ]
  },
  {
   "cell_type": "code",
   "execution_count": 2,
   "metadata": {},
   "outputs": [],
   "source": [
    "datasets_root_path = './datasets/'\n",
    "srl_dataset_path = os.path.join(datasets_root_path, 'maven_nounited_srl')\n",
    "checkpoints_dir_path = './checkpoints/'\n",
    "model_dir_path = os.path.join(checkpoints_dir_path, 'models_nounited_maven')\n",
    "\n",
    "srl_dataset_dict_paths = {}\n",
    "for lang in os.listdir(srl_dataset_path):\n",
    "    dataset_lang_path = os.path.join(srl_dataset_path, lang)\n",
    "    if os.path.isdir(dataset_lang_path):\n",
    "        srl_dataset_dict_paths[lang] = {}\n",
    "        for d_type in os.listdir(dataset_lang_path):\n",
    "            d_name = d_type.split('.')[0]\n",
    "            srl_dataset_dict_paths[lang][d_name] = os.path.join(dataset_lang_path, d_type)"
   ]
  },
  {
   "cell_type": "code",
   "execution_count": 3,
   "metadata": {},
   "outputs": [
    {
     "data": {
      "text/plain": [
       "'cuda'"
      ]
     },
     "execution_count": 3,
     "metadata": {},
     "output_type": "execute_result"
    }
   ],
   "source": [
    "%load_ext autoreload\n",
    "%autoreload 2\n",
    "\n",
    "device = 'cuda' if torch.cuda.is_available() else 'cpu'\n",
    "device"
   ]
  },
  {
   "cell_type": "markdown",
   "id": "c7bc95ee",
   "metadata": {
    "papermill": {
     "duration": 0.048851,
     "end_time": "2022-03-31T22:14:13.015246",
     "exception": false,
     "start_time": "2022-03-31T22:14:12.966395",
     "status": "completed"
    },
    "tags": []
   },
   "source": [
    "Setting the seed for reproducibility:"
   ]
  },
  {
   "cell_type": "code",
   "execution_count": 4,
   "metadata": {},
   "outputs": [],
   "source": [
    "SEED = 28\n",
    "\n",
    "# random.seed(SEED) # not used\n",
    "np.random.seed(SEED)\n",
    "torch.manual_seed(SEED)\n",
    "torch.backends.cudnn.deterministic = True"
   ]
  },
  {
   "cell_type": "code",
   "execution_count": 5,
   "metadata": {},
   "outputs": [],
   "source": [
    "global_params = {\n",
    "    'batch_size': 32,\n",
    "    'transformer_name': \"xlm-roberta-base\",\n",
    "}"
   ]
  },
  {
   "cell_type": "code",
   "execution_count": 6,
   "metadata": {},
   "outputs": [],
   "source": [
    "from code_files.datasets.dataset_nounited import DatasetNoUniteD"
   ]
  },
  {
   "attachments": {},
   "cell_type": "markdown",
   "metadata": {},
   "source": [
    "## Training the Predicate Identification and Disambiguation model with only verbal predicates"
   ]
  },
  {
   "cell_type": "code",
   "execution_count": 7,
   "metadata": {},
   "outputs": [],
   "source": [
    "split_type = '_v'"
   ]
  },
  {
   "cell_type": "code",
   "execution_count": 8,
   "metadata": {},
   "outputs": [],
   "source": [
    "dataset_train_en_pid = DatasetNoUniteD(  srl_dataset_dict_paths['EN']['train'], split_predicates=False, split_type_to_use = split_type )\n",
    "dataset_dev_en_pid = DatasetNoUniteD(  srl_dataset_dict_paths['EN']['dev'], split_predicates=False, split_type_to_use = split_type )"
   ]
  },
  {
   "cell_type": "code",
   "execution_count": 9,
   "metadata": {},
   "outputs": [],
   "source": [
    "global_params.update({\n",
    "    'n_roles_labels': len(dataset_train_en_pid.id_to_roles),\n",
    "    'n_predicates_labels': len(dataset_train_en_pid.id_to_predicates),\n",
    "\n",
    "    'id_to_roles': dataset_train_en_pid.id_to_roles,\n",
    "    'roles_to_id': dataset_train_en_pid.roles_to_id,\n",
    "    'roles_pad_id': dataset_train_en_pid.roles_pad_id,\n",
    "    'roles_pad': dataset_train_en_pid.roles_pad,\n",
    "\n",
    "    'id_to_predicates': dataset_train_en_pid.id_to_predicates,\n",
    "    'predicates_to_id': dataset_train_en_pid.predicates_to_id,\n",
    "    'predicates_pad_id': dataset_train_en_pid.predicates_pad_id,\n",
    "    'predicates_pad': dataset_train_en_pid.predicates_pad,\n",
    "})"
   ]
  },
  {
   "cell_type": "code",
   "execution_count": 10,
   "metadata": {},
   "outputs": [],
   "source": [
    "np.save(os.path.join(model_dir_path, 'global_params.npy'), global_params)"
   ]
  },
  {
   "cell_type": "code",
   "execution_count": 11,
   "metadata": {},
   "outputs": [
    {
     "data": {
      "text/plain": [
       "(24575, 6143)"
      ]
     },
     "execution_count": 11,
     "metadata": {},
     "output_type": "execute_result"
    }
   ],
   "source": [
    "len(dataset_train_en_pid.data), len(dataset_dev_en_pid.data)"
   ]
  },
  {
   "cell_type": "code",
   "execution_count": 27,
   "metadata": {},
   "outputs": [
    {
     "name": "stdout",
     "output_type": "stream",
     "text": [
      "{'words': ['The', '2006', 'Pangandaran', 'earthquake', 'and', 'tsunami', 'occurred', 'on', 'July', '17', 'at', 'along', 'a', 'subduction', 'zone', 'off', 'the', 'coast', 'of', 'west', 'and', 'central', 'Java', ',', 'a', 'large', 'and', 'densely', 'populated', 'island', 'in', 'the', 'Indonesian', 'archipelago', '.'], 'predicates': ['_', '_', '_', 'MOVE-ONESELF', '_', '_', 'HAPPEN_OCCUR', '_', '_', '_', '_', '_', '_', '_', '_', '_', '_', '_', '_', '_', '_', '_', '_', '_', '_', '_', '_', '_', '_', '_', '_', '_', '_', '_', '_'], 'predicates_v': ['_', '_', '_', '_', '_', '_', 'HAPPEN_OCCUR', '_', '_', '_', '_', '_', '_', '_', '_', '_', '_', '_', '_', '_', '_', '_', '_', '_', '_', '_', '_', '_', '_', '_', '_', '_', '_', '_', '_'], 'predicates_n': ['_', '_', '_', 'MOVE-ONESELF', '_', '_', '_', '_', '_', '_', '_', '_', '_', '_', '_', '_', '_', '_', '_', '_', '_', '_', '_', '_', '_', '_', '_', '_', '_', '_', '_', '_', '_', '_', '_'], 'roles': {'6': ['_', '_', '_', 'Theme', '_', '_', '_', '_', '_', '_', '_', '_', '_', '_', '_', '_', '_', '_', '_', '_', '_', '_', '_', '_', '_', '_', '_', '_', '_', '_', '_', '_', '_', '_', '_']}, 'roles_v': {'6': ['_', '_', '_', 'Theme', '_', '_', '_', '_', '_', '_', '_', '_', '_', '_', '_', '_', '_', '_', '_', '_', '_', '_', '_', '_', '_', '_', '_', '_', '_', '_', '_', '_', '_', '_', '_']}, 'roles_n': {}, 'num_v': 1, 'num_n': 1, 'lemmas': ['the', '2006', 'Pangandaran', 'earthquake', 'and', 'tsunami', 'occur', 'on', 'July', '17', 'at', 'along', 'a', 'subduction', 'zone', 'off', 'the', 'coast', 'of', 'west', 'and', 'central', 'Java', ',', 'a', 'large', 'and', 'densely', 'populated', 'island', 'in', 'the', 'indonesian', 'archipelago', '.'], 'pos_tags': ['DET', 'NUM', 'PROPN', 'NOUN', 'CCONJ', 'NOUN', 'VERB', 'ADP', 'PROPN', 'NUM', 'ADP', 'ADP', 'DET', 'NOUN', 'NOUN', 'ADP', 'DET', 'NOUN', 'ADP', 'PROPN', 'CCONJ', 'ADJ', 'PROPN', 'PUNCT', 'DET', 'ADJ', 'CCONJ', 'ADV', 'ADJ', 'NOUN', 'ADP', 'DET', 'ADJ', 'NOUN', 'PUNCT']} \n",
      "\n",
      " {'words': ['The', 'ANZACs', 'had', 'landed', 'two', 'divisions', 'but', 'over', 'two', 'thousand', 'of', 'their', 'men', 'had', 'been', 'killed', 'or', 'wounded', ',', 'together', 'with', 'at', 'least', 'a', 'similar', 'number', 'of', 'Turkish', 'casualties', '.'], 'predicates': ['_', '_', '_', 'ARRIVE', '_', '_', '_', '_', '_', '_', '_', '_', '_', '_', '_', 'KILL', '_', 'HURT_HARM_ACHE', '_', '_', '_', '_', '_', '_', '_', '_', '_', '_', '_', '_'], 'predicates_v': ['_', '_', '_', 'ARRIVE', '_', '_', '_', '_', '_', '_', '_', '_', '_', '_', '_', 'KILL', '_', 'HURT_HARM_ACHE', '_', '_', '_', '_', '_', '_', '_', '_', '_', '_', '_', '_'], 'predicates_n': ['_', '_', '_', '_', '_', '_', '_', '_', '_', '_', '_', '_', '_', '_', '_', '_', '_', '_', '_', '_', '_', '_', '_', '_', '_', '_', '_', '_', '_', '_'], 'roles': {'3': ['_', 'Agent', '_', '_', '_', 'Patient', '_', '_', '_', '_', '_', '_', '_', '_', '_', '_', '_', '_', '_', '_', '_', '_', '_', '_', '_', '_', '_', '_', '_', '_'], '15': ['_', '_', '_', '_', '_', '_', '_', '_', '_', 'Patient', '_', '_', '_', '_', '_', '_', '_', '_', '_', '_', '_', '_', '_', '_', '_', '_', '_', '_', '_', '_'], '17': ['_', '_', '_', '_', '_', '_', '_', '_', '_', 'Experiencer', '_', '_', '_', '_', '_', '_', '_', '_', '_', '_', '_', '_', '_', '_', '_', '_', '_', '_', '_', '_']}, 'roles_v': {'3': ['_', 'Agent', '_', '_', '_', 'Patient', '_', '_', '_', '_', '_', '_', '_', '_', '_', '_', '_', '_', '_', '_', '_', '_', '_', '_', '_', '_', '_', '_', '_', '_'], '15': ['_', '_', '_', '_', '_', '_', '_', '_', '_', 'Patient', '_', '_', '_', '_', '_', '_', '_', '_', '_', '_', '_', '_', '_', '_', '_', '_', '_', '_', '_', '_'], '17': ['_', '_', '_', '_', '_', '_', '_', '_', '_', 'Experiencer', '_', '_', '_', '_', '_', '_', '_', '_', '_', '_', '_', '_', '_', '_', '_', '_', '_', '_', '_', '_']}, 'roles_n': {}, 'num_v': 6, 'num_n': 0, 'lemmas': ['the', 'ANZACs', 'have', 'land', 'two', 'division', 'but', 'over', 'two', 'thousand', 'of', 'their', 'man', 'have', 'be', 'kill', 'or', 'wound', ',', 'together', 'with', 'at', 'least', 'a', 'similar', 'number', 'of', 'turkish', 'casualty', '.'], 'pos_tags': ['DET', 'PROPN', 'AUX', 'VERB', 'NUM', 'NOUN', 'CCONJ', 'ADP', 'NUM', 'NUM', 'ADP', 'PRON', 'NOUN', 'AUX', 'AUX', 'VERB', 'CCONJ', 'VERB', 'PUNCT', 'ADV', 'ADP', 'ADP', 'ADJ', 'DET', 'ADJ', 'NOUN', 'ADP', 'ADJ', 'NOUN', 'PUNCT']}\n"
     ]
    }
   ],
   "source": [
    "print(dataset_train_en_pid[0],'\\n\\n',dataset_dev_en_pid[0])"
   ]
  },
  {
   "cell_type": "code",
   "execution_count": 29,
   "metadata": {},
   "outputs": [],
   "source": [
    "from torch.utils.data import DataLoader\n",
    "\n",
    "dataloader_train_en_pid = DataLoader(\n",
    "    dataset_train_en_pid,\n",
    "    batch_size=global_params['batch_size'],\n",
    "    collate_fn=dataset_train_en_pid.create_collate_fn(), # verbal predicates only!\n",
    "    shuffle=True,\n",
    ")\n",
    "\n",
    "dataloader_dev_en_pid = DataLoader(\n",
    "    dataset_dev_en_pid,\n",
    "    batch_size=global_params['batch_size'],\n",
    "    collate_fn=dataset_dev_en_pid.create_collate_fn(), # verbal predicates only!\n",
    "    shuffle=False,\n",
    ")"
   ]
  },
  {
   "cell_type": "code",
   "execution_count": 30,
   "metadata": {},
   "outputs": [],
   "source": [
    "for e in dataloader_dev_en_pid:\n",
    "    ex_in = e\n",
    "    break"
   ]
  },
  {
   "cell_type": "code",
   "execution_count": 31,
   "metadata": {},
   "outputs": [
    {
     "name": "stdout",
     "output_type": "stream",
     "text": [
      "['Since', '1916', 'the', 'anniversary', 'of', 'the', 'landings', 'on', '25', 'April', 'has', 'been', 'commemorated', 'as', 'Anzac', 'Day', ',', 'becoming', 'one', 'of', 'the', 'most', 'important', 'national', 'celebrations', 'in', 'Australia', 'and', 'New', 'Zealand', '.'] \n",
      " ['_', '_', '_', '_', '_', '_', 'LAND_GET-OFF', '_', '_', '_', '_', '_', 'CELEBRATE_PARTY', '_', '_', '_', '_', 'CHANGE_SWITCH', '_', '_', '_', '_', '_', '_', '_', '_', '_', '_', '_', '_', '_'] \n",
      " [0, 0, 0, 0, 0, 0, 1, 0, 0, 0, 0, 0, 1, 0, 0, 0, 0, 1, 0, 0, 0, 0, 0, 0, 0, 0, 0, 0, 0, 0, 0]\n"
     ]
    }
   ],
   "source": [
    "smpl = 1\n",
    "print(\n",
    "    ex_in['words'][smpl], '\\n', \n",
    "    ex_in['predicates'][smpl], '\\n', \n",
    "    ex_in['predicates_positions'][smpl])"
   ]
  },
  {
   "cell_type": "code",
   "execution_count": 32,
   "metadata": {},
   "outputs": [],
   "source": [
    "loss_function_pid = torch.nn.CrossEntropyLoss(ignore_index = dataset_train_en_pid.predicates_pad_id) # !"
   ]
  },
  {
   "cell_type": "code",
   "execution_count": 33,
   "metadata": {},
   "outputs": [
    {
     "name": "stderr",
     "output_type": "stream",
     "text": [
      "Some weights of the model checkpoint at xlm-roberta-base were not used when initializing XLMRobertaModel: ['lm_head.layer_norm.weight', 'lm_head.layer_norm.bias', 'lm_head.bias', 'lm_head.dense.bias', 'lm_head.dense.weight', 'lm_head.decoder.weight']\n",
      "- This IS expected if you are initializing XLMRobertaModel from the checkpoint of a model trained on another task or with another architecture (e.g. initializing a BertForSequenceClassification model from a BertForPreTraining model).\n",
      "- This IS NOT expected if you are initializing XLMRobertaModel from the checkpoint of a model that you expect to be exactly identical (initializing a BertForSequenceClassification model from a BertForSequenceClassification model).\n"
     ]
    }
   ],
   "source": [
    "from code_files.models.model_pid import ModelPID\n",
    "from code_files.utils.utils_functions import print_summary\n",
    "import torch.optim as optim\n",
    "\n",
    "model_pid = ModelPID(\n",
    "    loss_fn = loss_function_pid,\n",
    "    hparams = global_params,\n",
    "    fine_tune_transformer = True,\n",
    "    has_predicates_positions = False # it does both pred iden and disamb\n",
    ")"
   ]
  },
  {
   "cell_type": "code",
   "execution_count": 33,
   "metadata": {},
   "outputs": [],
   "source": [
    "optimizer_pid = optim.SGD(model_pid.parameters(), lr=0.0016, momentum=0.9) "
   ]
  },
  {
   "cell_type": "code",
   "execution_count": 34,
   "metadata": {},
   "outputs": [
    {
     "name": "stdout",
     "output_type": "stream",
     "text": [
      "parameters: 278,376,625\n",
      "trainable parameters: 278,376,625\n",
      "non-trainable parameters: 0\n"
     ]
    }
   ],
   "source": [
    "print_summary(model_pid, short=True)"
   ]
  },
  {
   "cell_type": "code",
   "execution_count": 36,
   "metadata": {},
   "outputs": [],
   "source": [
    "history = {}"
   ]
  },
  {
   "cell_type": "code",
   "execution_count": 37,
   "metadata": {},
   "outputs": [
    {
     "name": "stdout",
     "output_type": "stream",
     "text": [
      "Epoch   0 => avg_loss: 0.598859\n",
      "# Validation loss => 0.443899 | f1-score: pred_iden = 0.974307 pred_dis = 0.036807 #\n",
      "Epoch   1 => avg_loss: 0.480728\n",
      "# Validation loss => 0.426709 | f1-score: pred_iden = 0.967008 pred_dis = 0.060702 #\n",
      "Epoch   2 => avg_loss: 0.460709\n",
      "# Validation loss => 0.388203 | f1-score: pred_iden = 0.975223 pred_dis = 0.172881 #\n",
      "Epoch   3 => avg_loss: 0.438106\n",
      "# Validation loss => 0.310577 | f1-score: pred_iden = 0.971932 pred_dis = 0.323223 #\n",
      "Epoch   4 => avg_loss: 0.344255\n",
      "# Validation loss => 0.230077 | f1-score: pred_iden = 0.969906 pred_dis = 0.532493 #\n",
      "Epoch   5 => avg_loss: 0.282388\n",
      "# Validation loss => 0.178841 | f1-score: pred_iden = 0.979803 pred_dis = 0.624212 #\n",
      "Epoch   6 => avg_loss: 0.231131\n",
      "# Validation loss => 0.144209 | f1-score: pred_iden = 0.982354 pred_dis = 0.694810 #\n",
      "Epoch   7 => avg_loss: 0.194130\n",
      "# Validation loss => 0.118256 | f1-score: pred_iden = 0.982223 pred_dis = 0.752963 #\n",
      "Epoch   8 => avg_loss: 0.166966\n",
      "# Validation loss => 0.100992 | f1-score: pred_iden = 0.984232 pred_dis = 0.784799 #\n",
      "Epoch   9 => avg_loss: 0.147182\n",
      "# Validation loss => 0.088132 | f1-score: pred_iden = 0.984846 pred_dis = 0.806747 #\n",
      "----- Best value obtained, saving model -----\n",
      "Epoch  10 => avg_loss: 0.130626\n",
      "# Validation loss => 0.079605 | f1-score: pred_iden = 0.985731 pred_dis = 0.829172 #\n",
      "----- Best value obtained, saving model -----\n",
      "Epoch  11 => avg_loss: 0.117509\n",
      "# Validation loss => 0.070711 | f1-score: pred_iden = 0.985969 pred_dis = 0.845582 #\n",
      "----- Best value obtained, saving model -----\n",
      "Epoch  12 => avg_loss: 0.106566\n",
      "# Validation loss => 0.064907 | f1-score: pred_iden = 0.985773 pred_dis = 0.858608 #\n",
      "----- Best value obtained, saving model -----\n",
      "Epoch  13 => avg_loss: 0.097645\n",
      "# Validation loss => 0.060307 | f1-score: pred_iden = 0.985946 pred_dis = 0.867460 #\n",
      "----- Best value obtained, saving model -----\n",
      "Epoch  14 => avg_loss: 0.090399\n",
      "# Validation loss => 0.056167 | f1-score: pred_iden = 0.984640 pred_dis = 0.877200 #\n",
      "----- Best value obtained, saving model -----\n",
      "Epoch  15 => avg_loss: 0.083216\n",
      "# Validation loss => 0.052647 | f1-score: pred_iden = 0.985121 pred_dis = 0.884997 #\n",
      "----- Best value obtained, saving model -----\n",
      "Epoch  16 => avg_loss: 0.077509\n",
      "# Validation loss => 0.049622 | f1-score: pred_iden = 0.986662 pred_dis = 0.891826 #\n",
      "----- Best value obtained, saving model -----\n",
      "Epoch  17 => avg_loss: 0.072378\n",
      "# Validation loss => 0.047968 | f1-score: pred_iden = 0.986598 pred_dis = 0.896828 #\n",
      "----- Best value obtained, saving model -----\n",
      "Epoch  18 => avg_loss: 0.068196\n",
      "# Validation loss => 0.045320 | f1-score: pred_iden = 0.987047 pred_dis = 0.899555 #\n",
      "----- Best value obtained, saving model -----\n",
      "Epoch  19 => avg_loss: 0.063969\n",
      "# Validation loss => 0.044233 | f1-score: pred_iden = 0.987080 pred_dis = 0.900761 #\n",
      "----- Best value obtained, saving model -----\n",
      "Epoch  20 => avg_loss: 0.060918\n",
      "# Validation loss => 0.042293 | f1-score: pred_iden = 0.986589 pred_dis = 0.905729 #\n",
      "----- Best value obtained, saving model -----\n",
      "Epoch  21 => avg_loss: 0.057810\n",
      "# Validation loss => 0.041247 | f1-score: pred_iden = 0.986842 pred_dis = 0.907340 #\n",
      "----- Best value obtained, saving model -----\n",
      "Epoch  22 => avg_loss: 0.054938\n",
      "# Validation loss => 0.039560 | f1-score: pred_iden = 0.986832 pred_dis = 0.909726 #\n",
      "----- Best value obtained, saving model -----\n",
      "Epoch  23 => avg_loss: 0.052243\n",
      "# Validation loss => 0.038099 | f1-score: pred_iden = 0.987515 pred_dis = 0.914433 #\n",
      "----- Best value obtained, saving model -----\n",
      "Epoch  24 => avg_loss: 0.049975\n",
      "# Validation loss => 0.037392 | f1-score: pred_iden = 0.986917 pred_dis = 0.916508 #\n",
      "----- Best value obtained, saving model -----\n",
      "Epoch  25 => avg_loss: 0.047608\n",
      "# Validation loss => 0.036292 | f1-score: pred_iden = 0.987244 pred_dis = 0.918021 #\n",
      "----- Best value obtained, saving model -----\n",
      "Epoch  26 => avg_loss: 0.045665\n",
      "# Validation loss => 0.035293 | f1-score: pred_iden = 0.987256 pred_dis = 0.920669 #\n",
      "----- Best value obtained, saving model -----\n",
      "Epoch  27 => avg_loss: 0.044084\n",
      "# Validation loss => 0.034000 | f1-score: pred_iden = 0.987400 pred_dis = 0.921579 #\n",
      "----- Best value obtained, saving model -----\n",
      "Epoch  28 => avg_loss: 0.041789\n",
      "# Validation loss => 0.033803 | f1-score: pred_iden = 0.987226 pred_dis = 0.922326 #\n",
      "----- Best value obtained, saving model -----\n",
      "Epoch  29 => avg_loss: 0.040481\n",
      "# Validation loss => 0.034196 | f1-score: pred_iden = 0.987082 pred_dis = 0.922333 #\n",
      "----- Best value obtained, saving model -----\n",
      "Epoch  30 => avg_loss: 0.039009\n",
      "# Validation loss => 0.032695 | f1-score: pred_iden = 0.987447 pred_dis = 0.925399 #\n",
      "----- Best value obtained, saving model -----\n",
      "Epoch  31 => avg_loss: 0.037644\n",
      "# Validation loss => 0.032066 | f1-score: pred_iden = 0.987404 pred_dis = 0.926372 #\n",
      "----- Best value obtained, saving model -----\n",
      "Epoch  32 => avg_loss: 0.036145\n",
      "# Validation loss => 0.031403 | f1-score: pred_iden = 0.987403 pred_dis = 0.929068 #\n",
      "----- Best value obtained, saving model -----\n",
      "Epoch  33 => avg_loss: 0.035060\n",
      "# Validation loss => 0.032333 | f1-score: pred_iden = 0.987106 pred_dis = 0.928176 #\n",
      "Epoch  34 => avg_loss: 0.034055\n",
      "# Validation loss => 0.030819 | f1-score: pred_iden = 0.987741 pred_dis = 0.929816 #\n",
      "----- Best value obtained, saving model -----\n",
      "Epoch  35 => avg_loss: 0.032700\n",
      "# Validation loss => 0.030694 | f1-score: pred_iden = 0.987128 pred_dis = 0.930255 #\n",
      "----- Best value obtained, saving model -----\n",
      "Epoch  36 => avg_loss: 0.031690\n",
      "# Validation loss => 0.030897 | f1-score: pred_iden = 0.987290 pred_dis = 0.929796 #\n",
      "Epoch  37 => avg_loss: 0.030749\n",
      "# Validation loss => 0.029835 | f1-score: pred_iden = 0.987856 pred_dis = 0.932931 #\n",
      "----- Best value obtained, saving model -----\n",
      "Epoch  38 => avg_loss: 0.029443\n",
      "# Validation loss => 0.029211 | f1-score: pred_iden = 0.987723 pred_dis = 0.934483 #\n",
      "----- Best value obtained, saving model -----\n",
      "Epoch  39 => avg_loss: 0.028778\n",
      "# Validation loss => 0.029061 | f1-score: pred_iden = 0.987251 pred_dis = 0.933635 #\n",
      "Epoch  40 => avg_loss: 0.028008\n",
      "# Validation loss => 0.028955 | f1-score: pred_iden = 0.987460 pred_dis = 0.934365 #\n",
      "Epoch  41 => avg_loss: 0.027273\n",
      "# Validation loss => 0.028532 | f1-score: pred_iden = 0.987692 pred_dis = 0.935989 #\n",
      "----- Best value obtained, saving model -----\n",
      "Epoch  42 => avg_loss: 0.026349\n",
      "# Validation loss => 0.028213 | f1-score: pred_iden = 0.988364 pred_dis = 0.937294 #\n",
      "----- Best value obtained, saving model -----\n",
      "Epoch  43 => avg_loss: 0.025574\n",
      "# Validation loss => 0.028174 | f1-score: pred_iden = 0.988246 pred_dis = 0.936780 #\n",
      "Epoch  44 => avg_loss: 0.024853\n",
      "# Validation loss => 0.028547 | f1-score: pred_iden = 0.987550 pred_dis = 0.936638 #\n",
      "Epoch  45 => avg_loss: 0.024291\n",
      "# Validation loss => 0.027936 | f1-score: pred_iden = 0.988175 pred_dis = 0.938651 #\n",
      "----- Best value obtained, saving model -----\n",
      "Epoch  46 => avg_loss: 0.023436\n",
      "# Validation loss => 0.028681 | f1-score: pred_iden = 0.986543 pred_dis = 0.936278 #\n",
      "Epoch  47 => avg_loss: 0.022899\n",
      "# Validation loss => 0.027715 | f1-score: pred_iden = 0.987828 pred_dis = 0.938663 #\n",
      "----- Best value obtained, saving model -----\n",
      "Epoch  48 => avg_loss: 0.022176\n",
      "# Validation loss => 0.028084 | f1-score: pred_iden = 0.987910 pred_dis = 0.938994 #\n",
      "----- Best value obtained, saving model -----\n",
      "Epoch  49 => avg_loss: 0.021620\n",
      "# Validation loss => 0.027606 | f1-score: pred_iden = 0.988700 pred_dis = 0.940554 #\n",
      "----- Best value obtained, saving model -----\n",
      "Epoch  50 => avg_loss: 0.021283\n",
      "# Validation loss => 0.027158 | f1-score: pred_iden = 0.987710 pred_dis = 0.941009 #\n",
      "----- Best value obtained, saving model -----\n",
      "Epoch  51 => avg_loss: 0.020459\n",
      "# Validation loss => 0.027204 | f1-score: pred_iden = 0.988058 pred_dis = 0.941242 #\n",
      "----- Best value obtained, saving model -----\n",
      "Epoch  52 => avg_loss: 0.019995\n",
      "# Validation loss => 0.027752 | f1-score: pred_iden = 0.988028 pred_dis = 0.941172 #\n",
      "Epoch  53 => avg_loss: 0.019433\n",
      "# Validation loss => 0.027558 | f1-score: pred_iden = 0.987988 pred_dis = 0.942319 #\n",
      "----- Best value obtained, saving model -----\n",
      "Epoch  54 => avg_loss: 0.019264\n",
      "# Validation loss => 0.027010 | f1-score: pred_iden = 0.988033 pred_dis = 0.941438 #\n",
      "Epoch  55 => avg_loss: 0.018892\n",
      "# Validation loss => 0.026467 | f1-score: pred_iden = 0.987916 pred_dis = 0.942444 #\n",
      "----- Best value obtained, saving model -----\n",
      "Epoch  56 => avg_loss: 0.018217\n",
      "# Validation loss => 0.027753 | f1-score: pred_iden = 0.987795 pred_dis = 0.941116 #\n",
      "Epoch  57 => avg_loss: 0.018106\n",
      "# Validation loss => 0.026699 | f1-score: pred_iden = 0.987726 pred_dis = 0.942840 #\n",
      "----- Best value obtained, saving model -----\n",
      "Epoch  58 => avg_loss: 0.017614\n",
      "# Validation loss => 0.027445 | f1-score: pred_iden = 0.987760 pred_dis = 0.943712 #\n",
      "----- Best value obtained, saving model -----\n",
      "Epoch  59 => avg_loss: 0.016896\n",
      "# Validation loss => 0.027164 | f1-score: pred_iden = 0.987598 pred_dis = 0.942822 #\n",
      "Epoch  60 => avg_loss: 0.016541\n",
      "# Validation loss => 0.026805 | f1-score: pred_iden = 0.987850 pred_dis = 0.943619 #\n",
      "Epoch  61 => avg_loss: 0.016214\n",
      "# Validation loss => 0.026788 | f1-score: pred_iden = 0.987897 pred_dis = 0.944645 #\n",
      "----- Best value obtained, saving model -----\n",
      "Epoch  62 => avg_loss: 0.015914\n",
      "# Validation loss => 0.026920 | f1-score: pred_iden = 0.987902 pred_dis = 0.943715 #\n",
      "Epoch  63 => avg_loss: 0.015507\n",
      "# Validation loss => 0.027864 | f1-score: pred_iden = 0.987454 pred_dis = 0.942573 #\n",
      "Epoch  64 => avg_loss: 0.015014\n",
      "# Validation loss => 0.026969 | f1-score: pred_iden = 0.987629 pred_dis = 0.943695 #\n",
      "Epoch  65 => avg_loss: 0.014641\n",
      "# Validation loss => 0.027199 | f1-score: pred_iden = 0.987937 pred_dis = 0.943973 #\n",
      "Epoch  66 => avg_loss: 0.014424\n",
      "# Validation loss => 0.027171 | f1-score: pred_iden = 0.987546 pred_dis = 0.944392 #\n",
      "Epoch  67 => avg_loss: 0.014291\n",
      "# Validation loss => 0.026607 | f1-score: pred_iden = 0.988032 pred_dis = 0.944217 #\n",
      "Epoch  68 => avg_loss: 0.013756\n",
      "# Validation loss => 0.026806 | f1-score: pred_iden = 0.987891 pred_dis = 0.944297 #\n",
      "Epoch  69 => avg_loss: 0.013703\n",
      "# Validation loss => 0.027348 | f1-score: pred_iden = 0.987517 pred_dis = 0.944561 #\n",
      "Epoch  70 => avg_loss: 0.013317\n",
      "# Validation loss => 0.027106 | f1-score: pred_iden = 0.987547 pred_dis = 0.944634 #\n",
      "Epoch  71 => avg_loss: 0.013104\n",
      "# Validation loss => 0.026833 | f1-score: pred_iden = 0.987477 pred_dis = 0.944539 #\n",
      "Epoch  72 => avg_loss: 0.012727\n",
      "# Validation loss => 0.026829 | f1-score: pred_iden = 0.987933 pred_dis = 0.945776 #\n",
      "----- Best value obtained, saving model -----\n",
      "Epoch  73 => avg_loss: 0.012433\n",
      "# Validation loss => 0.027634 | f1-score: pred_iden = 0.988133 pred_dis = 0.945426 #\n",
      "Epoch  74 => avg_loss: 0.012198\n",
      "# Validation loss => 0.028269 | f1-score: pred_iden = 0.987605 pred_dis = 0.945234 #\n",
      "Epoch  75 => avg_loss: 0.012065\n",
      "# Validation loss => 0.026650 | f1-score: pred_iden = 0.988081 pred_dis = 0.946444 #\n",
      "----- Best value obtained, saving model -----\n",
      "Epoch  76 => avg_loss: 0.011971\n",
      "# Validation loss => 0.027696 | f1-score: pred_iden = 0.987644 pred_dis = 0.945822 #\n",
      "Epoch  77 => avg_loss: 0.011528\n",
      "# Validation loss => 0.027001 | f1-score: pred_iden = 0.988143 pred_dis = 0.946602 #\n",
      "----- Best value obtained, saving model -----\n",
      "Epoch  78 => avg_loss: 0.011383\n",
      "# Validation loss => 0.027410 | f1-score: pred_iden = 0.987383 pred_dis = 0.946913 #\n",
      "----- Best value obtained, saving model -----\n",
      "Epoch  79 => avg_loss: 0.011203\n",
      "# Validation loss => 0.027095 | f1-score: pred_iden = 0.987908 pred_dis = 0.947414 #\n",
      "----- Best value obtained, saving model -----\n",
      "Epoch  80 => avg_loss: 0.011005\n",
      "# Validation loss => 0.027371 | f1-score: pred_iden = 0.987788 pred_dis = 0.946951 #\n",
      "Epoch  81 => avg_loss: 0.010766\n",
      "# Validation loss => 0.026850 | f1-score: pred_iden = 0.987701 pred_dis = 0.947393 #\n",
      "Epoch  82 => avg_loss: 0.010684\n",
      "# Validation loss => 0.027064 | f1-score: pred_iden = 0.987789 pred_dis = 0.947748 #\n",
      "----- Best value obtained, saving model -----\n",
      "Epoch  83 => avg_loss: 0.010252\n",
      "# Validation loss => 0.027091 | f1-score: pred_iden = 0.987474 pred_dis = 0.946594 #\n",
      "Epoch  84 => avg_loss: 0.010317\n",
      "# Validation loss => 0.026642 | f1-score: pred_iden = 0.987965 pred_dis = 0.947452 #\n",
      "Epoch  85 => avg_loss: 0.010011\n",
      "# Validation loss => 0.027045 | f1-score: pred_iden = 0.987665 pred_dis = 0.946734 #\n",
      "Epoch  86 => avg_loss: 0.009926\n",
      "# Validation loss => 0.027885 | f1-score: pred_iden = 0.987605 pred_dis = 0.947214 #\n",
      "Epoch  87 => avg_loss: 0.009630\n",
      "# Validation loss => 0.027030 | f1-score: pred_iden = 0.988000 pred_dis = 0.948343 #\n",
      "----- Best value obtained, saving model -----\n",
      "Epoch  88 => avg_loss: 0.009413\n",
      "# Validation loss => 0.027150 | f1-score: pred_iden = 0.988035 pred_dis = 0.948364 #\n",
      "----- Best value obtained, saving model -----\n",
      "Epoch  89 => avg_loss: 0.009209\n",
      "# Validation loss => 0.027357 | f1-score: pred_iden = 0.988099 pred_dis = 0.947636 #\n",
      "Epoch  90 => avg_loss: 0.009194\n",
      "# Validation loss => 0.027834 | f1-score: pred_iden = 0.987557 pred_dis = 0.946584 #\n",
      "Epoch  91 => avg_loss: 0.009088\n",
      "# Validation loss => 0.027081 | f1-score: pred_iden = 0.988165 pred_dis = 0.947975 #\n",
      "Epoch  92 => avg_loss: 0.008879\n",
      "# Validation loss => 0.028013 | f1-score: pred_iden = 0.987707 pred_dis = 0.947260 #\n",
      "Epoch  93 => avg_loss: 0.008804\n",
      "# Validation loss => 0.027265 | f1-score: pred_iden = 0.987894 pred_dis = 0.948760 #\n",
      "----- Best value obtained, saving model -----\n",
      "Epoch  94 => avg_loss: 0.008286\n",
      "# Validation loss => 0.027216 | f1-score: pred_iden = 0.988438 pred_dis = 0.947594 #\n",
      "Epoch  95 => avg_loss: 0.008290\n",
      "# Validation loss => 0.027567 | f1-score: pred_iden = 0.987663 pred_dis = 0.947836 #\n",
      "Epoch  96 => avg_loss: 0.008231\n",
      "# Validation loss => 0.028064 | f1-score: pred_iden = 0.987982 pred_dis = 0.948241 #\n",
      "Epoch  97 => avg_loss: 0.008183\n",
      "# Validation loss => 0.027287 | f1-score: pred_iden = 0.987822 pred_dis = 0.947915 #\n",
      "Epoch  98 => avg_loss: 0.007999\n",
      "# Validation loss => 0.027307 | f1-score: pred_iden = 0.987713 pred_dis = 0.947919 #\n",
      "Epoch  99 => avg_loss: 0.007732\n",
      "# Validation loss => 0.027279 | f1-score: pred_iden = 0.987857 pred_dis = 0.948095 #\n"
     ]
    }
   ],
   "source": [
    "from code_files.utils.Trainer_pid import Trainer_pid\n",
    "\n",
    "trainer_pid = Trainer_pid()\n",
    "\n",
    "history = trainer_pid.train(\n",
    "    model_pid, optimizer_pid, dataloader_train_en_pid, dataloader_dev_en_pid,\n",
    "    epochs=100, device=device,\n",
    "    save_best=True, \n",
    "    min_score=0.8,\n",
    "    save_path_name=os.path.join(model_dir_path, f'pid_transformer_nounited{split_type}.pth'),\n",
    "    saved_history=history\n",
    ")"
   ]
  },
  {
   "cell_type": "code",
   "execution_count": 38,
   "metadata": {},
   "outputs": [
    {
     "data": {
      "image/png": "[encoded data removed]",
      "text/plain": [
       "<Figure size 800x800 with 1 Axes>"
      ]
     },
     "metadata": {},
     "output_type": "display_data"
    }
   ],
   "source": [
    "trainer_pid.display_history(history)"
   ]
  },
  {
   "cell_type": "code",
   "execution_count": 46,
   "metadata": {},
   "outputs": [
    {
     "name": "stdout",
     "output_type": "stream",
     "text": [
      "['The', 'anniversary', 'is', 'also', 'commemorated', 'in', 'Turkey', 'and', 'the', 'United', 'Kingdom', '.']\n",
      "['_', '_', '_', '_', 'CELEBRATE_PARTY', '_', '_', '_', '_', '_', '_', '_']\n"
     ]
    }
   ],
   "source": [
    "ssmpl = 2\n",
    "print(dataset_dev_en_pid.data[ssmpl]['words'])\n",
    "print(dataset_dev_en_pid.data[ssmpl]['predicates'])"
   ]
  },
  {
   "cell_type": "code",
   "execution_count": 47,
   "metadata": {},
   "outputs": [
    {
     "name": "stdout",
     "output_type": "stream",
     "text": [
      "['_', '_', '_', '_', 'CELEBRATE_PARTY', '_', '_', '_', '_', '_', '_', '_']\n"
     ]
    }
   ],
   "source": [
    "print(model_pid.predict([dataset_dev_en_pid.data[ssmpl]['words']])[0])"
   ]
  },
  {
   "attachments": {},
   "cell_type": "markdown",
   "metadata": {},
   "source": [
    "## Training the Predicate Identification and Disambiguation model with also the nominal part"
   ]
  },
  {
   "cell_type": "code",
   "execution_count": 7,
   "metadata": {},
   "outputs": [],
   "source": [
    "split_type = ''"
   ]
  },
  {
   "cell_type": "code",
   "execution_count": 8,
   "metadata": {},
   "outputs": [],
   "source": [
    "dataset_train_en_pid = DatasetNoUniteD(  srl_dataset_dict_paths['EN']['train'], split_predicates=False, split_type_to_use = split_type )\n",
    "dataset_dev_en_pid = DatasetNoUniteD(  srl_dataset_dict_paths['EN']['dev'], split_predicates=False, split_type_to_use = split_type )"
   ]
  },
  {
   "cell_type": "code",
   "execution_count": 10,
   "metadata": {},
   "outputs": [],
   "source": [
    "from torch.utils.data import DataLoader\n",
    "\n",
    "dataloader_train_en_pid = DataLoader(\n",
    "    dataset_train_en_pid,\n",
    "    batch_size=global_params['batch_size'],\n",
    "    collate_fn=dataset_train_en_pid.create_collate_fn(), \n",
    "    shuffle=True,\n",
    ")\n",
    "\n",
    "dataloader_dev_en_pid = DataLoader(\n",
    "    dataset_dev_en_pid,\n",
    "    batch_size=global_params['batch_size'],\n",
    "    collate_fn=dataset_dev_en_pid.create_collate_fn(),\n",
    "    shuffle=False,\n",
    ")"
   ]
  },
  {
   "cell_type": "code",
   "execution_count": 11,
   "metadata": {},
   "outputs": [],
   "source": [
    "for e in dataloader_dev_en_pid:\n",
    "    ex_in = e\n",
    "    break"
   ]
  },
  {
   "cell_type": "code",
   "execution_count": 12,
   "metadata": {},
   "outputs": [
    {
     "name": "stdout",
     "output_type": "stream",
     "text": [
      "['Since', '1916', 'the', 'anniversary', 'of', 'the', 'landings', 'on', '25', 'April', 'has', 'been', 'commemorated', 'as', 'Anzac', 'Day', ',', 'becoming', 'one', 'of', 'the', 'most', 'important', 'national', 'celebrations', 'in', 'Australia', 'and', 'New', 'Zealand', '.'] \n",
      " ['_', '_', '_', '_', '_', '_', 'LAND_GET-OFF', '_', '_', '_', '_', '_', 'CELEBRATE_PARTY', '_', '_', '_', '_', 'CHANGE_SWITCH', '_', '_', '_', '_', '_', '_', '_', '_', '_', '_', '_', '_', '_'] \n",
      " [0, 0, 0, 0, 0, 0, 1, 0, 0, 0, 0, 0, 1, 0, 0, 0, 0, 1, 0, 0, 0, 0, 0, 0, 0, 0, 0, 0, 0, 0, 0]\n"
     ]
    }
   ],
   "source": [
    "smpl = 1\n",
    "print(\n",
    "    ex_in['words'][smpl], '\\n', \n",
    "    ex_in['predicates'][smpl], '\\n', \n",
    "    ex_in['predicates_positions'][smpl])"
   ]
  },
  {
   "cell_type": "code",
   "execution_count": 18,
   "metadata": {},
   "outputs": [],
   "source": [
    "loss_function_pid = torch.nn.CrossEntropyLoss(ignore_index = dataset_train_en_pid.predicates_pad_id) # !"
   ]
  },
  {
   "cell_type": "code",
   "execution_count": 19,
   "metadata": {},
   "outputs": [
    {
     "name": "stderr",
     "output_type": "stream",
     "text": [
      "Some weights of the model checkpoint at xlm-roberta-base were not used when initializing XLMRobertaModel: ['lm_head.dense.weight', 'lm_head.dense.bias', 'lm_head.bias', 'lm_head.decoder.weight', 'lm_head.layer_norm.weight', 'lm_head.layer_norm.bias']\n",
      "- This IS expected if you are initializing XLMRobertaModel from the checkpoint of a model trained on another task or with another architecture (e.g. initializing a BertForSequenceClassification model from a BertForPreTraining model).\n",
      "- This IS NOT expected if you are initializing XLMRobertaModel from the checkpoint of a model that you expect to be exactly identical (initializing a BertForSequenceClassification model from a BertForSequenceClassification model).\n"
     ]
    }
   ],
   "source": [
    "from code_files.models.model_pid import ModelPID\n",
    "from code_files.utils.utils_functions import print_summary\n",
    "import torch.optim as optim\n",
    "\n",
    "model_pid = ModelPID(\n",
    "    loss_fn = loss_function_pid,\n",
    "    hparams = global_params,\n",
    "    fine_tune_transformer = True,\n",
    "    has_predicates_positions = False # it does both pred iden and disamb\n",
    ")"
   ]
  },
  {
   "cell_type": "code",
   "execution_count": 20,
   "metadata": {},
   "outputs": [],
   "source": [
    "optimizer_pid = optim.SGD(model_pid.parameters(), lr=0.0016, momentum=0.9) "
   ]
  },
  {
   "cell_type": "code",
   "execution_count": 21,
   "metadata": {},
   "outputs": [
    {
     "name": "stdout",
     "output_type": "stream",
     "text": [
      "parameters: 278,376,625\n",
      "trainable parameters: 278,376,625\n",
      "non-trainable parameters: 0\n"
     ]
    }
   ],
   "source": [
    "print_summary(model_pid, short=True)"
   ]
  },
  {
   "cell_type": "code",
   "execution_count": 22,
   "metadata": {},
   "outputs": [],
   "source": [
    "history = {}"
   ]
  },
  {
   "cell_type": "code",
   "execution_count": 23,
   "metadata": {},
   "outputs": [
    {
     "name": "stdout",
     "output_type": "stream",
     "text": [
      "Epoch   0 => avg_loss: 0.759375\n",
      "# Validation loss => 0.571378 | f1-score: pred_iden = 0.834179 pred_dis = 0.041878 #\n",
      "Epoch   1 => avg_loss: 0.586060\n",
      "# Validation loss => 0.464013 | f1-score: pred_iden = 0.927856 pred_dis = 0.214377 #\n",
      "Epoch   2 => avg_loss: 0.465709\n",
      "# Validation loss => 0.307987 | f1-score: pred_iden = 0.921221 pred_dis = 0.556011 #\n",
      "Epoch   3 => avg_loss: 0.353822\n",
      "# Validation loss => 0.223206 | f1-score: pred_iden = 0.946084 pred_dis = 0.675380 #\n",
      "Epoch   4 => avg_loss: 0.280915\n",
      "# Validation loss => 0.175970 | f1-score: pred_iden = 0.954865 pred_dis = 0.741597 #\n",
      "Epoch   5 => avg_loss: 0.233377\n",
      "# Validation loss => 0.145834 | f1-score: pred_iden = 0.958740 pred_dis = 0.778079 #\n",
      "Epoch   6 => avg_loss: 0.201439\n",
      "# Validation loss => 0.125462 | f1-score: pred_iden = 0.958947 pred_dis = 0.809630 #\n",
      "----- Best value obtained, saving model -----\n",
      "Epoch   7 => avg_loss: 0.177146\n",
      "# Validation loss => 0.112027 | f1-score: pred_iden = 0.960949 pred_dis = 0.822222 #\n",
      "----- Best value obtained, saving model -----\n",
      "Epoch   8 => avg_loss: 0.158638\n",
      "# Validation loss => 0.101000 | f1-score: pred_iden = 0.962303 pred_dis = 0.839105 #\n",
      "----- Best value obtained, saving model -----\n",
      "Epoch   9 => avg_loss: 0.143818\n",
      "# Validation loss => 0.092218 | f1-score: pred_iden = 0.965304 pred_dis = 0.853111 #\n",
      "----- Best value obtained, saving model -----\n",
      "Epoch  10 => avg_loss: 0.131508\n",
      "# Validation loss => 0.085678 | f1-score: pred_iden = 0.965556 pred_dis = 0.866170 #\n",
      "----- Best value obtained, saving model -----\n",
      "Epoch  11 => avg_loss: 0.121324\n",
      "# Validation loss => 0.080372 | f1-score: pred_iden = 0.967048 pred_dis = 0.872069 #\n",
      "----- Best value obtained, saving model -----\n",
      "Epoch  12 => avg_loss: 0.113408\n",
      "# Validation loss => 0.075736 | f1-score: pred_iden = 0.967203 pred_dis = 0.880372 #\n",
      "----- Best value obtained, saving model -----\n",
      "Epoch  13 => avg_loss: 0.106299\n",
      "# Validation loss => 0.072016 | f1-score: pred_iden = 0.968040 pred_dis = 0.885069 #\n",
      "----- Best value obtained, saving model -----\n",
      "Epoch  14 => avg_loss: 0.099798\n",
      "# Validation loss => 0.070462 | f1-score: pred_iden = 0.968563 pred_dis = 0.887654 #\n",
      "----- Best value obtained, saving model -----\n",
      "Epoch  15 => avg_loss: 0.094070\n",
      "# Validation loss => 0.065441 | f1-score: pred_iden = 0.970045 pred_dis = 0.893535 #\n",
      "----- Best value obtained, saving model -----\n",
      "Epoch  16 => avg_loss: 0.088764\n",
      "# Validation loss => 0.063833 | f1-score: pred_iden = 0.970021 pred_dis = 0.898133 #\n",
      "----- Best value obtained, saving model -----\n",
      "Epoch  17 => avg_loss: 0.084867\n",
      "# Validation loss => 0.062222 | f1-score: pred_iden = 0.969245 pred_dis = 0.897389 #\n",
      "Epoch  18 => avg_loss: 0.080717\n",
      "# Validation loss => 0.059640 | f1-score: pred_iden = 0.971638 pred_dis = 0.905098 #\n",
      "----- Best value obtained, saving model -----\n",
      "Epoch  19 => avg_loss: 0.077151\n",
      "# Validation loss => 0.058349 | f1-score: pred_iden = 0.972071 pred_dis = 0.907681 #\n",
      "----- Best value obtained, saving model -----\n",
      "Epoch  20 => avg_loss: 0.073216\n",
      "# Validation loss => 0.057685 | f1-score: pred_iden = 0.970416 pred_dis = 0.908097 #\n",
      "----- Best value obtained, saving model -----\n",
      "Epoch  21 => avg_loss: 0.070603\n",
      "# Validation loss => 0.055581 | f1-score: pred_iden = 0.971918 pred_dis = 0.913085 #\n",
      "----- Best value obtained, saving model -----\n",
      "Epoch  22 => avg_loss: 0.067863\n",
      "# Validation loss => 0.054543 | f1-score: pred_iden = 0.971821 pred_dis = 0.914027 #\n",
      "----- Best value obtained, saving model -----\n",
      "Epoch  23 => avg_loss: 0.065267\n",
      "# Validation loss => 0.053158 | f1-score: pred_iden = 0.972791 pred_dis = 0.914892 #\n",
      "----- Best value obtained, saving model -----\n",
      "Epoch  24 => avg_loss: 0.062462\n",
      "# Validation loss => 0.052103 | f1-score: pred_iden = 0.972315 pred_dis = 0.917443 #\n",
      "----- Best value obtained, saving model -----\n",
      "Epoch  25 => avg_loss: 0.060498\n",
      "# Validation loss => 0.051457 | f1-score: pred_iden = 0.972637 pred_dis = 0.919160 #\n",
      "----- Best value obtained, saving model -----\n",
      "Epoch  26 => avg_loss: 0.058218\n",
      "# Validation loss => 0.049913 | f1-score: pred_iden = 0.973163 pred_dis = 0.920548 #\n",
      "----- Best value obtained, saving model -----\n",
      "Epoch  27 => avg_loss: 0.056155\n",
      "# Validation loss => 0.049657 | f1-score: pred_iden = 0.973015 pred_dis = 0.921216 #\n",
      "----- Best value obtained, saving model -----\n",
      "Epoch  28 => avg_loss: 0.054366\n",
      "# Validation loss => 0.049270 | f1-score: pred_iden = 0.972274 pred_dis = 0.921391 #\n",
      "----- Best value obtained, saving model -----\n",
      "Epoch  29 => avg_loss: 0.052722\n",
      "# Validation loss => 0.049338 | f1-score: pred_iden = 0.972580 pred_dis = 0.921391 #\n",
      "----- Best value obtained, saving model -----\n",
      "Epoch  30 => avg_loss: 0.051145\n",
      "# Validation loss => 0.047546 | f1-score: pred_iden = 0.972923 pred_dis = 0.924426 #\n",
      "----- Best value obtained, saving model -----\n",
      "Epoch  31 => avg_loss: 0.049246\n",
      "# Validation loss => 0.047137 | f1-score: pred_iden = 0.973809 pred_dis = 0.924661 #\n",
      "----- Best value obtained, saving model -----\n",
      "Epoch  32 => avg_loss: 0.047482\n",
      "# Validation loss => 0.047016 | f1-score: pred_iden = 0.973590 pred_dis = 0.925728 #\n",
      "----- Best value obtained, saving model -----\n",
      "Epoch  33 => avg_loss: 0.047672\n",
      "# Validation loss => 0.046740 | f1-score: pred_iden = 0.972926 pred_dis = 0.925283 #\n",
      "Epoch  34 => avg_loss: 0.045776\n",
      "# Validation loss => 0.047010 | f1-score: pred_iden = 0.973359 pred_dis = 0.926155 #\n",
      "----- Best value obtained, saving model -----\n",
      "Epoch  35 => avg_loss: 0.043757\n",
      "# Validation loss => 0.046136 | f1-score: pred_iden = 0.973797 pred_dis = 0.927208 #\n",
      "----- Best value obtained, saving model -----\n",
      "Epoch  36 => avg_loss: 0.042535\n",
      "# Validation loss => 0.045759 | f1-score: pred_iden = 0.973895 pred_dis = 0.928336 #\n",
      "----- Best value obtained, saving model -----\n",
      "Epoch  37 => avg_loss: 0.041136\n",
      "# Validation loss => 0.046477 | f1-score: pred_iden = 0.973215 pred_dis = 0.927307 #\n",
      "Epoch  38 => avg_loss: 0.040153\n",
      "# Validation loss => 0.045652 | f1-score: pred_iden = 0.973575 pred_dis = 0.928337 #\n",
      "----- Best value obtained, saving model -----\n",
      "Epoch  39 => avg_loss: 0.039247\n",
      "# Validation loss => 0.045142 | f1-score: pred_iden = 0.973285 pred_dis = 0.928071 #\n",
      "Epoch  40 => avg_loss: 0.037862\n",
      "# Validation loss => 0.044276 | f1-score: pred_iden = 0.973647 pred_dis = 0.929517 #\n",
      "----- Best value obtained, saving model -----\n",
      "Epoch  41 => avg_loss: 0.036724\n",
      "# Validation loss => 0.044477 | f1-score: pred_iden = 0.973821 pred_dis = 0.929785 #\n",
      "----- Best value obtained, saving model -----\n",
      "Epoch  42 => avg_loss: 0.035536\n",
      "# Validation loss => 0.044910 | f1-score: pred_iden = 0.973893 pred_dis = 0.929535 #\n",
      "Epoch  43 => avg_loss: 0.034925\n",
      "# Validation loss => 0.045308 | f1-score: pred_iden = 0.973765 pred_dis = 0.929472 #\n",
      "Epoch  44 => avg_loss: 0.034009\n",
      "# Validation loss => 0.044113 | f1-score: pred_iden = 0.974205 pred_dis = 0.931533 #\n",
      "----- Best value obtained, saving model -----\n",
      "Epoch  45 => avg_loss: 0.033007\n",
      "# Validation loss => 0.045120 | f1-score: pred_iden = 0.973990 pred_dis = 0.930248 #\n",
      "Epoch  46 => avg_loss: 0.032320\n",
      "# Validation loss => 0.043667 | f1-score: pred_iden = 0.974569 pred_dis = 0.932650 #\n",
      "----- Best value obtained, saving model -----\n",
      "Epoch  47 => avg_loss: 0.031591\n",
      "# Validation loss => 0.044249 | f1-score: pred_iden = 0.974178 pred_dis = 0.931844 #\n",
      "Epoch  48 => avg_loss: 0.030715\n",
      "# Validation loss => 0.044596 | f1-score: pred_iden = 0.974771 pred_dis = 0.931813 #\n",
      "Epoch  49 => avg_loss: 0.030015\n",
      "# Validation loss => 0.044931 | f1-score: pred_iden = 0.974043 pred_dis = 0.933570 #\n",
      "----- Best value obtained, saving model -----\n",
      "Epoch  50 => avg_loss: 0.029366\n",
      "# Validation loss => 0.045365 | f1-score: pred_iden = 0.974111 pred_dis = 0.932380 #\n",
      "Epoch  51 => avg_loss: 0.028231\n",
      "# Validation loss => 0.045655 | f1-score: pred_iden = 0.974167 pred_dis = 0.932598 #\n",
      "Epoch  52 => avg_loss: 0.027597\n",
      "# Validation loss => 0.044338 | f1-score: pred_iden = 0.973669 pred_dis = 0.932269 #\n",
      "Epoch  53 => avg_loss: 0.027187\n",
      "# Validation loss => 0.044646 | f1-score: pred_iden = 0.974460 pred_dis = 0.933770 #\n",
      "----- Best value obtained, saving model -----\n",
      "Epoch  54 => avg_loss: 0.026827\n",
      "# Validation loss => 0.044614 | f1-score: pred_iden = 0.974893 pred_dis = 0.934598 #\n",
      "----- Best value obtained, saving model -----\n",
      "Epoch  55 => avg_loss: 0.025831\n",
      "# Validation loss => 0.044375 | f1-score: pred_iden = 0.974525 pred_dis = 0.933408 #\n",
      "Epoch  56 => avg_loss: 0.025131\n",
      "# Validation loss => 0.045123 | f1-score: pred_iden = 0.974510 pred_dis = 0.935113 #\n",
      "----- Best value obtained, saving model -----\n",
      "Epoch  57 => avg_loss: 0.024719\n",
      "# Validation loss => 0.045098 | f1-score: pred_iden = 0.973918 pred_dis = 0.934036 #\n",
      "Epoch  58 => avg_loss: 0.023973\n",
      "# Validation loss => 0.045232 | f1-score: pred_iden = 0.973776 pred_dis = 0.933540 #\n",
      "Epoch  59 => avg_loss: 0.024145\n",
      "# Validation loss => 0.044530 | f1-score: pred_iden = 0.974766 pred_dis = 0.933673 #\n",
      "Epoch  60 => avg_loss: 0.023430\n",
      "# Validation loss => 0.045076 | f1-score: pred_iden = 0.974318 pred_dis = 0.935301 #\n",
      "----- Best value obtained, saving model -----\n",
      "Epoch  61 => avg_loss: 0.022736\n",
      "# Validation loss => 0.044084 | f1-score: pred_iden = 0.974986 pred_dis = 0.935484 #\n",
      "----- Best value obtained, saving model -----\n",
      "Epoch  62 => avg_loss: 0.025520\n",
      "# Validation loss => 0.043752 | f1-score: pred_iden = 0.973832 pred_dis = 0.934674 #\n",
      "Epoch  63 => avg_loss: 0.023917\n",
      "# Validation loss => 0.043931 | f1-score: pred_iden = 0.974588 pred_dis = 0.935617 #\n",
      "----- Best value obtained, saving model -----\n",
      "Epoch  64 => avg_loss: 0.022154\n",
      "# Validation loss => 0.045321 | f1-score: pred_iden = 0.974205 pred_dis = 0.935311 #\n",
      "Epoch  65 => avg_loss: 0.021261\n",
      "# Validation loss => 0.044672 | f1-score: pred_iden = 0.974781 pred_dis = 0.936580 #\n",
      "----- Best value obtained, saving model -----\n",
      "Epoch  66 => avg_loss: 0.020721\n",
      "# Validation loss => 0.045079 | f1-score: pred_iden = 0.974541 pred_dis = 0.936740 #\n",
      "----- Best value obtained, saving model -----\n",
      "Epoch  67 => avg_loss: 0.019954\n",
      "# Validation loss => 0.044495 | f1-score: pred_iden = 0.974987 pred_dis = 0.937978 #\n",
      "----- Best value obtained, saving model -----\n",
      "Epoch  68 => avg_loss: 0.019959\n",
      "# Validation loss => 0.046378 | f1-score: pred_iden = 0.974394 pred_dis = 0.936248 #\n",
      "Epoch  69 => avg_loss: 0.019512\n",
      "# Validation loss => 0.046276 | f1-score: pred_iden = 0.974087 pred_dis = 0.936801 #\n",
      "Epoch  70 => avg_loss: 0.018676\n",
      "# Validation loss => 0.045958 | f1-score: pred_iden = 0.974351 pred_dis = 0.936716 #\n",
      "Epoch  71 => avg_loss: 0.018524\n",
      "# Validation loss => 0.045558 | f1-score: pred_iden = 0.974521 pred_dis = 0.937202 #\n",
      "Epoch  72 => avg_loss: 0.017872\n",
      "# Validation loss => 0.045859 | f1-score: pred_iden = 0.975064 pred_dis = 0.939024 #\n",
      "----- Best value obtained, saving model -----\n",
      "Epoch  73 => avg_loss: 0.017529\n",
      "# Validation loss => 0.046291 | f1-score: pred_iden = 0.974608 pred_dis = 0.936999 #\n",
      "Epoch  74 => avg_loss: 0.017493\n",
      "# Validation loss => 0.045197 | f1-score: pred_iden = 0.975236 pred_dis = 0.938679 #\n",
      "Epoch  75 => avg_loss: 0.016929\n",
      "# Validation loss => 0.045712 | f1-score: pred_iden = 0.975047 pred_dis = 0.937510 #\n",
      "Epoch  76 => avg_loss: 0.016405\n",
      "# Validation loss => 0.045834 | f1-score: pred_iden = 0.975330 pred_dis = 0.938077 #\n",
      "Epoch  77 => avg_loss: 0.016173\n",
      "# Validation loss => 0.045940 | f1-score: pred_iden = 0.974423 pred_dis = 0.937839 #\n",
      "Epoch  78 => avg_loss: 0.015816\n",
      "# Validation loss => 0.046169 | f1-score: pred_iden = 0.974537 pred_dis = 0.938770 #\n",
      "Epoch  79 => avg_loss: 0.015374\n",
      "# Validation loss => 0.046502 | f1-score: pred_iden = 0.975024 pred_dis = 0.939742 #\n",
      "----- Best value obtained, saving model -----\n",
      "Epoch  80 => avg_loss: 0.015269\n",
      "# Validation loss => 0.046767 | f1-score: pred_iden = 0.974968 pred_dis = 0.939421 #\n",
      "Epoch  81 => avg_loss: 0.014647\n",
      "# Validation loss => 0.047282 | f1-score: pred_iden = 0.974752 pred_dis = 0.939233 #\n",
      "Epoch  82 => avg_loss: 0.014802\n",
      "# Validation loss => 0.047595 | f1-score: pred_iden = 0.974579 pred_dis = 0.938625 #\n",
      "Epoch  83 => avg_loss: 0.014435\n",
      "# Validation loss => 0.046376 | f1-score: pred_iden = 0.974878 pred_dis = 0.939070 #\n",
      "Epoch  84 => avg_loss: 0.014107\n",
      "# Validation loss => 0.047359 | f1-score: pred_iden = 0.975179 pred_dis = 0.938908 #\n",
      "Epoch  85 => avg_loss: 0.013760\n",
      "# Validation loss => 0.046913 | f1-score: pred_iden = 0.975217 pred_dis = 0.939761 #\n",
      "----- Best value obtained, saving model -----\n",
      "Epoch  86 => avg_loss: 0.013612\n",
      "# Validation loss => 0.048461 | f1-score: pred_iden = 0.974242 pred_dis = 0.939423 #\n",
      "Epoch  87 => avg_loss: 0.013397\n",
      "# Validation loss => 0.047367 | f1-score: pred_iden = 0.974269 pred_dis = 0.939135 #\n",
      "Epoch  88 => avg_loss: 0.012970\n",
      "# Validation loss => 0.047041 | f1-score: pred_iden = 0.975205 pred_dis = 0.940343 #\n",
      "----- Best value obtained, saving model -----\n",
      "Epoch  89 => avg_loss: 0.012753\n",
      "# Validation loss => 0.048365 | f1-score: pred_iden = 0.974895 pred_dis = 0.939209 #\n",
      "Epoch  90 => avg_loss: 0.012350\n",
      "# Validation loss => 0.048082 | f1-score: pred_iden = 0.974695 pred_dis = 0.940543 #\n",
      "----- Best value obtained, saving model -----\n",
      "Epoch  91 => avg_loss: 0.012464\n",
      "# Validation loss => 0.048423 | f1-score: pred_iden = 0.974520 pred_dis = 0.939387 #\n",
      "Epoch  92 => avg_loss: 0.012035\n",
      "# Validation loss => 0.048117 | f1-score: pred_iden = 0.974936 pred_dis = 0.940360 #\n",
      "Epoch  93 => avg_loss: 0.011733\n",
      "# Validation loss => 0.048856 | f1-score: pred_iden = 0.974734 pred_dis = 0.940054 #\n",
      "Epoch  94 => avg_loss: 0.011581\n",
      "# Validation loss => 0.050178 | f1-score: pred_iden = 0.974204 pred_dis = 0.939583 #\n",
      "Epoch  95 => avg_loss: 0.011514\n",
      "# Validation loss => 0.047984 | f1-score: pred_iden = 0.974760 pred_dis = 0.940031 #\n",
      "Epoch  96 => avg_loss: 0.011205\n",
      "# Validation loss => 0.049365 | f1-score: pred_iden = 0.974893 pred_dis = 0.940363 #\n",
      "Epoch  97 => avg_loss: 0.011087\n",
      "# Validation loss => 0.049600 | f1-score: pred_iden = 0.975141 pred_dis = 0.940588 #\n",
      "----- Best value obtained, saving model -----\n",
      "Epoch  98 => avg_loss: 0.010785\n",
      "# Validation loss => 0.048922 | f1-score: pred_iden = 0.974721 pred_dis = 0.940520 #\n",
      "Epoch  99 => avg_loss: 0.010597\n",
      "# Validation loss => 0.050313 | f1-score: pred_iden = 0.974928 pred_dis = 0.940651 #\n",
      "----- Best value obtained, saving model -----\n"
     ]
    }
   ],
   "source": [
    "from code_files.utils.Trainer_pid import Trainer_pid\n",
    "\n",
    "trainer_pid = Trainer_pid()\n",
    "\n",
    "history = trainer_pid.train(\n",
    "    model_pid, optimizer_pid, dataloader_train_en_pid, dataloader_dev_en_pid,\n",
    "    epochs=100, device=device,\n",
    "    save_best=True, \n",
    "    min_score=0.8,\n",
    "    save_path_name=os.path.join(model_dir_path, f'pid_transformer_nounited{split_type}.pth'),\n",
    "    saved_history=history\n",
    ")"
   ]
  },
  {
   "cell_type": "code",
   "execution_count": 24,
   "metadata": {},
   "outputs": [
    {
     "data": {
      "image/png": "[encoded data removed]",
      "text/plain": [
       "<Figure size 800x800 with 1 Axes>"
      ]
     },
     "metadata": {},
     "output_type": "display_data"
    }
   ],
   "source": [
    "trainer_pid.display_history(history)"
   ]
  },
  {
   "cell_type": "code",
   "execution_count": 29,
   "metadata": {},
   "outputs": [
    {
     "name": "stdout",
     "output_type": "stream",
     "text": [
      "['The', 'Penukonda', 'train', 'collision', 'occurred', 'in', 'the', 'early', 'hours', 'of', '22', 'May', '2012', ',', 'when', 'the', 'Bangalore', 'bound', 'Hampi', 'Express', 'crashed', 'into', 'a', 'stationary', 'freight', 'train', 'near', 'Penukonda', ',', 'in', 'the', 'Indian', 'state', 'of', 'Andhra', 'Pradesh', '.']\n",
      "['_', '_', '_', 'HIT', 'HAPPEN_OCCUR', '_', '_', '_', '_', '_', '_', '_', '_', '_', '_', '_', '_', '_', '_', '_', 'BREAK_DETERIORATE', '_', '_', '_', '_', '_', '_', '_', '_', '_', '_', '_', '_', '_', '_', '_', '_']\n"
     ]
    }
   ],
   "source": [
    "ssmpl = 3\n",
    "print(dataset_dev_en_pid.data[ssmpl]['words'])\n",
    "print(dataset_dev_en_pid.data[ssmpl]['predicates'])"
   ]
  },
  {
   "cell_type": "code",
   "execution_count": 30,
   "metadata": {},
   "outputs": [
    {
     "name": "stdout",
     "output_type": "stream",
     "text": [
      "['_', '_', '_', 'HIT', 'HAPPEN_OCCUR', '_', '_', '_', '_', '_', '_', '_', '_', '_', '_', '_', '_', '_', '_', '_', 'BREAK_DETERIORATE', '_', '_', '_', '_', '_', '_', '_', '_', '_', '_', '_', '_', '_', '_', '_', '_']\n"
     ]
    }
   ],
   "source": [
    "print(model_pid.predict([dataset_dev_en_pid.data[ssmpl]['words']])[0])"
   ]
  },
  {
   "cell_type": "code",
   "execution_count": null,
   "metadata": {},
   "outputs": [],
   "source": []
  },
  {
   "attachments": {},
   "cell_type": "markdown",
   "metadata": {},
   "source": [
    "# Argument Identification and Classification"
   ]
  },
  {
   "attachments": {},
   "cell_type": "markdown",
   "metadata": {},
   "source": [
    "## Training the Argument Identification and Classification model"
   ]
  },
  {
   "attachments": {},
   "cell_type": "markdown",
   "metadata": {},
   "source": [
    "Currently, in the NoUniteD dataset there are only roles associated with verbal synsets: this means that this part of the training will use only the verbal part"
   ]
  },
  {
   "cell_type": "code",
   "execution_count": 12,
   "metadata": {},
   "outputs": [],
   "source": [
    "split_type = '_v'\n",
    "max_length_train = None"
   ]
  },
  {
   "cell_type": "code",
   "execution_count": 13,
   "metadata": {},
   "outputs": [],
   "source": [
    "dataset_train_en_aic = DatasetNoUniteD(  \n",
    "    srl_dataset_dict_paths['EN']['train'], \n",
    "    split_predicates=True, \n",
    "    split_type_to_use = split_type, \n",
    "    max_length = max_length_train, \n",
    "    shuffle = max_length_train != None )\n",
    "    \n",
    "dataset_dev_en_aic = DatasetNoUniteD(  \n",
    "    srl_dataset_dict_paths['EN']['dev'], \n",
    "    split_predicates=True, \n",
    "    split_type_to_use = split_type, \n",
    "    max_length = int(max_length_train*0.2) if max_length_train != None else max_length_train, \n",
    "    shuffle = max_length_train != None )"
   ]
  },
  {
   "cell_type": "code",
   "execution_count": 15,
   "metadata": {},
   "outputs": [
    {
     "data": {
      "text/plain": [
       "(57749, 12558)"
      ]
     },
     "execution_count": 15,
     "metadata": {},
     "output_type": "execute_result"
    }
   ],
   "source": [
    "len(dataset_train_en_aic.data), len(dataset_dev_en_aic.data)"
   ]
  },
  {
   "cell_type": "code",
   "execution_count": 16,
   "metadata": {},
   "outputs": [
    {
     "name": "stdout",
     "output_type": "stream",
     "text": [
      "{'words': ['The', '2006', 'Pangandaran', 'earthquake', 'and', 'tsunami', 'occurred', 'on', 'July', '17', 'at', 'along', 'a', 'subduction', 'zone', 'off', 'the', 'coast', 'of', 'west', 'and', 'central', 'Java', ',', 'a', 'large', 'and', 'densely', 'populated', 'island', 'in', 'the', 'Indonesian', 'archipelago', '.'], 'predicates': ['_', '_', '_', '_', '_', '_', 'HAPPEN_OCCUR', '_', '_', '_', '_', '_', '_', '_', '_', '_', '_', '_', '_', '_', '_', '_', '_', '_', '_', '_', '_', '_', '_', '_', '_', '_', '_', '_', '_'], 'predicates_v': ['_', '_', '_', '_', '_', '_', 'HAPPEN_OCCUR', '_', '_', '_', '_', '_', '_', '_', '_', '_', '_', '_', '_', '_', '_', '_', '_', '_', '_', '_', '_', '_', '_', '_', '_', '_', '_', '_', '_'], 'predicates_n': ['_', '_', '_', 'MOVE-ONESELF', '_', '_', '_', '_', '_', '_', '_', '_', '_', '_', '_', '_', '_', '_', '_', '_', '_', '_', '_', '_', '_', '_', '_', '_', '_', '_', '_', '_', '_', '_', '_'], 'roles': ['_', '_', '_', 'Theme', '_', '_', '_', '_', '_', '_', '_', '_', '_', '_', '_', '_', '_', '_', '_', '_', '_', '_', '_', '_', '_', '_', '_', '_', '_', '_', '_', '_', '_', '_', '_'], 'roles_v': {'6': ['_', '_', '_', 'Theme', '_', '_', '_', '_', '_', '_', '_', '_', '_', '_', '_', '_', '_', '_', '_', '_', '_', '_', '_', '_', '_', '_', '_', '_', '_', '_', '_', '_', '_', '_', '_']}, 'roles_n': {}, 'num_v': 1, 'num_n': 1, 'lemmas': ['the', '2006', 'Pangandaran', 'earthquake', 'and', 'tsunami', 'occur', 'on', 'July', '17', 'at', 'along', 'a', 'subduction', 'zone', 'off', 'the', 'coast', 'of', 'west', 'and', 'central', 'Java', ',', 'a', 'large', 'and', 'densely', 'populated', 'island', 'in', 'the', 'indonesian', 'archipelago', '.'], 'pos_tags': ['DET', 'NUM', 'PROPN', 'NOUN', 'CCONJ', 'NOUN', 'VERB', 'ADP', 'PROPN', 'NUM', 'ADP', 'ADP', 'DET', 'NOUN', 'NOUN', 'ADP', 'DET', 'NOUN', 'ADP', 'PROPN', 'CCONJ', 'ADJ', 'PROPN', 'PUNCT', 'DET', 'ADJ', 'CCONJ', 'ADV', 'ADJ', 'NOUN', 'ADP', 'DET', 'ADJ', 'NOUN', 'PUNCT'], 'predicate_word': ['occurred'], 'predicate_name': ['HAPPEN_OCCUR']} \n",
      "\n",
      " {'words': ['The', 'ANZACs', 'had', 'landed', 'two', 'divisions', 'but', 'over', 'two', 'thousand', 'of', 'their', 'men', 'had', 'been', 'killed', 'or', 'wounded', ',', 'together', 'with', 'at', 'least', 'a', 'similar', 'number', 'of', 'Turkish', 'casualties', '.'], 'predicates': ['_', '_', '_', 'ARRIVE', '_', '_', '_', '_', '_', '_', '_', '_', '_', '_', '_', '_', '_', '_', '_', '_', '_', '_', '_', '_', '_', '_', '_', '_', '_', '_'], 'predicates_v': ['_', '_', '_', 'ARRIVE', '_', '_', '_', '_', '_', '_', '_', '_', '_', '_', '_', 'KILL', '_', 'HURT_HARM_ACHE', '_', '_', '_', '_', '_', '_', '_', '_', '_', '_', '_', '_'], 'predicates_n': ['_', '_', '_', '_', '_', '_', '_', '_', '_', '_', '_', '_', '_', '_', '_', '_', '_', '_', '_', '_', '_', '_', '_', '_', '_', '_', '_', '_', '_', '_'], 'roles': ['_', 'Agent', '_', '_', '_', 'Patient', '_', '_', '_', '_', '_', '_', '_', '_', '_', '_', '_', '_', '_', '_', '_', '_', '_', '_', '_', '_', '_', '_', '_', '_'], 'roles_v': {'3': ['_', 'Agent', '_', '_', '_', 'Patient', '_', '_', '_', '_', '_', '_', '_', '_', '_', '_', '_', '_', '_', '_', '_', '_', '_', '_', '_', '_', '_', '_', '_', '_'], '15': ['_', '_', '_', '_', '_', '_', '_', '_', '_', 'Patient', '_', '_', '_', '_', '_', '_', '_', '_', '_', '_', '_', '_', '_', '_', '_', '_', '_', '_', '_', '_'], '17': ['_', '_', '_', '_', '_', '_', '_', '_', '_', 'Experiencer', '_', '_', '_', '_', '_', '_', '_', '_', '_', '_', '_', '_', '_', '_', '_', '_', '_', '_', '_', '_']}, 'roles_n': {}, 'num_v': 6, 'num_n': 0, 'lemmas': ['the', 'ANZACs', 'have', 'land', 'two', 'division', 'but', 'over', 'two', 'thousand', 'of', 'their', 'man', 'have', 'be', 'kill', 'or', 'wound', ',', 'together', 'with', 'at', 'least', 'a', 'similar', 'number', 'of', 'turkish', 'casualty', '.'], 'pos_tags': ['DET', 'PROPN', 'AUX', 'VERB', 'NUM', 'NOUN', 'CCONJ', 'ADP', 'NUM', 'NUM', 'ADP', 'PRON', 'NOUN', 'AUX', 'AUX', 'VERB', 'CCONJ', 'VERB', 'PUNCT', 'ADV', 'ADP', 'ADP', 'ADJ', 'DET', 'ADJ', 'NOUN', 'ADP', 'ADJ', 'NOUN', 'PUNCT'], 'predicate_word': ['landed'], 'predicate_name': ['ARRIVE']}\n"
     ]
    }
   ],
   "source": [
    "print(dataset_train_en_aic[0],'\\n\\n',dataset_dev_en_aic[0])"
   ]
  },
  {
   "cell_type": "code",
   "execution_count": 17,
   "metadata": {},
   "outputs": [],
   "source": [
    "from torch.utils.data import DataLoader\n",
    "\n",
    "dataloader_train_en_aic = DataLoader(\n",
    "    dataset_train_en_aic,\n",
    "    batch_size=global_params['batch_size'],\n",
    "    collate_fn=dataset_train_en_aic.create_collate_fn(),\n",
    "    shuffle=True,\n",
    ")\n",
    "\n",
    "dataloader_dev_en_aic = DataLoader(\n",
    "    dataset_dev_en_aic,\n",
    "    batch_size=global_params['batch_size'],\n",
    "    collate_fn=dataset_dev_en_aic.create_collate_fn(),\n",
    "    shuffle=False,\n",
    ")"
   ]
  },
  {
   "cell_type": "code",
   "execution_count": 21,
   "metadata": {},
   "outputs": [],
   "source": [
    "for ex_in in dataloader_dev_en_aic:\n",
    "    break"
   ]
  },
  {
   "cell_type": "code",
   "execution_count": 22,
   "metadata": {},
   "outputs": [
    {
     "name": "stdout",
     "output_type": "stream",
     "text": [
      "['Three', 'coaches', 'derailed', 'as', 'a', 'result', 'of', 'the', 'crash', 'while', 'another', 'caught', 'fire', '.'] \n",
      " ['CATCH'] ['caught'] \n",
      " [0, 0, 0, 0, 0, 0, 0, 0, 0, 0, 0, 1, 0, 0] \n",
      " ['_', '_', '_', '_', '_', '_', '_', '_', '_', '_', 'agent', '_', 'theme', '_']\n"
     ]
    }
   ],
   "source": [
    "smpl_idx = 11\n",
    "print(ex_in['words'][smpl_idx], '\\n', ex_in['predicate_name'][smpl_idx], ex_in['predicate_word'][smpl_idx], '\\n', ex_in['predicates_positions'][smpl_idx], '\\n', ex_in['roles'][smpl_idx])"
   ]
  },
  {
   "cell_type": "code",
   "execution_count": 23,
   "metadata": {},
   "outputs": [],
   "source": [
    "loss_function_aic = torch.nn.CrossEntropyLoss(ignore_index = dataset_train_en_aic.predicates_pad_id) # !"
   ]
  },
  {
   "cell_type": "code",
   "execution_count": 24,
   "metadata": {},
   "outputs": [
    {
     "name": "stderr",
     "output_type": "stream",
     "text": [
      "Some weights of the model checkpoint at xlm-roberta-base were not used when initializing XLMRobertaModel: ['lm_head.bias', 'lm_head.dense.bias', 'lm_head.dense.weight', 'lm_head.layer_norm.bias', 'lm_head.decoder.weight', 'lm_head.layer_norm.weight']\n",
      "- This IS expected if you are initializing XLMRobertaModel from the checkpoint of a model trained on another task or with another architecture (e.g. initializing a BertForSequenceClassification model from a BertForPreTraining model).\n",
      "- This IS NOT expected if you are initializing XLMRobertaModel from the checkpoint of a model that you expect to be exactly identical (initializing a BertForSequenceClassification model from a BertForSequenceClassification model).\n"
     ]
    }
   ],
   "source": [
    "from code_files.models.model_aic import ModelAIC\n",
    "from code_files.utils.utils_functions import print_summary\n",
    "import torch.optim as optim\n",
    "\n",
    "model_aic = ModelAIC(\n",
    "    loss_fn = loss_function_aic,\n",
    "    hparams = global_params,\n",
    "    fine_tune_transformer = True\n",
    ")"
   ]
  },
  {
   "cell_type": "code",
   "execution_count": 25,
   "metadata": {},
   "outputs": [],
   "source": [
    "optimizer_aic = optim.SGD(model_aic.parameters(), lr=0.0016, momentum=0.9)"
   ]
  },
  {
   "cell_type": "code",
   "execution_count": 26,
   "metadata": {},
   "outputs": [
    {
     "name": "stdout",
     "output_type": "stream",
     "text": [
      "parameters: 278,065,180\n",
      "trainable parameters: 278,065,180\n",
      "non-trainable parameters: 0\n"
     ]
    }
   ],
   "source": [
    "print_summary(model_aic, short=True)"
   ]
  },
  {
   "cell_type": "code",
   "execution_count": 27,
   "metadata": {},
   "outputs": [],
   "source": [
    "history = {}"
   ]
  },
  {
   "cell_type": "code",
   "execution_count": 28,
   "metadata": {},
   "outputs": [
    {
     "name": "stdout",
     "output_type": "stream",
     "text": [
      "Epoch   0 => avg_loss: 0.215891\n",
      "# Validation loss => 0.137156 | f1-score: arg_iden = 0.886359 arg_class = 0.521095 #\n",
      "Epoch   1 => avg_loss: 0.119081\n",
      "# Validation loss => 0.100642 | f1-score: arg_iden = 0.913024 arg_class = 0.644978 #\n",
      "Epoch   2 => avg_loss: 0.091073\n",
      "# Validation loss => 0.075748 | f1-score: arg_iden = 0.924366 arg_class = 0.749352 #\n",
      "Epoch   3 => avg_loss: 0.072509\n",
      "# Validation loss => 0.063097 | f1-score: arg_iden = 0.926723 arg_class = 0.805621 #\n",
      "Epoch   4 => avg_loss: 0.060977\n",
      "# Validation loss => 0.053179 | f1-score: arg_iden = 0.933961 arg_class = 0.832661 #\n",
      "Epoch   5 => avg_loss: 0.053109\n",
      "# Validation loss => 0.045826 | f1-score: arg_iden = 0.938062 arg_class = 0.852080 #\n",
      "Epoch   6 => avg_loss: 0.047720\n",
      "# Validation loss => 0.046260 | f1-score: arg_iden = 0.938876 arg_class = 0.857571 #\n",
      "Epoch   7 => avg_loss: 0.043383\n",
      "# Validation loss => 0.042757 | f1-score: arg_iden = 0.938275 arg_class = 0.865181 #\n",
      "Epoch   8 => avg_loss: 0.039919\n",
      "# Validation loss => 0.040047 | f1-score: arg_iden = 0.941461 arg_class = 0.874481 #\n",
      "Epoch   9 => avg_loss: 0.037325\n",
      "# Validation loss => 0.037486 | f1-score: arg_iden = 0.943022 arg_class = 0.880687 #\n",
      "----- Best value obtained, saving model -----\n",
      "Epoch  10 => avg_loss: 0.034749\n",
      "# Validation loss => 0.036744 | f1-score: arg_iden = 0.943331 arg_class = 0.883148 #\n",
      "----- Best value obtained, saving model -----\n",
      "Epoch  11 => avg_loss: 0.032661\n",
      "# Validation loss => 0.035959 | f1-score: arg_iden = 0.943282 arg_class = 0.885684 #\n",
      "----- Best value obtained, saving model -----\n",
      "Epoch  12 => avg_loss: 0.030979\n",
      "# Validation loss => 0.035099 | f1-score: arg_iden = 0.944305 arg_class = 0.889492 #\n",
      "----- Best value obtained, saving model -----\n",
      "Epoch  13 => avg_loss: 0.029089\n",
      "# Validation loss => 0.034726 | f1-score: arg_iden = 0.945342 arg_class = 0.891832 #\n",
      "----- Best value obtained, saving model -----\n",
      "Epoch  14 => avg_loss: 0.027776\n",
      "# Validation loss => 0.033643 | f1-score: arg_iden = 0.946706 arg_class = 0.894752 #\n",
      "----- Best value obtained, saving model -----\n",
      "Epoch  15 => avg_loss: 0.026580\n",
      "# Validation loss => 0.037158 | f1-score: arg_iden = 0.942006 arg_class = 0.889882 #\n",
      "Epoch  16 => avg_loss: 0.025367\n",
      "# Validation loss => 0.034416 | f1-score: arg_iden = 0.945331 arg_class = 0.894484 #\n",
      "Epoch  17 => avg_loss: 0.024161\n",
      "# Validation loss => 0.034793 | f1-score: arg_iden = 0.944093 arg_class = 0.896307 #\n",
      "----- Best value obtained, saving model -----\n",
      "Epoch  18 => avg_loss: 0.023331\n",
      "# Validation loss => 0.032715 | f1-score: arg_iden = 0.945942 arg_class = 0.898026 #\n",
      "----- Best value obtained, saving model -----\n",
      "Epoch  19 => avg_loss: 0.022456\n",
      "# Validation loss => 0.032511 | f1-score: arg_iden = 0.945847 arg_class = 0.899373 #\n",
      "----- Best value obtained, saving model -----\n",
      "Epoch  20 => avg_loss: 0.021570\n",
      "# Validation loss => 0.033324 | f1-score: arg_iden = 0.945583 arg_class = 0.899164 #\n",
      "Epoch  21 => avg_loss: 0.020499\n",
      "# Validation loss => 0.033020 | f1-score: arg_iden = 0.946539 arg_class = 0.900329 #\n",
      "----- Best value obtained, saving model -----\n",
      "Epoch  22 => avg_loss: 0.019938\n",
      "# Validation loss => 0.034087 | f1-score: arg_iden = 0.945248 arg_class = 0.900422 #\n",
      "----- Best value obtained, saving model -----\n",
      "Epoch  23 => avg_loss: 0.019264\n",
      "# Validation loss => 0.033729 | f1-score: arg_iden = 0.946176 arg_class = 0.901250 #\n",
      "----- Best value obtained, saving model -----\n",
      "Epoch  24 => avg_loss: 0.018589\n",
      "# Validation loss => 0.033076 | f1-score: arg_iden = 0.947616 arg_class = 0.902578 #\n",
      "----- Best value obtained, saving model -----\n",
      "Epoch  25 => avg_loss: 0.018128\n",
      "# Validation loss => 0.032780 | f1-score: arg_iden = 0.947650 arg_class = 0.904628 #\n",
      "----- Best value obtained, saving model -----\n",
      "Epoch  26 => avg_loss: 0.017428\n",
      "# Validation loss => 0.034048 | f1-score: arg_iden = 0.945790 arg_class = 0.902323 #\n",
      "Epoch  27 => avg_loss: 0.017018\n",
      "# Validation loss => 0.032691 | f1-score: arg_iden = 0.946846 arg_class = 0.904468 #\n",
      "Epoch  28 => avg_loss: 0.016507\n",
      "# Validation loss => 0.032873 | f1-score: arg_iden = 0.946808 arg_class = 0.903693 #\n",
      "Epoch  29 => avg_loss: 0.016062\n",
      "# Validation loss => 0.033452 | f1-score: arg_iden = 0.947516 arg_class = 0.904887 #\n",
      "----- Best value obtained, saving model -----\n",
      "Epoch  30 => avg_loss: 0.015444\n",
      "# Validation loss => 0.032203 | f1-score: arg_iden = 0.947721 arg_class = 0.906313 #\n",
      "----- Best value obtained, saving model -----\n",
      "Epoch  31 => avg_loss: 0.014972\n",
      "# Validation loss => 0.032639 | f1-score: arg_iden = 0.947634 arg_class = 0.906472 #\n",
      "----- Best value obtained, saving model -----\n",
      "Epoch  32 => avg_loss: 0.014582\n",
      "# Validation loss => 0.032413 | f1-score: arg_iden = 0.947749 arg_class = 0.907094 #\n",
      "----- Best value obtained, saving model -----\n",
      "Epoch  33 => avg_loss: 0.014188\n",
      "# Validation loss => 0.033515 | f1-score: arg_iden = 0.948366 arg_class = 0.906796 #\n",
      "Epoch  34 => avg_loss: 0.014000\n",
      "# Validation loss => 0.032314 | f1-score: arg_iden = 0.947703 arg_class = 0.908013 #\n",
      "----- Best value obtained, saving model -----\n",
      "Epoch  35 => avg_loss: 0.013477\n",
      "# Validation loss => 0.033004 | f1-score: arg_iden = 0.947475 arg_class = 0.906756 #\n",
      "Epoch  36 => avg_loss: 0.012877\n",
      "# Validation loss => 0.032619 | f1-score: arg_iden = 0.948594 arg_class = 0.907650 #\n",
      "Epoch  37 => avg_loss: 0.012576\n",
      "# Validation loss => 0.032769 | f1-score: arg_iden = 0.947867 arg_class = 0.909046 #\n",
      "----- Best value obtained, saving model -----\n",
      "Epoch  38 => avg_loss: 0.012337\n",
      "# Validation loss => 0.034048 | f1-score: arg_iden = 0.947866 arg_class = 0.908850 #\n",
      "Epoch  39 => avg_loss: 0.012163\n",
      "# Validation loss => 0.033527 | f1-score: arg_iden = 0.948090 arg_class = 0.909602 #\n",
      "----- Best value obtained, saving model -----\n",
      "Epoch  40 => avg_loss: 0.011754\n",
      "# Validation loss => 0.035074 | f1-score: arg_iden = 0.947565 arg_class = 0.907783 #\n",
      "Epoch  41 => avg_loss: 0.011356\n",
      "# Validation loss => 0.033814 | f1-score: arg_iden = 0.946971 arg_class = 0.908188 #\n",
      "Epoch  42 => avg_loss: 0.011133\n",
      "# Validation loss => 0.036037 | f1-score: arg_iden = 0.947027 arg_class = 0.905991 #\n",
      "Epoch  43 => avg_loss: 0.010708\n",
      "# Validation loss => 0.034315 | f1-score: arg_iden = 0.949056 arg_class = 0.910180 #\n",
      "----- Best value obtained, saving model -----\n",
      "Epoch  44 => avg_loss: 0.010938\n",
      "# Validation loss => 0.035073 | f1-score: arg_iden = 0.948206 arg_class = 0.908295 #\n",
      "Epoch  45 => avg_loss: 0.010426\n",
      "# Validation loss => 0.035524 | f1-score: arg_iden = 0.948312 arg_class = 0.910225 #\n",
      "----- Best value obtained, saving model -----\n",
      "Epoch  46 => avg_loss: 0.010109\n",
      "# Validation loss => 0.035780 | f1-score: arg_iden = 0.948265 arg_class = 0.908639 #\n",
      "Epoch  47 => avg_loss: 0.009964\n",
      "# Validation loss => 0.035424 | f1-score: arg_iden = 0.948865 arg_class = 0.909070 #\n",
      "Epoch  48 => avg_loss: 0.009601\n",
      "# Validation loss => 0.037153 | f1-score: arg_iden = 0.948585 arg_class = 0.910374 #\n",
      "----- Best value obtained, saving model -----\n",
      "Epoch  49 => avg_loss: 0.009446\n",
      "# Validation loss => 0.035141 | f1-score: arg_iden = 0.948714 arg_class = 0.910194 #\n",
      "Epoch  50 => avg_loss: 0.009237\n",
      "# Validation loss => 0.035933 | f1-score: arg_iden = 0.948836 arg_class = 0.910367 #\n",
      "Epoch  51 => avg_loss: 0.009065\n",
      "# Validation loss => 0.036165 | f1-score: arg_iden = 0.948373 arg_class = 0.909829 #\n",
      "Epoch  52 => avg_loss: 0.008690\n",
      "# Validation loss => 0.036102 | f1-score: arg_iden = 0.949339 arg_class = 0.910225 #\n",
      "Epoch  53 => avg_loss: 0.008676\n",
      "# Validation loss => 0.036793 | f1-score: arg_iden = 0.948831 arg_class = 0.910471 #\n",
      "----- Best value obtained, saving model -----\n",
      "Epoch  54 => avg_loss: 0.008277\n",
      "# Validation loss => 0.035760 | f1-score: arg_iden = 0.947899 arg_class = 0.909120 #\n",
      "Epoch  55 => avg_loss: 0.008339\n",
      "# Validation loss => 0.038430 | f1-score: arg_iden = 0.948616 arg_class = 0.911500 #\n",
      "----- Best value obtained, saving model -----\n",
      "Epoch  56 => avg_loss: 0.008198\n",
      "# Validation loss => 0.036166 | f1-score: arg_iden = 0.948967 arg_class = 0.911787 #\n",
      "----- Best value obtained, saving model -----\n",
      "Epoch  57 => avg_loss: 0.007843\n",
      "# Validation loss => 0.037741 | f1-score: arg_iden = 0.948255 arg_class = 0.908911 #\n",
      "Epoch  58 => avg_loss: 0.007837\n",
      "# Validation loss => 0.037964 | f1-score: arg_iden = 0.948738 arg_class = 0.911218 #\n",
      "Epoch  59 => avg_loss: 0.007640\n",
      "# Validation loss => 0.037720 | f1-score: arg_iden = 0.949034 arg_class = 0.911042 #\n",
      "Epoch  60 => avg_loss: 0.007645\n",
      "# Validation loss => 0.037191 | f1-score: arg_iden = 0.947721 arg_class = 0.910845 #\n",
      "Epoch  61 => avg_loss: 0.007371\n",
      "# Validation loss => 0.037849 | f1-score: arg_iden = 0.948578 arg_class = 0.910776 #\n",
      "Epoch  62 => avg_loss: 0.007166\n",
      "# Validation loss => 0.037290 | f1-score: arg_iden = 0.948469 arg_class = 0.911626 #\n",
      "Epoch  63 => avg_loss: 0.007113\n",
      "# Validation loss => 0.038038 | f1-score: arg_iden = 0.948553 arg_class = 0.911390 #\n",
      "Epoch  64 => avg_loss: 0.006981\n",
      "# Validation loss => 0.039159 | f1-score: arg_iden = 0.948921 arg_class = 0.910566 #\n",
      "Epoch  65 => avg_loss: 0.006838\n",
      "# Validation loss => 0.039733 | f1-score: arg_iden = 0.948900 arg_class = 0.910157 #\n",
      "Epoch  66 => avg_loss: 0.006682\n",
      "# Validation loss => 0.039289 | f1-score: arg_iden = 0.948569 arg_class = 0.911767 #\n",
      "Epoch  67 => avg_loss: 0.006633\n",
      "# Validation loss => 0.039575 | f1-score: arg_iden = 0.948500 arg_class = 0.911964 #\n",
      "----- Best value obtained, saving model -----\n",
      "Epoch  68 => avg_loss: 0.006420\n",
      "# Validation loss => 0.039847 | f1-score: arg_iden = 0.948506 arg_class = 0.911291 #\n",
      "Epoch  69 => avg_loss: 0.006546\n",
      "# Validation loss => 0.040450 | f1-score: arg_iden = 0.948145 arg_class = 0.911394 #\n",
      "Epoch  70 => avg_loss: 0.006271\n",
      "# Validation loss => 0.039981 | f1-score: arg_iden = 0.948387 arg_class = 0.910850 #\n",
      "Epoch  71 => avg_loss: 0.006127\n",
      "# Validation loss => 0.039531 | f1-score: arg_iden = 0.948608 arg_class = 0.911343 #\n",
      "Epoch  72 => avg_loss: 0.006189\n",
      "# Validation loss => 0.040106 | f1-score: arg_iden = 0.949169 arg_class = 0.912280 #\n",
      "----- Best value obtained, saving model -----\n",
      "Epoch  73 => avg_loss: 0.005956\n",
      "# Validation loss => 0.041201 | f1-score: arg_iden = 0.948822 arg_class = 0.911952 #\n",
      "Epoch  74 => avg_loss: 0.005828\n",
      "# Validation loss => 0.040432 | f1-score: arg_iden = 0.949168 arg_class = 0.911385 #\n",
      "Epoch  75 => avg_loss: 0.005898\n",
      "# Validation loss => 0.041245 | f1-score: arg_iden = 0.948965 arg_class = 0.911787 #\n",
      "Epoch  76 => avg_loss: 0.005743\n",
      "# Validation loss => 0.040157 | f1-score: arg_iden = 0.948903 arg_class = 0.912255 #\n",
      "Epoch  77 => avg_loss: 0.005668\n",
      "# Validation loss => 0.042339 | f1-score: arg_iden = 0.948138 arg_class = 0.911593 #\n",
      "Epoch  78 => avg_loss: 0.005531\n",
      "# Validation loss => 0.042052 | f1-score: arg_iden = 0.947938 arg_class = 0.909383 #\n",
      "Epoch  79 => avg_loss: 0.005585\n",
      "# Validation loss => 0.041559 | f1-score: arg_iden = 0.948153 arg_class = 0.911802 #\n",
      "Epoch  80 => avg_loss: 0.005402\n",
      "# Validation loss => 0.042204 | f1-score: arg_iden = 0.947506 arg_class = 0.909707 #\n",
      "Epoch  81 => avg_loss: 0.005365\n",
      "# Validation loss => 0.039996 | f1-score: arg_iden = 0.948239 arg_class = 0.912707 #\n",
      "----- Best value obtained, saving model -----\n",
      "Epoch  82 => avg_loss: 0.005356\n",
      "# Validation loss => 0.041659 | f1-score: arg_iden = 0.948555 arg_class = 0.911572 #\n",
      "Epoch  83 => avg_loss: 0.005153\n",
      "# Validation loss => 0.042704 | f1-score: arg_iden = 0.948018 arg_class = 0.910697 #\n",
      "Epoch  84 => avg_loss: 0.005131\n",
      "# Validation loss => 0.041988 | f1-score: arg_iden = 0.947350 arg_class = 0.910665 #\n",
      "Epoch  85 => avg_loss: 0.005092\n",
      "# Validation loss => 0.041981 | f1-score: arg_iden = 0.948008 arg_class = 0.911660 #\n",
      "Epoch  86 => avg_loss: 0.004959\n",
      "# Validation loss => 0.041313 | f1-score: arg_iden = 0.949169 arg_class = 0.913052 #\n",
      "----- Best value obtained, saving model -----\n",
      "Epoch  87 => avg_loss: 0.004922\n",
      "# Validation loss => 0.043433 | f1-score: arg_iden = 0.948801 arg_class = 0.912046 #\n",
      "Epoch  88 => avg_loss: 0.004882\n",
      "# Validation loss => 0.042779 | f1-score: arg_iden = 0.948635 arg_class = 0.911546 #\n",
      "Epoch  89 => avg_loss: 0.004802\n",
      "# Validation loss => 0.042820 | f1-score: arg_iden = 0.947837 arg_class = 0.910693 #\n",
      "Epoch  90 => avg_loss: 0.004750\n",
      "# Validation loss => 0.042847 | f1-score: arg_iden = 0.948882 arg_class = 0.912011 #\n",
      "Epoch  91 => avg_loss: 0.004744\n",
      "# Validation loss => 0.043250 | f1-score: arg_iden = 0.947699 arg_class = 0.911597 #\n",
      "Epoch  92 => avg_loss: 0.004677\n",
      "# Validation loss => 0.043545 | f1-score: arg_iden = 0.949103 arg_class = 0.912558 #\n",
      "Epoch  93 => avg_loss: 0.004501\n",
      "# Validation loss => 0.043206 | f1-score: arg_iden = 0.948112 arg_class = 0.911263 #\n",
      "Epoch  94 => avg_loss: 0.004636\n",
      "# Validation loss => 0.043125 | f1-score: arg_iden = 0.948658 arg_class = 0.912313 #\n",
      "Epoch  95 => avg_loss: 0.004516\n",
      "# Validation loss => 0.044236 | f1-score: arg_iden = 0.948476 arg_class = 0.912561 #\n",
      "Epoch  96 => avg_loss: 0.004348\n",
      "# Validation loss => 0.044272 | f1-score: arg_iden = 0.948290 arg_class = 0.911635 #\n",
      "Epoch  97 => avg_loss: 0.004344\n",
      "# Validation loss => 0.044020 | f1-score: arg_iden = 0.948440 arg_class = 0.911634 #\n",
      "Epoch  98 => avg_loss: 0.004277\n",
      "# Validation loss => 0.043642 | f1-score: arg_iden = 0.948121 arg_class = 0.911159 #\n",
      "Epoch  99 => avg_loss: 0.004208\n",
      "# Validation loss => 0.044403 | f1-score: arg_iden = 0.949863 arg_class = 0.913971 #\n",
      "----- Best value obtained, saving model -----\n"
     ]
    }
   ],
   "source": [
    "from code_files.utils.Trainer_aic import Trainer_aic\n",
    "\n",
    "trainer_aic = Trainer_aic()\n",
    "\n",
    "history = trainer_aic.train(\n",
    "    model_aic, optimizer_aic, dataloader_train_en_aic, dataloader_dev_en_aic,\n",
    "    epochs=100, device=device,\n",
    "    save_best=True, \n",
    "    min_score=0.877,\n",
    "    save_path_name=os.path.join(model_dir_path, f'aic_transformer_nounited{split_type}.pth'),\n",
    "    saved_history=history\n",
    ")"
   ]
  },
  {
   "cell_type": "code",
   "execution_count": 29,
   "metadata": {},
   "outputs": [
    {
     "data": {
      "image/png": "[encoded data removed]",
      "text/plain": [
       "<Figure size 800x800 with 1 Axes>"
      ]
     },
     "metadata": {},
     "output_type": "display_data"
    }
   ],
   "source": [
    "trainer_aic.display_history(history)"
   ]
  },
  {
   "cell_type": "code",
   "execution_count": 59,
   "metadata": {},
   "outputs": [
    {
     "name": "stdout",
     "output_type": "stream",
     "text": [
      "['Since', '1916', 'the', 'anniversary', 'of', 'the', 'landings', 'on', '25', 'April', 'has', 'been', 'commemorated', 'as', 'Anzac', 'Day', ',', 'becoming', 'one', 'of', 'the', 'most', 'important', 'national', 'celebrations', 'in', 'Australia', 'and', 'New', 'Zealand', '.']\n",
      "['CELEBRATE_PARTY'] ['commemorated']\n",
      "['_', '_', '_', 'Theme', '_', '_', '_', '_', '_', '_', '_', '_', '_', 'Attribute', '_', '_', '_', '_', '_', '_', '_', '_', '_', '_', '_', '_', '_', '_', '_', '_', '_']\n"
     ]
    }
   ],
   "source": [
    "ssmpl = 3\n",
    "print(dataset_dev_en_aic.data[ssmpl]['words'])\n",
    "print(dataset_dev_en_aic.data[ssmpl]['predicate_name'], dataset_dev_en_aic.data[ssmpl]['predicate_word'])\n",
    "print(dataset_dev_en_aic.data[ssmpl]['roles'])"
   ]
  },
  {
   "cell_type": "code",
   "execution_count": 60,
   "metadata": {},
   "outputs": [
    {
     "name": "stdout",
     "output_type": "stream",
     "text": [
      "['_', '_', '_', 'theme', '_', '_', '_', '_', '_', '_', '_', '_', '_', 'attribute', '_', '_', '_', '_', '_', '_', '_', '_', '_', '_', '_', '_', '_', '_', '_', '_', '_']\n"
     ]
    }
   ],
   "source": [
    "print( model_aic.predict([dataset_dev_en_aic.data[ssmpl]['words']], [dataset_dev_en_aic.data[ssmpl]['predicate_word']])[0] )"
   ]
  },
  {
   "cell_type": "code",
   "execution_count": null,
   "metadata": {},
   "outputs": [],
   "source": []
  }
 ],
 "metadata": {
  "kernelspec": {
   "display_name": "nuans_minihw2",
   "language": "python",
   "name": "python3"
  },
  "language_info": {
   "codemirror_mode": {
    "name": "ipython",
    "version": 3
   },
   "file_extension": ".py",
   "mimetype": "text/x-python",
   "name": "python",
   "nbconvert_exporter": "python",
   "pygments_lexer": "ipython3",
   "version": "3.9.15"
  },
  "orig_nbformat": 4,
  "vscode": {
   "interpreter": {
    "hash": "a8ff4b25b18867855edb86ba2aaa718c4e3e5e5df1f72ad6de2c0263a3e32427"
   }
  }
 },
 "nbformat": 4,
 "nbformat_minor": 2
}
