{
 "cells": [
  {
   "cell_type": "code",
   "execution_count": 1,
   "metadata": {},
   "outputs": [
    {
     "name": "stderr",
     "output_type": "stream",
     "text": [
      "/home/marco/miniconda3/envs/nuans_minihw2/lib/python3.9/site-packages/tqdm/auto.py:22: TqdmWarning: IProgress not found. Please update jupyter and ipywidgets. See https://ipywidgets.readthedocs.io/en/stable/user_install.html\n",
      "  from .autonotebook import tqdm as notebook_tqdm\n"
     ]
    }
   ],
   "source": [
    "import spacy\n",
    "from spacy.tokens import Doc as SpacyDoc\n",
    "import json"
   ]
  },
  {
   "cell_type": "code",
   "execution_count": 2,
   "metadata": {},
   "outputs": [],
   "source": [
    "nlp = spacy.load('en_core_web_sm')\n",
    "nlp.tokenizer=lambda doc: doc"
   ]
  },
  {
   "cell_type": "code",
   "execution_count": 3,
   "metadata": {},
   "outputs": [],
   "source": [
    "with open('../datasets/united-srl/EN/dev.json') as json_file:\n",
    "    d = json.load(json_file)\n",
    "d = list(d.values()) if type(d) == dict else d"
   ]
  },
  {
   "cell_type": "code",
   "execution_count": 21,
   "metadata": {},
   "outputs": [
    {
     "name": "stdout",
     "output_type": "stream",
     "text": [
      "['He', 'urges', 'the', 'Government', 'to', 'take', 'measures', 'to', 'protect', 'persons', 'who', 'have', 'received', 'death', 'threats', '.']\n",
      "[2, 0, 4, 2, 6, 2, 6, 9, 6, 9, 13, 13, 10, 15, 13, 2]\n",
      "['nsubj', 'root', 'det', 'obj', 'mark', 'xcomp', 'obj', 'mark', 'advcl', 'obj', 'nsubj', 'aux', 'acl:relcl', 'compound', 'obj', 'punct']\n"
     ]
    }
   ],
   "source": [
    "smpl = 4\n",
    "print( d[smpl]['words'] )\n",
    "print( d[smpl]['dependency_heads'] )\n",
    "print( d[smpl]['dependency_relations'] )"
   ]
  },
  {
   "cell_type": "code",
   "execution_count": 22,
   "metadata": {},
   "outputs": [],
   "source": [
    "spacy_result = nlp(SpacyDoc(nlp.vocab, d[smpl]['words']))"
   ]
  },
  {
   "cell_type": "code",
   "execution_count": 23,
   "metadata": {},
   "outputs": [
    {
     "name": "stdout",
     "output_type": "stream",
     "text": [
      "He nsubj 1 urges\n",
      "urges ROOT 1 urges\n",
      "the det 3 Government\n",
      "Government dobj 1 urges\n",
      "to aux 5 take\n",
      "take xcomp 1 urges\n",
      "measures dobj 5 take\n",
      "to aux 8 protect\n",
      "protect relcl 6 measures\n",
      "persons dobj 8 protect\n",
      "who nsubj 12 received\n",
      "have aux 12 received\n",
      "received relcl 9 persons\n",
      "death compound 14 threats\n",
      "threats dobj 12 received\n",
      ". punct 1 urges\n"
     ]
    }
   ],
   "source": [
    "for token in spacy_result:\n",
    "    print(token, token.dep_, token.head.i, token.head)"
   ]
  },
  {
   "cell_type": "code",
   "execution_count": null,
   "metadata": {},
   "outputs": [],
   "source": []
  }
 ],
 "metadata": {
  "kernelspec": {
   "display_name": "nuans_minihw2",
   "language": "python",
   "name": "python3"
  },
  "language_info": {
   "codemirror_mode": {
    "name": "ipython",
    "version": 3
   },
   "file_extension": ".py",
   "mimetype": "text/x-python",
   "name": "python",
   "nbconvert_exporter": "python",
   "pygments_lexer": "ipython3",
   "version": "3.9.15"
  },
  "orig_nbformat": 4,
  "vscode": {
   "interpreter": {
    "hash": "a8ff4b25b18867855edb86ba2aaa718c4e3e5e5df1f72ad6de2c0263a3e32427"
   }
  }
 },
 "nbformat": 4,
 "nbformat_minor": 2
}
